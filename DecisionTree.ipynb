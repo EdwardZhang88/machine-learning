{
 "cells": [
  {
   "cell_type": "code",
   "execution_count": 123,
   "metadata": {
    "collapsed": true
   },
   "outputs": [],
   "source": [
    "import numpy as np\n",
    "import math\n",
    "\n",
    "# Calculate Entropy\n",
    "def shannonEntropy(data):\n",
    "    numEntries = len(data)\n",
    "    labelCounts = {}\n",
    "    for record in data:\n",
    "        label = record[-1]\n",
    "        if label not in labelCounts:\n",
    "            labelCounts[label] = 1\n",
    "        else:\n",
    "            labelCounts[label] += 1\n",
    "    shannonEnt = 0\n",
    "    \n",
    "    for key in labelCounts:\n",
    "        prob = labelCounts[key]/(numEntries*1.0)\n",
    "        #print('prob %f' %prob)\n",
    "        shannonEnt -= prob * math.log(prob, 2)\n",
    "    return shannonEnt  "
   ]
  },
  {
   "cell_type": "code",
   "execution_count": 150,
   "metadata": {
    "collapsed": false
   },
   "outputs": [
    {
     "name": "stdout",
     "output_type": "stream",
     "text": [
      "0.0\n"
     ]
    }
   ],
   "source": [
    "dataSet = np.array([[0,0,'yes'],[0,1,'yes'],[1,0,'yes'],[1,0,'yes']])\n",
    "print(shannonEntropy(dataSet))"
   ]
  },
  {
   "cell_type": "code",
   "execution_count": 151,
   "metadata": {
    "collapsed": false
   },
   "outputs": [
    {
     "name": "stdout",
     "output_type": "stream",
     "text": [
      "0.811278124459\n"
     ]
    }
   ],
   "source": [
    "dataSet = np.array([[0,0,'yes'],[0,1,'no'],[1,0,'yes'],[1,1,'yes']])\n",
    "print(shannonEntropy(dataSet))"
   ]
  },
  {
   "cell_type": "code",
   "execution_count": 152,
   "metadata": {
    "collapsed": false
   },
   "outputs": [
    {
     "name": "stdout",
     "output_type": "stream",
     "text": [
      "1.0\n"
     ]
    }
   ],
   "source": [
    "dataSet = np.array([[0,0,'yes'],[0,1,'no'],[1,0,'no'],[1,1,'yes']])\n",
    "print(shannonEntropy(dataSet))"
   ]
  },
  {
   "cell_type": "markdown",
   "metadata": {},
   "source": [
    "### Entropy value indicates impurity of data. 熵的值越大，则数据纯度越低；如果熵的值是最大值1，则数据的纯度最低，即每种label的数据均匀分布。"
   ]
  },
  {
   "cell_type": "code",
   "execution_count": 161,
   "metadata": {
    "collapsed": true
   },
   "outputs": [],
   "source": [
    "# Split the data by a feature\n",
    "def splitData(data,featureNameInx,featureValue):\n",
    "    selectedData = []\n",
    "    for record in data:\n",
    "\n",
    "        if str(record[featureNameInx]) == str(featureValue):\n",
    "            # Remove record[featureNameInx] from the record\n",
    "            reducedFeatVec = list(record[:featureNameInx]) + list(record[featureNameInx+1:])\n",
    "            selectedData.append(reducedFeatVec)\n",
    "\n",
    "    return selectedData"
   ]
  },
  {
   "cell_type": "code",
   "execution_count": 154,
   "metadata": {
    "collapsed": false
   },
   "outputs": [
    {
     "name": "stdout",
     "output_type": "stream",
     "text": [
      "[['0', 'no'], ['1', 'yes']]\n"
     ]
    }
   ],
   "source": [
    "print((splitData(dataSet,0,1)))"
   ]
  },
  {
   "cell_type": "code",
   "execution_count": 215,
   "metadata": {
    "collapsed": true
   },
   "outputs": [],
   "source": [
    "# Iterate all features and split the data in such a way that maximun entropy/info gain is achieved.\n",
    "def bestFeatureSplit(data):\n",
    "    baseEntropy = shannonEntropy(data)\n",
    "    bestInfoGain = 0.0\n",
    "    bestFeature = -1\n",
    "    \n",
    "    # The last 'feature' is actually the label/class\n",
    "    numFeatures = len(data[0]) - 1\n",
    "    for i in range(numFeatures):\n",
    "        print(i)\n",
    "        # Get the distinct value set for the ith column\n",
    "        uniqueVals = set([record[i] for record in data])\n",
    "        totalNewEntropy = 0.0\n",
    "        for v in uniqueVals:\n",
    "            subData = splitData(data, i, v)\n",
    "            prob = len(subData)/(len(data)*1.0)\n",
    "            totalNewEntropy += prob*shannonEntropy(subData)\n",
    "            \n",
    "        infoGain = baseEntropy - totalNewEntropy\n",
    "        print(infoGain)\n",
    "        if infoGain > bestInfoGain :\n",
    "            bestInfoGain = infoGain\n",
    "            bestFeature = i\n",
    "    return bestFeature\n"
   ]
  },
  {
   "cell_type": "code",
   "execution_count": 155,
   "metadata": {
    "collapsed": false
   },
   "outputs": [
    {
     "name": "stdout",
     "output_type": "stream",
     "text": [
      "1\n"
     ]
    }
   ],
   "source": [
    "dataSet = np.array([[0,0,'yes'],[0,1,'no'],[1,0,'yes'],[1,1,'no']])\n",
    "print(bestFeatureSplit(dataSet))"
   ]
  },
  {
   "cell_type": "code",
   "execution_count": 174,
   "metadata": {
    "collapsed": true
   },
   "outputs": [],
   "source": [
    "# Build the decision tree in Recursion\n",
    "def createTree(data, featureNames):\n",
    "    classList = [record[-1] for record in data]\n",
    "    # Return if all data have the same label\n",
    "    uniqueLabels = set(classList)\n",
    "    if len(uniqueLabels) == 1:\n",
    "        print('Return if all data have the same label')\n",
    "        return classList[0]\n",
    "    \n",
    "    # Return if there are no more feature columns\n",
    "    if len(data[0]) == 1:\n",
    "        print('Return if there are no more feature columns')\n",
    "        return majorityCnt(classList)\n",
    "    \n",
    "    # Select the feature that best split the data \n",
    "    bestFeatureInx = bestFeatureSplit(data)\n",
    "    bestFeatName = featureNames[bestFeatureInx]\n",
    "    print('Split by feature name '+bestFeatName)\n",
    "    myTree = {bestFeatName:{}}\n",
    "    del(featureNames[bestFeatureInx])\n",
    "    \n",
    "    # Recursively split the data within each splited set\n",
    "    featValues = [record[bestFeatureInx] for record in data]\n",
    "    uniqueVals = set(featValues)\n",
    "    print(uniqueVals)\n",
    "    for v in uniqueVals:\n",
    "        print(v)\n",
    "        subfeatureNames = featureNames[:]\n",
    "        myTree[bestFeatName][v] = createTree(splitData(data,bestFeatureInx,v),subfeatureNames)\n",
    "    \n",
    "    # Final Decision Tree is a nested dict\n",
    "    return myTree"
   ]
  },
  {
   "cell_type": "code",
   "execution_count": 157,
   "metadata": {
    "collapsed": true
   },
   "outputs": [],
   "source": [
    "def majorityCnt(labelList):\n",
    "    classCount = {}\n",
    "    for c in labelList:\n",
    "        if c not in classCount:\n",
    "            classCount[c] = 1\n",
    "        else:\n",
    "            classCount[c] += 1\n",
    "            \n",
    "    sortedClassCount = sorted(classCount.items(), key=lambda d: d[1], reverse=True)\n",
    "    return sortedClassCount[0][0]"
   ]
  },
  {
   "cell_type": "code",
   "execution_count": 177,
   "metadata": {
    "collapsed": false
   },
   "outputs": [
    {
     "name": "stdout",
     "output_type": "stream",
     "text": [
      "Split by feature name Flippers\n",
      "set(['SmallFeet', 'BigFeet'])\n",
      "SmallFeet\n",
      "Return if all data have the same label\n",
      "BigFeet\n",
      "Split by feature name No Surfacing\n",
      "set(['NoSurf'])\n",
      "NoSurf\n",
      "Return if there are no more feature columns\n",
      "{'Flippers': {'SmallFeet': 'No', 'BigFeet': {'No Surfacing': {'NoSurf': 'No'}}}}\n"
     ]
    }
   ],
   "source": [
    "featureNames = ['No Surfacing','Flippers','Fish']\n",
    "dataSet = np.array([['NoSurf','BigFeet','Yes'],['Surf','SmallFeet','No'],['NoSurf','BigFeet','No'],['NoSurf','SmallFeet','No'],['NoSurf','BigFeet','No']])\n",
    "tree = createTree(dataSet,featureNames)\n",
    "print(tree)\n"
   ]
  },
  {
   "cell_type": "markdown",
   "metadata": {},
   "source": [
    "### Classifier\n",
    "### Below is a ID3 implementation. It works well on categorical data."
   ]
  },
  {
   "cell_type": "code",
   "execution_count": 189,
   "metadata": {
    "collapsed": true
   },
   "outputs": [],
   "source": [
    "def decisionTreeClassifer(decisionTree, testData, featureNames):\n",
    "    firstFeature = decisionTree.keys()[0]\n",
    "    featureInx = featureNames.index(firstFeature)\n",
    "    subDict = decisionTree[firstFeature]\n",
    "    \n",
    "    for key in subDict.keys():\n",
    "        if testData[featureInx] == key:\n",
    "            if type(subDict[key]).__name__ == 'dict':\n",
    "                classLabel = decisionTreeClassifer(subDict[key], testData, featureNames)\n",
    "            else:\n",
    "                classLabel = subDict[key]\n",
    "    return classLabel "
   ]
  },
  {
   "cell_type": "code",
   "execution_count": 190,
   "metadata": {
    "collapsed": false
   },
   "outputs": [
    {
     "name": "stdout",
     "output_type": "stream",
     "text": [
      "No\n"
     ]
    }
   ],
   "source": [
    "featureNames = ['No Surfacing','Flippers','Fish']\n",
    "testData = ['NoSurf','BigFeet','Yes']\n",
    "print(decisionTreeClassifer(tree, testData, featureNames))"
   ]
  },
  {
   "cell_type": "code",
   "execution_count": 192,
   "metadata": {
    "collapsed": false
   },
   "outputs": [
    {
     "data": {
      "text/html": [
       "<div>\n",
       "<style>\n",
       "    .dataframe thead tr:only-child th {\n",
       "        text-align: right;\n",
       "    }\n",
       "\n",
       "    .dataframe thead th {\n",
       "        text-align: left;\n",
       "    }\n",
       "\n",
       "    .dataframe tbody tr th {\n",
       "        vertical-align: top;\n",
       "    }\n",
       "</style>\n",
       "<table border=\"1\" class=\"dataframe\">\n",
       "  <thead>\n",
       "    <tr style=\"text-align: right;\">\n",
       "      <th></th>\n",
       "      <th>Age</th>\n",
       "      <th>Spectacle</th>\n",
       "      <th>Astigmatic</th>\n",
       "      <th>Tear</th>\n",
       "      <th>Type</th>\n",
       "    </tr>\n",
       "  </thead>\n",
       "  <tbody>\n",
       "    <tr>\n",
       "      <th>0</th>\n",
       "      <td>young</td>\n",
       "      <td>myope</td>\n",
       "      <td>no</td>\n",
       "      <td>reduced</td>\n",
       "      <td>no lenses</td>\n",
       "    </tr>\n",
       "    <tr>\n",
       "      <th>1</th>\n",
       "      <td>young</td>\n",
       "      <td>myope</td>\n",
       "      <td>no</td>\n",
       "      <td>normal</td>\n",
       "      <td>soft</td>\n",
       "    </tr>\n",
       "    <tr>\n",
       "      <th>2</th>\n",
       "      <td>young</td>\n",
       "      <td>myope</td>\n",
       "      <td>yes</td>\n",
       "      <td>reduced</td>\n",
       "      <td>no lenses</td>\n",
       "    </tr>\n",
       "    <tr>\n",
       "      <th>3</th>\n",
       "      <td>young</td>\n",
       "      <td>myope</td>\n",
       "      <td>yes</td>\n",
       "      <td>normal</td>\n",
       "      <td>hard</td>\n",
       "    </tr>\n",
       "    <tr>\n",
       "      <th>4</th>\n",
       "      <td>young</td>\n",
       "      <td>hyper</td>\n",
       "      <td>no</td>\n",
       "      <td>reduced</td>\n",
       "      <td>no lenses</td>\n",
       "    </tr>\n",
       "  </tbody>\n",
       "</table>\n",
       "</div>"
      ],
      "text/plain": [
       "     Age Spectacle Astigmatic     Tear       Type\n",
       "0  young     myope         no  reduced  no lenses\n",
       "1  young     myope         no   normal       soft\n",
       "2  young     myope        yes  reduced  no lenses\n",
       "3  young     myope        yes   normal       hard\n",
       "4  young     hyper         no  reduced  no lenses"
      ]
     },
     "execution_count": 192,
     "metadata": {},
     "output_type": "execute_result"
    }
   ],
   "source": [
    "import pandas as pd\n",
    "\n",
    "data = pd.read_csv('Lenses.txt', sep=\"\\t\", header=None)\n",
    "data.columns = [\"Age\", \"Spectacle\", \"Astigmatic\", \"Tear\",\"Type\"]\n",
    "\n",
    "data.head()"
   ]
  },
  {
   "cell_type": "code",
   "execution_count": 217,
   "metadata": {
    "collapsed": false
   },
   "outputs": [
    {
     "name": "stdout",
     "output_type": "stream",
     "text": [
      "0\n",
      "0.0393965036461\n",
      "1\n",
      "0.0395108354236\n",
      "2\n",
      "0.377005230011\n",
      "3\n",
      "0.548794940695\n",
      "Split by feature name Tear\n",
      "set(['reduced', 'normal'])\n",
      "reduced\n",
      "Return if all data have the same label\n",
      "normal\n",
      "0\n",
      "0.221251836004\n",
      "1\n",
      "0.0954372523106\n",
      "2\n",
      "0.770426041486\n",
      "Split by feature name Astigmatic\n",
      "set(['yes', 'no'])\n",
      "yes\n",
      "0\n",
      "0.251629167388\n",
      "1\n",
      "0.459147917027\n",
      "Split by feature name Spectacle\n",
      "set(['hyper', 'myope'])\n",
      "hyper\n",
      "0\n",
      "0.918295834054\n",
      "Split by feature name Age\n",
      "set(['pre', 'presbyopic', 'young'])\n",
      "pre\n",
      "Return if all data have the same label\n",
      "presbyopic\n",
      "Return if all data have the same label\n",
      "young\n",
      "Return if all data have the same label\n",
      "myope\n",
      "Return if all data have the same label\n",
      "no\n",
      "0\n",
      "0.316689088315\n",
      "1\n",
      "0.190874504621\n",
      "Split by feature name Age\n",
      "set(['pre', 'presbyopic', 'young'])\n",
      "pre\n",
      "Return if all data have the same label\n",
      "presbyopic\n",
      "0\n",
      "1.0\n",
      "Split by feature name Spectacle\n",
      "set(['hyper', 'myope'])\n",
      "hyper\n",
      "Return if all data have the same label\n",
      "myope\n",
      "Return if all data have the same label\n",
      "young\n",
      "Return if all data have the same label\n",
      "{'Tear': {'reduced': 'no lenses', 'normal': {'Astigmatic': {'yes': {'Spectacle': {'hyper': {'Age': {'pre': 'no lenses', 'presbyopic': 'no lenses', 'young': 'hard'}}, 'myope': 'hard'}}, 'no': {'Age': {'pre': 'soft', 'presbyopic': {'Spectacle': {'hyper': 'soft', 'myope': 'no lenses'}}, 'young': 'soft'}}}}}}\n"
     ]
    }
   ],
   "source": [
    "leneseTree = createTree(data.values,list(data.columns))\n",
    "print(leneseTree)"
   ]
  },
  {
   "cell_type": "code",
   "execution_count": null,
   "metadata": {
    "collapsed": true
   },
   "outputs": [],
   "source": []
  }
 ],
 "metadata": {
  "kernelspec": {
   "display_name": "Python [Root]",
   "language": "python",
   "name": "Python [Root]"
  },
  "language_info": {
   "codemirror_mode": {
    "name": "ipython",
    "version": 2
   },
   "file_extension": ".py",
   "mimetype": "text/x-python",
   "name": "python",
   "nbconvert_exporter": "python",
   "pygments_lexer": "ipython2",
   "version": "2.7.12"
  }
 },
 "nbformat": 4,
 "nbformat_minor": 0
}
