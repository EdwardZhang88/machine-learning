{
 "cells": [
  {
   "cell_type": "code",
   "execution_count": 15,
   "metadata": {
    "collapsed": true
   },
   "outputs": [],
   "source": [
    "import numpy as np\n",
    "\n",
    "def KNNClassifier(testData, trainingData, trainingLabel, k):\n",
    "    # Calculate euclidean distance\n",
    "    diffMat = np.tile(testData, (trainingData.shape[0], 1)) - trainingData\n",
    "    sqDiffMat = diffMat ** 2\n",
    "    sqDistance = sqDiffMat.sum(axis=1)\n",
    "    distances = sqDistance ** 0.5\n",
    "    sortedDistIndices = distances.argsort()\n",
    "    \n",
    "    # Select the nearest k and their labels\n",
    "    classCount = {}\n",
    "    for i in range(k):\n",
    "        voteLabel = trainingLabel[sortedDistIndices[i]]\n",
    "        if voteLabel not in classCount:\n",
    "            classCount[voteLabel] = 1\n",
    "        else:\n",
    "            classCount[voteLabel] += 1\n",
    "    \n",
    "    # Return the most common label\n",
    "    sortedclassCount = sorted(classCount.items(), key=lambda d: d[1], reverse=True)\n",
    "    return sortedclassCount[0][0]"
   ]
  },
  {
   "cell_type": "code",
   "execution_count": 17,
   "metadata": {
    "collapsed": false
   },
   "outputs": [
    {
     "name": "stdout",
     "output_type": "stream",
     "text": [
      "A\n"
     ]
    }
   ],
   "source": [
    "testData = [1.0,0.8]\n",
    "trainingData = np.array([[1.0, 1.1],[1.0,1.0],[0.1,0.1],[0.1,0]])\n",
    "trainingLabel = ['A','A','B','B']\n",
    "\n",
    "print(KNNClassifier(testData,trainingData,trainingLabel,3))"
   ]
  },
  {
   "cell_type": "code",
   "execution_count": 19,
   "metadata": {
    "collapsed": false
   },
   "outputs": [
    {
     "data": {
      "text/html": [
       "<div>\n",
       "<style>\n",
       "    .dataframe thead tr:only-child th {\n",
       "        text-align: right;\n",
       "    }\n",
       "\n",
       "    .dataframe thead th {\n",
       "        text-align: left;\n",
       "    }\n",
       "\n",
       "    .dataframe tbody tr th {\n",
       "        vertical-align: top;\n",
       "    }\n",
       "</style>\n",
       "<table border=\"1\" class=\"dataframe\">\n",
       "  <thead>\n",
       "    <tr style=\"text-align: right;\">\n",
       "      <th></th>\n",
       "      <th>flightMiles</th>\n",
       "      <th>videoGamesPct</th>\n",
       "      <th>iceCream</th>\n",
       "      <th>like</th>\n",
       "    </tr>\n",
       "  </thead>\n",
       "  <tbody>\n",
       "    <tr>\n",
       "      <th>0</th>\n",
       "      <td>40920</td>\n",
       "      <td>8.326976</td>\n",
       "      <td>0.953952</td>\n",
       "      <td>3</td>\n",
       "    </tr>\n",
       "    <tr>\n",
       "      <th>1</th>\n",
       "      <td>14488</td>\n",
       "      <td>7.153469</td>\n",
       "      <td>1.673904</td>\n",
       "      <td>2</td>\n",
       "    </tr>\n",
       "    <tr>\n",
       "      <th>2</th>\n",
       "      <td>26052</td>\n",
       "      <td>1.441871</td>\n",
       "      <td>0.805124</td>\n",
       "      <td>1</td>\n",
       "    </tr>\n",
       "    <tr>\n",
       "      <th>3</th>\n",
       "      <td>75136</td>\n",
       "      <td>13.147394</td>\n",
       "      <td>0.428964</td>\n",
       "      <td>1</td>\n",
       "    </tr>\n",
       "    <tr>\n",
       "      <th>4</th>\n",
       "      <td>38344</td>\n",
       "      <td>1.669788</td>\n",
       "      <td>0.134296</td>\n",
       "      <td>1</td>\n",
       "    </tr>\n",
       "  </tbody>\n",
       "</table>\n",
       "</div>"
      ],
      "text/plain": [
       "   flightMiles  videoGamesPct  iceCream  like\n",
       "0        40920       8.326976  0.953952     3\n",
       "1        14488       7.153469  1.673904     2\n",
       "2        26052       1.441871  0.805124     1\n",
       "3        75136      13.147394  0.428964     1\n",
       "4        38344       1.669788  0.134296     1"
      ]
     },
     "execution_count": 19,
     "metadata": {},
     "output_type": "execute_result"
    }
   ],
   "source": [
    "import pandas as pd\n",
    "\n",
    "data = pd.read_csv('KNNDateData.txt', sep=\"\\t\", header=None)\n",
    "data.columns = [\"flightMiles\", \"videoGamesPct\", \"iceCream\", \"like\"]\n",
    "\n",
    "data.head()"
   ]
  },
  {
   "cell_type": "code",
   "execution_count": 40,
   "metadata": {
    "collapsed": false
   },
   "outputs": [
    {
     "data": {
      "image/png": "[encoded data removed]",
      "text/plain": [
       "<matplotlib.figure.Figure at 0x113e42b90>"
      ]
     },
     "metadata": {},
     "output_type": "display_data"
    }
   ],
   "source": [
    "import matplotlib.pyplot as plt\n",
    "%matplotlib inline\n",
    "\n",
    "dislike = data[data.like==1]\n",
    "median = data[data.like==2]\n",
    "charm = data[data.like==3]\n",
    "plt.scatter(dislike['flightMiles'], dislike['videoGamesPct'], marker = '*', label = 'dislike')\n",
    "plt.scatter(median['flightMiles'], median['videoGamesPct'], marker = 'D', label = 'median')\n",
    "plt.scatter(charm['flightMiles'], charm['videoGamesPct'], marker = 's', label = 'charm')\n",
    "plt.xlabel('flightMiles')\n",
    "plt.ylabel('videoGamesPct')\n",
    "plt.legend()\n",
    "plt.show()"
   ]
  },
  {
   "cell_type": "code",
   "execution_count": 41,
   "metadata": {
    "collapsed": false
   },
   "outputs": [
    {
     "data": {
      "image/png": "[encoded data removed]",
      "text/plain": [
       "<matplotlib.figure.Figure at 0x1139dcbd0>"
      ]
     },
     "metadata": {},
     "output_type": "display_data"
    }
   ],
   "source": [
    "plt.scatter(dislike['iceCream'], dislike['videoGamesPct'], marker = '*', label = 'dislike')\n",
    "plt.scatter(median['iceCream'], median['videoGamesPct'], marker = 'D', label = 'median')\n",
    "plt.scatter(charm['iceCream'], charm['videoGamesPct'], marker = 's', label = 'charm')\n",
    "plt.xlabel('iceCream')\n",
    "plt.ylabel('videoGamesPct')\n",
    "plt.legend()\n",
    "plt.show()"
   ]
  },
  {
   "cell_type": "code",
   "execution_count": 42,
   "metadata": {
    "collapsed": false
   },
   "outputs": [
    {
     "name": "stdout",
     "output_type": "stream",
     "text": [
      "<class 'pandas.core.frame.DataFrame'>\n",
      "RangeIndex: 1000 entries, 0 to 999\n",
      "Data columns (total 4 columns):\n",
      "flightMiles      1000 non-null int64\n",
      "videoGamesPct    1000 non-null float64\n",
      "iceCream         1000 non-null float64\n",
      "like             1000 non-null int64\n",
      "dtypes: float64(2), int64(2)\n",
      "memory usage: 31.3 KB\n"
     ]
    }
   ],
   "source": [
    "data.info()"
   ]
  },
  {
   "cell_type": "code",
   "execution_count": 44,
   "metadata": {
    "collapsed": false
   },
   "outputs": [
    {
     "data": {
      "text/html": [
       "<div>\n",
       "<style>\n",
       "    .dataframe thead tr:only-child th {\n",
       "        text-align: right;\n",
       "    }\n",
       "\n",
       "    .dataframe thead th {\n",
       "        text-align: left;\n",
       "    }\n",
       "\n",
       "    .dataframe tbody tr th {\n",
       "        vertical-align: top;\n",
       "    }\n",
       "</style>\n",
       "<table border=\"1\" class=\"dataframe\">\n",
       "  <thead>\n",
       "    <tr style=\"text-align: right;\">\n",
       "      <th></th>\n",
       "      <th>flightMiles</th>\n",
       "      <th>videoGamesPct</th>\n",
       "      <th>iceCream</th>\n",
       "      <th>like</th>\n",
       "    </tr>\n",
       "  </thead>\n",
       "  <tbody>\n",
       "    <tr>\n",
       "      <th>count</th>\n",
       "      <td>1000.000000</td>\n",
       "      <td>1000.000000</td>\n",
       "      <td>1000.000000</td>\n",
       "      <td>1000.000000</td>\n",
       "    </tr>\n",
       "    <tr>\n",
       "      <th>mean</th>\n",
       "      <td>33635.421000</td>\n",
       "      <td>6.559961</td>\n",
       "      <td>0.832073</td>\n",
       "      <td>1.985000</td>\n",
       "    </tr>\n",
       "    <tr>\n",
       "      <th>std</th>\n",
       "      <td>21957.006833</td>\n",
       "      <td>4.243618</td>\n",
       "      <td>0.497239</td>\n",
       "      <td>0.818196</td>\n",
       "    </tr>\n",
       "    <tr>\n",
       "      <th>min</th>\n",
       "      <td>0.000000</td>\n",
       "      <td>0.000000</td>\n",
       "      <td>0.001156</td>\n",
       "      <td>1.000000</td>\n",
       "    </tr>\n",
       "    <tr>\n",
       "      <th>25%</th>\n",
       "      <td>13796.000000</td>\n",
       "      <td>2.933963</td>\n",
       "      <td>0.408995</td>\n",
       "      <td>1.000000</td>\n",
       "    </tr>\n",
       "    <tr>\n",
       "      <th>50%</th>\n",
       "      <td>31669.000000</td>\n",
       "      <td>6.595204</td>\n",
       "      <td>0.809420</td>\n",
       "      <td>2.000000</td>\n",
       "    </tr>\n",
       "    <tr>\n",
       "      <th>75%</th>\n",
       "      <td>47716.250000</td>\n",
       "      <td>10.056500</td>\n",
       "      <td>1.272847</td>\n",
       "      <td>3.000000</td>\n",
       "    </tr>\n",
       "    <tr>\n",
       "      <th>max</th>\n",
       "      <td>91273.000000</td>\n",
       "      <td>20.919349</td>\n",
       "      <td>1.695517</td>\n",
       "      <td>3.000000</td>\n",
       "    </tr>\n",
       "  </tbody>\n",
       "</table>\n",
       "</div>"
      ],
      "text/plain": [
       "        flightMiles  videoGamesPct     iceCream         like\n",
       "count   1000.000000    1000.000000  1000.000000  1000.000000\n",
       "mean   33635.421000       6.559961     0.832073     1.985000\n",
       "std    21957.006833       4.243618     0.497239     0.818196\n",
       "min        0.000000       0.000000     0.001156     1.000000\n",
       "25%    13796.000000       2.933963     0.408995     1.000000\n",
       "50%    31669.000000       6.595204     0.809420     2.000000\n",
       "75%    47716.250000      10.056500     1.272847     3.000000\n",
       "max    91273.000000      20.919349     1.695517     3.000000"
      ]
     },
     "execution_count": 44,
     "metadata": {},
     "output_type": "execute_result"
    }
   ],
   "source": [
    "data.describe()"
   ]
  },
  {
   "cell_type": "code",
   "execution_count": 51,
   "metadata": {
    "collapsed": false
   },
   "outputs": [
    {
     "name": "stdout",
     "output_type": "stream",
     "text": [
      "flightMiles      91273.000000\n",
      "videoGamesPct       20.919349\n",
      "iceCream             1.694361\n",
      "like                 2.000000\n",
      "dtype: float64\n"
     ]
    }
   ],
   "source": [
    "print(data.max() - data.min())"
   ]
  },
  {
   "cell_type": "code",
   "execution_count": 52,
   "metadata": {
    "collapsed": true
   },
   "outputs": [],
   "source": [
    "# Min-Max Normalization\n",
    "def minMaxNorm(dataMat):\n",
    "    maxVals = dataMat.max()\n",
    "    minVals = dataMat.min()\n",
    "    return (dataMat - minVals)/(maxVals - minVals)\n"
   ]
  },
  {
   "cell_type": "code",
   "execution_count": 56,
   "metadata": {
    "collapsed": false
   },
   "outputs": [
    {
     "data": {
      "text/html": [
       "<div>\n",
       "<style>\n",
       "    .dataframe thead tr:only-child th {\n",
       "        text-align: right;\n",
       "    }\n",
       "\n",
       "    .dataframe thead th {\n",
       "        text-align: left;\n",
       "    }\n",
       "\n",
       "    .dataframe tbody tr th {\n",
       "        vertical-align: top;\n",
       "    }\n",
       "</style>\n",
       "<table border=\"1\" class=\"dataframe\">\n",
       "  <thead>\n",
       "    <tr style=\"text-align: right;\">\n",
       "      <th></th>\n",
       "      <th>flightMiles</th>\n",
       "      <th>videoGamesPct</th>\n",
       "      <th>iceCream</th>\n",
       "      <th>like</th>\n",
       "    </tr>\n",
       "  </thead>\n",
       "  <tbody>\n",
       "    <tr>\n",
       "      <th>0</th>\n",
       "      <td>0.448325</td>\n",
       "      <td>0.398051</td>\n",
       "      <td>0.562334</td>\n",
       "      <td>1.0</td>\n",
       "    </tr>\n",
       "    <tr>\n",
       "      <th>1</th>\n",
       "      <td>0.158733</td>\n",
       "      <td>0.341955</td>\n",
       "      <td>0.987244</td>\n",
       "      <td>0.5</td>\n",
       "    </tr>\n",
       "    <tr>\n",
       "      <th>2</th>\n",
       "      <td>0.285429</td>\n",
       "      <td>0.068925</td>\n",
       "      <td>0.474496</td>\n",
       "      <td>0.0</td>\n",
       "    </tr>\n",
       "    <tr>\n",
       "      <th>3</th>\n",
       "      <td>0.823201</td>\n",
       "      <td>0.628480</td>\n",
       "      <td>0.252489</td>\n",
       "      <td>0.0</td>\n",
       "    </tr>\n",
       "    <tr>\n",
       "      <th>4</th>\n",
       "      <td>0.420102</td>\n",
       "      <td>0.079820</td>\n",
       "      <td>0.078578</td>\n",
       "      <td>0.0</td>\n",
       "    </tr>\n",
       "  </tbody>\n",
       "</table>\n",
       "</div>"
      ],
      "text/plain": [
       "   flightMiles  videoGamesPct  iceCream  like\n",
       "0     0.448325       0.398051  0.562334   1.0\n",
       "1     0.158733       0.341955  0.987244   0.5\n",
       "2     0.285429       0.068925  0.474496   0.0\n",
       "3     0.823201       0.628480  0.252489   0.0\n",
       "4     0.420102       0.079820  0.078578   0.0"
      ]
     },
     "execution_count": 56,
     "metadata": {},
     "output_type": "execute_result"
    }
   ],
   "source": [
    "normData = minMaxNorm(data)\n",
    "normData.head()"
   ]
  },
  {
   "cell_type": "code",
   "execution_count": 60,
   "metadata": {
    "collapsed": false
   },
   "outputs": [
    {
     "data": {
      "text/plain": [
       "0.5"
      ]
     },
     "execution_count": 60,
     "metadata": {},
     "output_type": "execute_result"
    }
   ],
   "source": [
    "normData.values[1,-1]"
   ]
  },
  {
   "cell_type": "code",
   "execution_count": 66,
   "metadata": {
    "collapsed": false
   },
   "outputs": [
    {
     "name": "stdout",
     "output_type": "stream",
     "text": [
      "The total error rate is 0.075000\n"
     ]
    }
   ],
   "source": [
    "# Testing\n",
    "\n",
    "N = normData.shape[0]\n",
    "testRatio = 0.4\n",
    "n = int(testRatio * N) # 0 - n will be used for testing; n - N will be used for training\n",
    "errorCount = 0\n",
    "normDataMat = normData.values\n",
    "\n",
    "\n",
    "for i in range(n):\n",
    "    classiferResult = KNNClassifier(normDataMat[i,:-1],normDataMat[n:,:-1],normDataMat[n:,-1],3)\n",
    "    groundTruth = normDataMat[i,-1]\n",
    "    if (classiferResult != groundTruth):\n",
    "        errorCount += 1\n",
    "        \n",
    "print(\"The total error rate is %f\" %(errorCount/float(n)))"
   ]
  },
  {
   "cell_type": "code",
   "execution_count": null,
   "metadata": {
    "collapsed": true
   },
   "outputs": [],
   "source": [
    "# Prediction"
   ]
  }
 ],
 "metadata": {
  "anaconda-cloud": {},
  "kernelspec": {
   "display_name": "Python [Root]",
   "language": "python",
   "name": "Python [Root]"
  },
  "language_info": {
   "codemirror_mode": {
    "name": "ipython",
    "version": 2
   },
   "file_extension": ".py",
   "mimetype": "text/x-python",
   "name": "python",
   "nbconvert_exporter": "python",
   "pygments_lexer": "ipython2",
   "version": "2.7.12"
  }
 },
 "nbformat": 4,
 "nbformat_minor": 0
}
