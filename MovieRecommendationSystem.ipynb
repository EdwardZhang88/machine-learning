{
 "cells": [
  {
   "cell_type": "code",
   "execution_count": 1,
   "metadata": {
    "collapsed": false
   },
   "outputs": [
    {
     "data": {
      "image/png": "[encoded data removed]",
      "text/plain": [
       "<matplotlib.figure.Figure at 0x11a5f5fd0>"
      ]
     },
     "metadata": {},
     "output_type": "display_data"
    }
   ],
   "source": [
    "#数据集包含100000条用户电影评分，其中9430被抽出来做测试。\n",
    "#Collaborative Filtering Systems推荐系统使用Pearson Correlation Similarity Measure寻找相似度最高的用户。\n",
    "#以下我尝试使用机器学习的聚类算法对电影进行分类；特定用户对特定电影的预测评分将是该用户对该电影所在聚类的均值评分。\n",
    "\n",
    "import pandas as pd\n",
    "import numpy as np \n",
    "import math \n",
    "\n",
    "import matplotlib.pyplot as plt\n",
    "import seaborn as sns\n",
    "\n",
    "from sklearn.decomposition import PCA\n",
    "from sklearn.cluster import KMeans\n",
    "from sklearn.metrics import mean_squared_error\n",
    "\n",
    "%matplotlib inline \n",
    "\n",
    "\n",
    "#读取Movies数据\n",
    "names = ['movie_id','movie_title','release_date','video_release_date',\n",
    "              'IMDb_URL','unknown','Action','Adventure','Animation',\n",
    "              'Children','Comedy','Crime','Documentary','Drama','Fantasy', \n",
    "              'Film-Noir','Horror','Musical','Mystery','Romance','Sci-Fi', \n",
    "              'Thriller','War','Western']\n",
    "movies = pd.read_table('Recommendation_data/u.item', sep='|', header=None, names=names)\n",
    "movies_genre = movies.ix[:,6:]\n",
    "\n",
    "#计算Movies类型矩阵的特征值和特征向量\n",
    "mean_vec = np.mean(movies_genre, axis=0)\n",
    "cov_mat = np.cov(movies_genre.T)\n",
    "eig_vals, eig_vecs = np.linalg.eig(cov_mat)\n",
    "eig_pairs = [ (np.abs(eig_vals[i]),eig_vecs[:,i]) for i in range(len(eig_vals))]\n",
    "\n",
    "eig_pairs.sort(key = lambda x: x[0], reverse= True)\n",
    "\n",
    "tot = sum(eig_vals)\n",
    "var_exp = [(i/tot)*100 for i in sorted(eig_vals, reverse=True)] \n",
    "cum_var_exp = np.cumsum(var_exp)\n",
    "\n",
    "#选取主要成分的维数\n",
    "plt.figure(figsize=(10, 5))\n",
    "plt.bar(range(18), var_exp, alpha=0.3333, align='center', label='individual explained variance', color = 'g')\n",
    "plt.step(range(18), cum_var_exp, where='mid',label='cumulative explained variance')\n",
    "plt.ylabel('Explained variance ratio')\n",
    "plt.xlabel('Principal components')\n",
    "plt.legend(loc='best')\n",
    "plt.show()\n"
   ]
  },
  {
   "cell_type": "code",
   "execution_count": 2,
   "metadata": {
    "collapsed": false
   },
   "outputs": [
    {
     "data": {
      "text/plain": [
       "array([[ 0.80600899,  0.41113697,  0.48581643,  0.1860538 ,  0.39006354,\n",
       "        -0.67679207,  0.0087999 ,  0.39217085, -0.2794839 ,  0.3694447 ],\n",
       "       [ 0.34032144, -1.30358194, -0.08145307,  0.13841112, -0.41378311,\n",
       "        -0.41717544,  0.06387956, -0.06770069,  0.05048498, -0.59779835],\n",
       "       [ 0.15884273, -0.60255532, -0.08195047, -0.69319401,  0.20785322,\n",
       "        -0.17105468,  0.17099464,  0.05925162,  0.14633722, -0.12079749],\n",
       "       [-0.00931359,  0.26418695,  0.12291535,  0.30701683, -1.0959244 ,\n",
       "        -0.08000186,  0.01655945,  0.31887652, -0.24933984,  0.01903654],\n",
       "       [-0.67369651, -0.36994271, -0.05823788, -0.80094756, -0.19975073,\n",
       "        -0.41947847, -0.63914919, -0.27094763, -0.15380729,  0.11432883]])"
      ]
     },
     "execution_count": 2,
     "metadata": {},
     "output_type": "execute_result"
    }
   ],
   "source": [
    "#Movies类型矩阵的维度从18维降至10维可以仍然保留90%的信息量\n",
    "#应用PCA\n",
    "movies_genre_array = movies_genre.as_matrix(columns=None)\n",
    "pca = PCA(n_components=10)\n",
    "pca.fit(movies_genre_array)\n",
    "movies_genre_pca = pca.transform(movies_genre_array)\n",
    "movies_genre_pca[:5]"
   ]
  },
  {
   "cell_type": "code",
   "execution_count": 3,
   "metadata": {
    "collapsed": false
   },
   "outputs": [
    {
     "name": "stderr",
     "output_type": "stream",
     "text": [
      "/Users/edwzhang/anaconda/lib/python2.7/site-packages/matplotlib/axes/_axes.py:519: UserWarning: No labelled objects found. Use label='...' kwarg on individual plots.\n",
      "  warnings.warn(\"No labelled objects found. \"\n"
     ]
    },
    {
     "data": {
      "image/png": "[encoded data removed]",
      "text/plain": [
       "<matplotlib.figure.Figure at 0x105f65e10>"
      ]
     },
     "metadata": {},
     "output_type": "display_data"
    }
   ],
   "source": [
    "#选取K-Means的聚类族数\n",
    "x =[]\n",
    "y =[]\n",
    "for i in range(100):\n",
    "    movies_genre_cluster = KMeans(n_clusters=i+1, random_state=0).fit(movies_genre_pca)\n",
    "    x.append(i+1)\n",
    "    y.append(movies_genre_cluster.inertia_)\n",
    "plt.figure(figsize=(10, 5))\n",
    "plt.plot(x,y, 'go')\n",
    "plt.ylabel('Inertia')\n",
    "plt.xlabel('# of Clusters')\n",
    "plt.legend(loc='best')\n",
    "plt.show()"
   ]
  },
  {
   "cell_type": "code",
   "execution_count": 4,
   "metadata": {
    "collapsed": false
   },
   "outputs": [
    {
     "data": {
      "text/plain": [
       "array([ 9, 23,  8, 19, 36], dtype=int32)"
      ]
     },
     "execution_count": 4,
     "metadata": {},
     "output_type": "execute_result"
    }
   ],
   "source": [
    "#将PCA降维得到的新的Movies类型矩阵应用K-Means划分成50个聚类\n",
    "movies_genre_cluster = KMeans(n_clusters=50, random_state=0).fit(movies_genre_pca)\n",
    "movies_genre_cluster.labels_[:5]"
   ]
  },
  {
   "cell_type": "code",
   "execution_count": 26,
   "metadata": {
    "collapsed": false
   },
   "outputs": [
    {
     "data": {
      "text/plain": [
       "user_id  cluster_id\n",
       "1        0             4.230769\n",
       "         1             3.592593\n",
       "         2             4.222222\n",
       "         3             3.500000\n",
       "         4             1.750000\n",
       "Name: rating, dtype: float64"
      ]
     },
     "execution_count": 26,
     "metadata": {},
     "output_type": "execute_result"
    }
   ],
   "source": [
    "#读取用户及评分数据并将其与电影数据合并\n",
    "movies['cluster_id'] = movies_genre_cluster.labels_\n",
    "names = ['user_id','age','gender','occupation','zip_code']\n",
    "users = pd.read_table('Recommendation_data/u.user', sep='|', header=None, names=names)\n",
    "\n",
    "names = ['user_id','movie_id','rating','timestamp']\n",
    "ratings = pd.read_table('Recommendation_data/u.base', sep='\\t', header=None, names=names)\n",
    "\n",
    "ratings_full = pd.merge(pd.merge(ratings,movies, on='movie_id'), users, on='user_id')\n",
    "\n",
    "#计算每个用户对其评价过的电影所在聚类的均值矩阵\n",
    "ratings_by_cluster = ratings_full.pivot_table(values='rating', index=['user_id', 'cluster_id'], aggfunc=np.mean)\n",
    "ratings_by_cluster[:5]"
   ]
  },
  {
   "cell_type": "code",
   "execution_count": 27,
   "metadata": {
    "collapsed": false
   },
   "outputs": [
    {
     "data": {
      "text/html": [
       "<div>\n",
       "<table border=\"1\" class=\"dataframe\">\n",
       "  <thead>\n",
       "    <tr style=\"text-align: right;\">\n",
       "      <th></th>\n",
       "      <th>user_id</th>\n",
       "      <th>movie_id</th>\n",
       "      <th>rating</th>\n",
       "      <th>timestamp</th>\n",
       "      <th>avgRatingByCluster</th>\n",
       "    </tr>\n",
       "  </thead>\n",
       "  <tbody>\n",
       "    <tr>\n",
       "      <th>0</th>\n",
       "      <td>1</td>\n",
       "      <td>20</td>\n",
       "      <td>4</td>\n",
       "      <td>887431883</td>\n",
       "      <td>3.583333</td>\n",
       "    </tr>\n",
       "    <tr>\n",
       "      <th>1</th>\n",
       "      <td>1</td>\n",
       "      <td>33</td>\n",
       "      <td>4</td>\n",
       "      <td>878542699</td>\n",
       "      <td>4.000000</td>\n",
       "    </tr>\n",
       "    <tr>\n",
       "      <th>2</th>\n",
       "      <td>1</td>\n",
       "      <td>61</td>\n",
       "      <td>4</td>\n",
       "      <td>878542420</td>\n",
       "      <td>4.230769</td>\n",
       "    </tr>\n",
       "    <tr>\n",
       "      <th>3</th>\n",
       "      <td>1</td>\n",
       "      <td>117</td>\n",
       "      <td>3</td>\n",
       "      <td>874965739</td>\n",
       "      <td>2.333333</td>\n",
       "    </tr>\n",
       "    <tr>\n",
       "      <th>4</th>\n",
       "      <td>1</td>\n",
       "      <td>155</td>\n",
       "      <td>2</td>\n",
       "      <td>878542201</td>\n",
       "      <td>3.000000</td>\n",
       "    </tr>\n",
       "  </tbody>\n",
       "</table>\n",
       "</div>"
      ],
      "text/plain": [
       "   user_id  movie_id  rating  timestamp  avgRatingByCluster\n",
       "0        1        20       4  887431883            3.583333\n",
       "1        1        33       4  878542699            4.000000\n",
       "2        1        61       4  878542420            4.230769\n",
       "3        1       117       3  874965739            2.333333\n",
       "4        1       155       2  878542201            3.000000"
      ]
     },
     "execution_count": 27,
     "metadata": {},
     "output_type": "execute_result"
    }
   ],
   "source": [
    "\n",
    "names = ['user_id','movie_id','rating','timestamp']\n",
    "test = pd.read_table('Recommendation_data/u.test', sep='\\t', header=None, names=names)\n",
    "\n",
    "#返回用户对指定电影所在聚类的评分均值。如果用户尚未对指定聚类的任何电影给出评分，则返回NaN\n",
    "def getAvgRatingByCluster(user_id,movie_id):\n",
    "    avgRatingByCluster = float((ratings_by_cluster[user_id][movies[movies.movie_id==movie_id].cluster_id]))\n",
    "    return avgRatingByCluster\n",
    "\n",
    "#对测试数据计算预测值       \n",
    "test['avgRatingByCluster'] = test.apply(lambda row: getAvgRatingByCluster(row['user_id'], row['movie_id']), axis=1)\n",
    "test[:5]"
   ]
  },
  {
   "cell_type": "code",
   "execution_count": 28,
   "metadata": {
    "collapsed": false
   },
   "outputs": [
    {
     "name": "stdout",
     "output_type": "stream",
     "text": [
      "2320\n",
      "1.1484145721\n"
     ]
    }
   ],
   "source": [
    "#其中有2320条数据为NaN\n",
    "#对预测值不为空的计算MSE\n",
    "print len(test[np.isnan(test.avgRatingByCluster)])\n",
    "print np.sqrt(mean_squared_error(test[~np.isnan(test.avgRatingByCluster)].rating, test[~np.isnan(test.avgRatingByCluster)].avgRatingByCluster))"
   ]
  },
  {
   "cell_type": "code",
   "execution_count": 29,
   "metadata": {
    "collapsed": false
   },
   "outputs": [
    {
     "name": "stderr",
     "output_type": "stream",
     "text": [
      "/Users/edwzhang/anaconda/lib/python2.7/site-packages/ipykernel/__main__.py:5: PerformanceWarning: indexing past lexsort depth may impact performance.\n"
     ]
    },
    {
     "data": {
      "text/plain": [
       "[['Net, The (1995)'],\n",
       " ['So I Married an Axe Murderer (1993)'],\n",
       " ['Akira (1988)'],\n",
       " ['Mimic (1997)'],\n",
       " ['FairyTale: A True Story (1997)'],\n",
       " ['Sphere (1998)'],\n",
       " ['Ghost (1990)'],\n",
       " ['Close Shave, A (1995)'],\n",
       " ['Old Yeller (1957)'],\n",
       " ['Parent Trap, The (1961)'],\n",
       " ['E.T. the Extra-Terrestrial (1982)'],\n",
       " ['To Catch a Thief (1955)'],\n",
       " ['Another Stakeout (1993)'],\n",
       " ['Body Snatchers (1993)'],\n",
       " ['Secret Garden, The (1993)'],\n",
       " ['So Dear to My Heart (1949)'],\n",
       " ['Arsenic and Old Lace (1944)'],\n",
       " ['Body Snatchers (1993)'],\n",
       " ['Dark City (1998)'],\n",
       " ['Fluke (1995)'],\n",
       " ['Lawnmower Man 2: Beyond Cyberspace (1996)'],\n",
       " ['Bogus (1996)'],\n",
       " ['Unforgettable (1996)'],\n",
       " ['Island of Dr. Moreau, The (1996)'],\n",
       " ['Charade (1963)'],\n",
       " ['Head Above Water (1996)'],\n",
       " ['Shiloh (1997)'],\n",
       " ['Little Princess, A (1995)'],\n",
       " ['Kim (1950)'],\n",
       " ['Virtuosity (1995)'],\n",
       " ['Robocop 3 (1993)'],\n",
       " ['Little Princess, The (1939)'],\n",
       " ['Tainted (1998)']]"
      ]
     },
     "execution_count": 29,
     "metadata": {},
     "output_type": "execute_result"
    }
   ],
   "source": [
    "#为用户推荐尚未评分的电影。推荐电影来自于用户评分电影所属的电影聚类均分前三名所包含的所有用户尚未单独评分的电影。\n",
    "ratings_by_cluster_df = pd.DataFrame(ratings_by_cluster)\n",
    "def recommend_movies(user_id):\n",
    "    return [list(movies[movies.movie_id==i].movie_title) \n",
    "            for i in movies[movies.cluster_id.isin((ratings_by_cluster_df.sort_values(by='rating', axis=0, ascending=False)).ix[user_id,][:3].index.values)].movie_id \n",
    "            if len(ratings_full[(ratings_full.user_id==user_id) &(ratings_full.movie_id==i)]) == 0]\n",
    "    \n",
    "recommend_movies(10)"
   ]
  },
  {
   "cell_type": "code",
   "execution_count": 30,
   "metadata": {
    "collapsed": false
   },
   "outputs": [
    {
     "name": "stdout",
     "output_type": "stream",
     "text": [
      "4.4\n",
      "3.76923076923\n"
     ]
    }
   ],
   "source": [
    "#与皮尔逊相关PCS的对比\n",
    "def pcs(user_1,user_2):\n",
    "    m1 = ratings_full[ratings_full.user_id==user_1].movie_id\n",
    "    m2 = ratings_full[ratings_full.user_id==user_2].movie_id\n",
    "    l = list(set(m1).intersection(set(m2)))\n",
    "    \n",
    "    user1_avg = float(np.mean(list(ratings_full[ratings_full.user_id==user_1].rating)))\n",
    "    user2_avg = float(np.mean(list(ratings_full[ratings_full.user_id==user_2].rating)))\n",
    "    \n",
    "    numerator = 0.0\n",
    "    denominator1 = 0.0\n",
    "    denominator2 = 0.0\n",
    "\n",
    "    for i in l:\n",
    "        r_1_i = float(ratings_full[(ratings_full.user_id==user_1) & (ratings_full.movie_id ==i)].rating)\n",
    "        r_2_i = float(ratings_full[(ratings_full.user_id==user_2) & (ratings_full.movie_id ==i)].rating)\n",
    "        numerator = numerator + (r_1_i - user1_avg)*(r_2_i - user2_avg)\n",
    "        denominator1 = denominator1 + np.square(r_1_i - user1_avg)\n",
    "        denominator2 = denominator2 + np.square(r_2_i - user2_avg)\n",
    "    pcs = numerator/np.sqrt(denominator1)*np.sqrt(denominator2)\n",
    "    return pcs\n",
    "\n",
    "\n",
    "def getAvgRatingByPCS(user_id, movie_id, top=5):\n",
    "    pcs_list = []\n",
    "    for i in set(ratings_full.user_id):\n",
    "        if i != user_id:\n",
    "            pcs_i = pcs(user_id, i)\n",
    "            if not math.isnan(pcs_i):\n",
    "                pcs_list.append([i, pcs_i])\n",
    "                \n",
    "    top_pcs = sorted(pcs_list, key=lambda x:x[1], reverse=True)[:top]\n",
    "\n",
    "    avgRatingByPCS = 0.0\n",
    "    cnt = 0\n",
    "    for i in range(top):\n",
    "        pcs_rating= ratings_full[(ratings_full.user_id==top_pcs[i][0]) & (ratings_full.movie_id ==movie_id)].rating\n",
    "        if len(pcs_rating) >0:\n",
    "            avgRatingByPCS = avgRatingByPCS + float(pcs_rating)\n",
    "            cnt = cnt+1\n",
    "    if cnt != 0:\n",
    "        avgRatingByPCS = avgRatingByPCS/cnt\n",
    "    \n",
    "    return avgRatingByPCS\n",
    "\n",
    "print getAvgRatingByPCS(1,202)\n",
    "print getAvgRatingByCluster(1,202)\n"
   ]
  },
  {
   "cell_type": "code",
   "execution_count": null,
   "metadata": {
    "collapsed": true
   },
   "outputs": [],
   "source": [
    "#几点小结\n",
    "#1. PCA加K-Means聚类得到最终预测评分并没有好于PCS。（MSE 1.15>1.06）\n",
    "#2. 原因出在PCA丢失了信息？K-Means的聚类数量不够理想？\n",
    "#3. 面对2320条NaN数据，可否用PCS的预测值，综合性能是否会好于单独PCS？\n",
    "#4. 可否对用户+电影+评分一起进行聚类？\n",
    "#5. 可否用监督学习来预测评分？性能会更好？"
   ]
  }
 ],
 "metadata": {
  "anaconda-cloud": {},
  "kernelspec": {
   "display_name": "Python [Root]",
   "language": "python",
   "name": "Python [Root]"
  },
  "language_info": {
   "codemirror_mode": {
    "name": "ipython",
    "version": 2
   },
   "file_extension": ".py",
   "mimetype": "text/x-python",
   "name": "python",
   "nbconvert_exporter": "python",
   "pygments_lexer": "ipython2",
   "version": "2.7.12"
  }
 },
 "nbformat": 4,
 "nbformat_minor": 0
}
