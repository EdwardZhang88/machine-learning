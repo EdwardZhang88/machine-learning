{
 "cells": [
  {
   "cell_type": "markdown",
   "metadata": {},
   "source": [
    "### Seq to Seq (fixed length)\n",
    "#### 1. Simple discrete id encoding for word"
   ]
  },
  {
   "cell_type": "code",
   "execution_count": 1,
   "metadata": {
    "collapsed": true
   },
   "outputs": [],
   "source": [
    "import io\n",
    "\n",
    "content = []\n",
    "with io.open('/Users/edwzhang/Downloads/hongloumeng.txt','r',encoding='utf-8') as f:\n",
    "    for line in f:\n",
    "        line_t = [i for i in line if i not in ['',' ','\\t','\\n']]\n",
    "        if len(line_t) > 0:\n",
    "            content.append(''.join(line_t))  "
   ]
  },
  {
   "cell_type": "code",
   "execution_count": 5,
   "metadata": {
    "collapsed": false
   },
   "outputs": [
    {
     "name": "stdout",
     "output_type": "stream",
     "text": [
      "838653\n"
     ]
    }
   ],
   "source": [
    "content_full = ''.join(content)\n",
    "print(len(content_full))"
   ]
  },
  {
   "cell_type": "code",
   "execution_count": 19,
   "metadata": {
    "collapsed": false
   },
   "outputs": [],
   "source": [
    "from collections import Counter\n",
    "\n",
    "cnt = Counter()\n",
    "for word in content_full:\n",
    "    cnt[word] +=1\n"
   ]
  },
  {
   "cell_type": "code",
   "execution_count": 102,
   "metadata": {
    "collapsed": false
   },
   "outputs": [],
   "source": [
    "content_vocabulary = [i for (i,j) in topN(2000)]"
   ]
  },
  {
   "cell_type": "markdown",
   "metadata": {},
   "source": [
    "#### 尽管总共有4000多个词汇，实际上常使用的大概就是2000个左右。按词频排序的话，第1000个经常使用的单词总共出现73次，相对83万字的文章已经属于非常冷门了。"
   ]
  },
  {
   "cell_type": "code",
   "execution_count": 81,
   "metadata": {
    "collapsed": false
   },
   "outputs": [
    {
     "name": "stdout",
     "output_type": "stream",
     "text": [
      "，\n",
      "57150\n",
      "了\n",
      "20601\n",
      "．\n",
      "19729\n",
      "的\n",
      "15179\n",
      "不\n",
      "14573\n",
      "一\n",
      "11758\n",
      "：\n",
      "11355\n",
      "来\n",
      "11109\n",
      "道\n",
      "10716\n",
      "“\n",
      "10658\n"
     ]
    }
   ],
   "source": [
    "def topN(N):\n",
    "    topN_list = sorted(dict(cnt).items(), key=lambda x:x[1], reverse=True)[:N]\n",
    "    return topN_list\n",
    "    \n",
    "for (i,j) in topN(10):\n",
    "    print(i)\n",
    "    print(j)\n",
    "    "
   ]
  },
  {
   "cell_type": "code",
   "execution_count": 103,
   "metadata": {
    "collapsed": false
   },
   "outputs": [],
   "source": [
    "word_to_int_dict = dict((w,i) for i,w in enumerate(content_vocabulary,1))\n",
    "int_to_word_dict = dict((i,w) for i,w in enumerate(content_vocabulary,1))\n",
    "\n",
    "word_to_int_dict['UNK']=0\n",
    "int_to_word_dict[0] = 'UNK'"
   ]
  },
  {
   "cell_type": "code",
   "execution_count": 167,
   "metadata": {
    "collapsed": false
   },
   "outputs": [
    {
     "data": {
      "text/plain": [
       "2001"
      ]
     },
     "execution_count": 167,
     "metadata": {},
     "output_type": "execute_result"
    }
   ],
   "source": [
    "len(word_to_int_dict)"
   ]
  },
  {
   "cell_type": "code",
   "execution_count": 104,
   "metadata": {
    "collapsed": false
   },
   "outputs": [],
   "source": [
    "content_int = [word_to_int_dict[w] if w in word_to_int_dict else word_to_int_dict['UNK'] for w in content_full ] "
   ]
  },
  {
   "cell_type": "code",
   "execution_count": 105,
   "metadata": {
    "collapsed": false
   },
   "outputs": [
    {
     "name": "stdout",
     "output_type": "stream",
     "text": [
      "第一回甄士隐梦幻识通灵　贾雨村风尘怀闺秀此开卷第一回也．作者自云：因曾历过一番梦幻之后，故将真事隐去，而借\"通灵\"之说，UNK此《石头记》一书也．故曰\"甄士隐\"云云．但书中所记何事何人？自又云：“今风尘碌碌，一事无成，忽念及当日所有之女子，一一细考较去，觉其行止见识，皆出于我之上．何我堂堂须眉，诚不若彼裙钗哉？实愧则有余，悔又无益之大无可如何之日也！当此，则自欲将已往所赖天恩祖德，锦衣纨UNK之时，UNK甘UNKUNK之日，背父兄教UNK之恩，负师友规谈之德，以至今日一UNK无成，半生UNK倒之罪，编述一集，以告天下人：我之罪固不免，然闺阁中本自历历有人，万不可因我之不UNK，自护己短，一并使其UNK灭也．虽今日之UNKUNKUNKUNK，瓦UNKUNK床，其晨夕风露，阶柳庭花，亦未有妨我之襟怀笔墨者．虽我未学，下笔无文\n"
     ]
    }
   ],
   "source": [
    "print(''.join(int_to_word_dict[i] for i in content_int[:333]))"
   ]
  },
  {
   "cell_type": "markdown",
   "metadata": {},
   "source": [
    "#### 划分长度固定为20的sequence"
   ]
  },
  {
   "cell_type": "code",
   "execution_count": 156,
   "metadata": {
    "collapsed": true
   },
   "outputs": [],
   "source": [
    "import numpy as np\n",
    "\n",
    "def divide_sequences(sequence_length):\n",
    "    c_in_dat = [[content_int[i+n] for i in xrange(0, len(content_int)-sequence_length, sequence_length)] for n in range(sequence_length)]\n",
    "    \n",
    "    xs = [np.stack(c) for c in c_in_dat]\n",
    "\n",
    "    x_rnn=np.stack(xs, axis=1)\n",
    "    y_rnn=np.expand_dims(x_rnn[1:,], -1)\n",
    "    x_rnn=x_rnn[:-1,]\n",
    "    \n",
    "    return x_rnn, y_rnn\n",
    "    \n",
    "    \n",
    "x_rnn, y_rnn = divide_sequences(20) "
   ]
  },
  {
   "cell_type": "code",
   "execution_count": 158,
   "metadata": {
    "collapsed": false
   },
   "outputs": [
    {
     "name": "stdout",
     "output_type": "stream",
     "text": [
      "第一回甄士隐梦幻识通灵　贾雨村风尘怀闺秀\n",
      "此开卷第一回也．作者自云：因曾历过一番梦\n",
      "此开卷第一回也．作者自云：因曾历过一番梦\n",
      "幻之后，故将真事隐去，而借\"通灵\"之说，\n",
      "(41931, 20)\n",
      "(41931, 20, 1)\n"
     ]
    }
   ],
   "source": [
    "print(''.join(int_to_word_dict[i] for i in x_rnn[0]))\n",
    "print(''.join(int_to_word_dict[i] for i in x_rnn[1]))\n",
    "print(''.join(int_to_word_dict[i] for i in np.squeeze(y_rnn)[0]))\n",
    "print(''.join(int_to_word_dict[i] for i in np.squeeze(y_rnn)[1]))\n",
    "print(x_rnn.shape)\n",
    "print(y_rnn.shape)"
   ]
  },
  {
   "cell_type": "code",
   "execution_count": 142,
   "metadata": {
    "collapsed": false
   },
   "outputs": [
    {
     "name": "stdout",
     "output_type": "stream",
     "text": [
      "41932\n",
      "41932\n",
      "[385, 101, 1043, 0, 3, 1781, 282, 14, 989, 134, 0, 137, 1, 966, 231, 1, 736, 454, 541, 36, 83, 1684, 1293, 1, 76, 152, 2, 1356, 558, 1315, 106, 928, 255, 77, 5, 897, 33, 3, 333, 1, 912, 33, 521, 10, 201, 428, 371, 20, 1, 10, 1, 1009, 9, 505, 47, 2, 33, 758, 4, 23, 116, 1071, 1864, 1, 164, 333, 114, 114, 63, 195, 482, 68, 534, 1644, 878, 0, 1369, 1274, 328, 3, 280, 499, 87, 813, 264, 20, 139, 1439, 1, 117, 255, 306, 0, 235, 893, 362, 1, 306, 569, 69]\n"
     ]
    }
   ],
   "source": [
    "sequence_length = 20\n",
    "#test = [[content_int[i+n] for i in xrange(0, len(content_int)-1-sequence_length, sequence_length)] for n in range(sequence_length)]\n",
    "print(len(test[18]))\n",
    "print(len(test[19]))\n",
    "\n",
    "print(test[0][:100])"
   ]
  },
  {
   "cell_type": "code",
   "execution_count": 143,
   "metadata": {
    "collapsed": false
   },
   "outputs": [
    {
     "name": "stdout",
     "output_type": "stream",
     "text": [
      "41930\n",
      "41930\n",
      "[ 385  101 1043    0    3 1781  282   14  989  134    0  137    1  966  231\n",
      "    1  736  454  541   36   83 1684 1293    1   76  152    2 1356  558 1315\n",
      "  106  928  255   77    5  897   33    3  333    1  912   33  521   10  201\n",
      "  428  371   20    1   10    1 1009    9  505   47    2   33  758    4   23\n",
      "  116 1071 1864    1  164  333  114  114   63  195  482   68  534 1644  878\n",
      "    0 1369 1274  328    3  280  499   87  813  264   20  139 1439    1  117\n",
      "  255  306    0  235  893  362    1  306  569   69]\n"
     ]
    }
   ],
   "source": [
    "#xs = [np.stack(c[:-2]) for c in test]\n",
    "print(len(xs[18]))\n",
    "print(len(xs[19]))\n",
    "print(xs[0][:100])"
   ]
  },
  {
   "cell_type": "code",
   "execution_count": 125,
   "metadata": {
    "collapsed": false
   },
   "outputs": [
    {
     "data": {
      "text/plain": [
       "(83863, 10)"
      ]
     },
     "execution_count": 125,
     "metadata": {},
     "output_type": "execute_result"
    }
   ],
   "source": [
    "x_rnn=np.stack(xs, axis=1)\n",
    "x_rnn.shape"
   ]
  },
  {
   "cell_type": "code",
   "execution_count": 145,
   "metadata": {
    "collapsed": false
   },
   "outputs": [
    {
     "name": "stdout",
     "output_type": "stream",
     "text": [
      "[[1 4 7]\n",
      " [2 5 8]\n",
      " [3 6 9]]\n",
      "[[1 2 3]\n",
      " [4 5 6]\n",
      " [7 8 9]]\n"
     ]
    }
   ],
   "source": [
    "a = [[1,2,3],[4,5,6],[7,8,9]]\n",
    "print(np.stack(a, axis=1))\n",
    "print(np.stack(a, axis=0))"
   ]
  },
  {
   "cell_type": "code",
   "execution_count": 168,
   "metadata": {
    "collapsed": false
   },
   "outputs": [],
   "source": [
    "batch_size=32\n",
    "n_hidden = 512\n",
    "n_fac = 500\n",
    "vocab_size = len(content_vocabulary)+1\n",
    "seq_len = 20 \n",
    "\n",
    "from keras.preprocessing.text import text_to_word_sequence\n",
    "from keras.models import Sequential\n",
    "from keras.layers import Activation, TimeDistributed, Dense, RepeatVector, recurrent, Embedding\n",
    "from keras.layers.recurrent import LSTM\n",
    "from keras.layers.normalization import BatchNormalization\n",
    "from keras.optimizers import Adam, RMSprop\n",
    "\n",
    "model=Sequential([\n",
    "        Embedding(vocab_size, n_fac, input_length=seq_len, batch_input_shape=(batch_size,seq_len)),\n",
    "        BatchNormalization(),\n",
    "        LSTM(n_hidden, return_sequences=True, stateful=True),\n",
    "        TimeDistributed(Dense(vocab_size, activation='softmax')),\n",
    "    ])\n",
    "model.compile(loss='sparse_categorical_crossentropy', optimizer=Adam())"
   ]
  },
  {
   "cell_type": "code",
   "execution_count": 166,
   "metadata": {
    "collapsed": false
   },
   "outputs": [
    {
     "data": {
      "text/plain": [
       "18"
      ]
     },
     "execution_count": 166,
     "metadata": {},
     "output_type": "execute_result"
    }
   ],
   "source": [
    "np.sum(x_rnn == 2000)"
   ]
  },
  {
   "cell_type": "code",
   "execution_count": 169,
   "metadata": {
    "collapsed": false
   },
   "outputs": [
    {
     "name": "stdout",
     "output_type": "stream",
     "text": [
      "Epoch 1/5\n",
      "41920/41920 [==============================] - 450s - loss: 5.9009   \n",
      "Epoch 2/5\n",
      "41920/41920 [==============================] - 442s - loss: 5.8297   \n",
      "Epoch 3/5\n",
      "41920/41920 [==============================] - 437s - loss: 5.7742   \n",
      "Epoch 4/5\n",
      "41920/41920 [==============================] - 435s - loss: 5.7030   \n",
      "Epoch 5/5\n",
      "41920/41920 [==============================] - 464s - loss: 5.6269   \n"
     ]
    },
    {
     "data": {
      "text/plain": [
       "<keras.callbacks.History at 0x129e19d90>"
      ]
     },
     "execution_count": 169,
     "metadata": {},
     "output_type": "execute_result"
    }
   ],
   "source": [
    "mx = len(x_rnn)//batch_size*batch_size\n",
    "model.fit(x_rnn[:mx], y_rnn[:mx], batch_size=batch_size, nb_epoch=5)"
   ]
  },
  {
   "cell_type": "code",
   "execution_count": 173,
   "metadata": {
    "collapsed": false
   },
   "outputs": [
    {
     "name": "stdout",
     "output_type": "stream",
     "text": [
      "，UNK，，，，，，，，，，，，，，，，，，\n",
      "，，，，，，，，，，，，，，，，，，UNKUNK\n",
      "，，，，，，，，，，，之，，，，，，，，\n",
      "UNK，，，，，，，，道，，，，，，，，UNK，\n",
      "，，，，，，，，，，，，，，，，，，，，\n",
      "，，，，，，：，，，，，，了，，，，，，\n",
      "，，，，，，，，，，，，，，，，，，，，\n",
      "，，，了，，，，，，，，．，，，，，，，\n",
      "，，，，，，，，，，，，，，，，，，，，\n",
      "，，，，，，，，，，道：，，，，，，，，\n",
      "，，，，，村，，，，，，，，，，，，，，\n",
      "，，之，，，，，，，，，之，，政，，，，\n",
      "，，，，，，，，，，，，，，，，，，，，\n",
      "，，，，，，，，，，，，，，，，，，，，\n",
      "，，，，，，，，，，，，，，，，，，，，\n",
      "，，，，，，，，．-，，，，，，，，，，\n",
      "，，，，，`，`，，，，，，，，，，，，\n",
      "，，，，，，村，，，，，，，，，，，，，\n",
      "，，，，，，，政，，，，，，，，，，，，\n",
      "道，，，，，，，UNKUNK，，，，，，，，，，\n",
      "，，，，，，，，，，，道，，。，。，，，\n",
      "，，，，，，，，，，，，，，，，，，UNK，\n",
      "，，，，，，，，UNK，，，，，，，，，，，\n",
      "，，，，，，，，，，，，，，，，，，，，\n",
      "，，，，，，，，，UNK，，，，，，，，，，\n",
      "，，，，，，，，，，，，，，，，，，，，\n",
      "，，，，，，，，，，，，，，，，，，，，\n",
      "，，UNKUNK，，，，，，，，，，，，，，，，\n",
      "UNK，，，，，UNK，，，，,了,\"，，UNK，，\n",
      "，，，，，，，，亦，UNK，，，，，，，，，\n",
      "，，，，，，，，，，，，，，，，，，，，\n",
      "，，，，，，，，，，，，，，，，，，，，\n"
     ]
    }
   ],
   "source": [
    "input_idx = [word_to_int_dict[w] if w in word_to_int_dict else word_to_int_dict['UNK'] for w in unicode('雨村听着，却不明白了．知仙机也不便更问，因又说道：“宝玉之事既得闻命，但是敝族闺秀如此之多，何元妃以下算来结局俱属平常呢？\"士隐叹息道：“老先生莫怪拙言，贵族之女俱属从情天孽海而来．大凡古今女子，那`淫-字固不可犯，只这`情-字也是沾染不得的．所以崔莺苏小，无非仙子尘心，宋玉相如，大是文人口孽．凡是情思缠绵的，那结果就不可问了。”雨村听到这里，不觉拈须长叹，因又问道：“请教老仙翁，那荣宁两府，尚可如前否？\"士隐道：“福善祸淫，古今定理．现今荣宁两府，善者修缘，恶者悔祸，将来兰桂齐芳，家道复初，也是自然的道理．\"雨村低了半日头，忽然笑道：“是了，是了．现在他府中有一个名兰的已中乡榜，恰好应着`兰-字．适间老仙翁说`兰桂齐芳-，又道宝玉`高魁子贵-，莫非他有遗腹之子，可以飞黄腾达的么？\"士隐微微笑道：“此系后事，未便预说。”雨村还要再问，士隐不答，便命人设俱盘飧，邀雨村共食．食毕，雨村还要问自己的终身，士隐便道：“老先生草庵暂歇，我还有一段俗缘未了，正当今日完结。”雨村惊讶道：“仙长纯修若此，不知尚有何俗缘？\"士隐道：“也不过是儿女私情罢了．雨村听了益发惊异：老先生初任之时曾经判断．今归薛姓，产难完劫，遗一子于薛家以承宗祧．此时正是尘缘脱尽之时，只好接引接引。”士隐说着拂袖而起．雨村心中恍恍惚惚，就在这急流津觉迷渡口草庵中睡着了.这士隐自去度脱了香菱，送到太虚幻境，交那警幻仙子对册，刚过牌坊，见那一僧一道，缥渺而来．士隐接着说道：“大士，真人，恭喜，贺喜！情缘完结，都交割清楚了么？\"那僧说：“情缘尚未全结，倒是那蠢物已经回来了．还得把他送还原所，将他的后事叙明，不枉他下世一回。”士隐听了，便供手而别．那僧道仍携了玉到青埂峰下，将宝玉安放在女娲炼石补天之处，各自云游而去．从此后，\"天外书传天外事，两番人作一番人。”这一日空空道人又从青埂峰前经过，见那补天未用之石仍在那里，上面字迹依然如旧，又从头的细细看了一遍，见后面偈文后又历叙了多少收缘结果的话头，便点头叹道：“我从前见石兄这段奇文，原说可以闻世传奇，所以曾经抄录，但未见返本还原．不知何时复有此一佳话，方知石兄下凡一次，磨出光明，修成圆觉，也可谓无复遗憾了．只怕年深日久，字迹模糊，反有舛错，不如我再抄录一番，寻个世上无事的人，托他传遍，知道奇而不奇，俗而不俗，真而不真，假而不假．或者尘梦劳人，聊倩鸟呼归去，山灵好客，更从石化飞来，亦未可知。”想毕，便又抄了，仍袖至那繁华昌盛的地方，遍寻了一番，不是建功立业之人，即系饶口谋衣之辈，那有闲情更去和石头饶舌．直寻到急流津觉迷度口，草庵中睡着一个人，因想他必是闲人，便要将这抄录的《石头记》给他看看．那知那人再叫不醒．空空道人复又使劲拉他，才慢慢的开眼坐起，便草草一看，仍旧掷下道：“这事我早已亲见尽知．你这抄录的尚无舛错，我只指与你一个人，托他传去，便可归结这一公案了。”空空道人忙问何人，那人道：“你须待某年某月某日到一个悼红轩中，有个曹雪芹先生，只说贾雨村言托他如此如此。”说毕，仍旧睡下了．那空空道人牢牢记着此言，又不知过了几世几劫，果然有个悼红轩，见那曹雪芹先生正在那里翻阅历来的古史．空空道人便将贾雨村言了，方把这《石头记》示看．那雪芹先生笑道：“果然是`贾雨村言-了！\"空空道人便问：“先生何以认得此人，便肯替他传述？\"曹雪芹先生笑道：“说你空，原来你肚里果然空空．既是假语村言，但无鲁鱼亥豕以及背谬矛盾之处，乐得与二三同志，酒余饭饱，雨夕灯窗之下，同消寂寞，又不必大人先生品题传世，似你这样寻根问底，便是刻舟求剑，胶柱鼓瑟了。”那空空道人听了，仰天大笑，掷下抄本，飘然而去．一面走着，口中说道：“果然是敷衍荒唐！不但作者不知，抄者不知，并阅者也不知．不过游戏笔墨，陶情适性而已！\"后人见了这本奇传，亦曾题过四句为作者缘起之言更转一竿头云', \"utf-8\")]\n",
    "input_arr = np.array(input_idx[:640]).reshape(32,20)\n",
    "p = model.predict(input_arr.reshape(32,20))\n",
    "for i in range(32):\n",
    "    print(''.join([int_to_word_dict[np.argmax(o)] for o in p[i]]))"
   ]
  },
  {
   "cell_type": "code",
   "execution_count": 177,
   "metadata": {
    "collapsed": false
   },
   "outputs": [
    {
     "name": "stdout",
     "output_type": "stream",
     "text": [
      "[[1, 4], [2, 5], [3, 6]]\n",
      "[[3, 6], [4, 7], [5, 8]]\n"
     ]
    }
   ],
   "source": [
    "a=[1,2,3,4,5,6,7,8,9]\n",
    "t1 = [[a[i+n] for i in xrange(0,6,3)] for n in range(3)]\n",
    "t2 = [[a[i+n] for i in xrange(2,7,3)] for n in range(3)]\n",
    "print(t1)\n",
    "print(t2)"
   ]
  },
  {
   "cell_type": "markdown",
   "metadata": {},
   "source": [
    "#### 看来，直接横跨20个字符，效果或很差。试试输出偏移3个看看。"
   ]
  },
  {
   "cell_type": "code",
   "execution_count": 179,
   "metadata": {
    "collapsed": false
   },
   "outputs": [],
   "source": [
    "import numpy as np\n",
    "\n",
    "def divide_sequences(sequence_length, timestep_gap):\n",
    "    c_in_dat = [[content_int[i+n] for i in xrange(0, len(content_int)-1-sequence_length, sequence_length)] for n in range(sequence_length)]\n",
    "    c_out_dat = [[content_int[i+n] for i in xrange(timestep_gap, len(content_int)-sequence_length, sequence_length)] for n in range(sequence_length)]\n",
    "    \n",
    "    xs = [np.stack(c) for c in c_in_dat]\n",
    "    ys = [np.stack(c) for c in c_out_dat]\n",
    "\n",
    "    x_rnn=np.stack(xs, axis=1)\n",
    "    y_rnn=np.expand_dims(np.stack(ys, axis=1), -1)   \n",
    "    return x_rnn, y_rnn\n",
    "    \n",
    "    \n",
    "x_rnn, y_rnn = divide_sequences(20,3) "
   ]
  },
  {
   "cell_type": "code",
   "execution_count": 180,
   "metadata": {
    "collapsed": false
   },
   "outputs": [
    {
     "name": "stdout",
     "output_type": "stream",
     "text": [
      "第一回甄士隐梦幻识通灵　贾雨村风尘怀闺秀\n",
      "此开卷第一回也．作者自云：因曾历过一番梦\n",
      "甄士隐梦幻识通灵　贾雨村风尘怀闺秀此开卷\n",
      "第一回也．作者自云：因曾历过一番梦幻之后\n",
      "(41932, 20)\n",
      "(41932, 20, 1)\n"
     ]
    }
   ],
   "source": [
    "print(''.join(int_to_word_dict[i] for i in x_rnn[0]))\n",
    "print(''.join(int_to_word_dict[i] for i in x_rnn[1]))\n",
    "print(''.join(int_to_word_dict[i] for i in np.squeeze(y_rnn)[0]))\n",
    "print(''.join(int_to_word_dict[i] for i in np.squeeze(y_rnn)[1]))\n",
    "print(x_rnn.shape)\n",
    "print(y_rnn.shape)"
   ]
  },
  {
   "cell_type": "code",
   "execution_count": 181,
   "metadata": {
    "collapsed": false
   },
   "outputs": [
    {
     "name": "stdout",
     "output_type": "stream",
     "text": [
      "Epoch 1/5\n",
      "41920/41920 [==============================] - 421s - loss: 5.6265   \n",
      "Epoch 2/5\n",
      "41920/41920 [==============================] - 426s - loss: 5.4338   \n",
      "Epoch 3/5\n",
      "41920/41920 [==============================] - 441s - loss: 5.3194   \n",
      "Epoch 4/5\n",
      "41920/41920 [==============================] - 463s - loss: 5.2184   \n",
      "Epoch 5/5\n",
      "41920/41920 [==============================] - 458s - loss: 5.1281   \n"
     ]
    },
    {
     "data": {
      "text/plain": [
       "<keras.callbacks.History at 0x12a8fd990>"
      ]
     },
     "execution_count": 181,
     "metadata": {},
     "output_type": "execute_result"
    }
   ],
   "source": [
    "mx = len(x_rnn)//batch_size*batch_size\n",
    "model.fit(x_rnn[:mx], y_rnn[:mx], batch_size=batch_size, nb_epoch=5)"
   ]
  },
  {
   "cell_type": "code",
   "execution_count": 182,
   "metadata": {
    "collapsed": false
   },
   "outputs": [
    {
     "name": "stdout",
     "output_type": "stream",
     "text": [
      "了，笑道：了，，，，人，便，，，，了．：\n",
      "：““这们这了，，，，，玉，不UNK之，，，\n",
      "，，，，，UNK此，之之解，”\"宝贾．．，宝\n",
      "玉道：“““这是是这，，，，UNK，UNK，，，\n",
      "，UNK，，，，，，，无UNK，，，，，，UNKUNK字\n",
      "，，`，，”？不句一字--`。，的，””\n",
      "，是人，，，，，UNK，，尘，，，UNK，，其，\n",
      "一了，的，，，，的的，，，，，不得不，．\n",
      "，，．宝玉道道：笑，，，：了，．，声，：\n",
      "：：“你们么，．，”今UNK是个，UNK个UNK报之\n",
      "．．士村道道：这是是，，．，不，淫-，一\n",
      "UNK，府，，，UNK的，恶，不祸，．，UNKUNK，UNK\n",
      "：，去，了这来，，了，的．．你说这道：：\n",
      "，，，，，：起，“你是，的，不的，你里，\n",
      "，，人，，，，．，，，，，UNK玉．．，-，\n",
      "，不这UNK，，UNK，“字UNK-，字，不`这了，\n",
      "----，，``，，，，，，是UNK之．”，\n",
      "，，，宝玉道：“道：“这是是我，，，不，\n",
      "：了“玉道：：“，只，道：，，，一“来．\n",
      "，，，，UNK，．，一，，，，UNK，，，，“．\n",
      "，，，，不UNK，“这是，这，，UNK，不，，了\n",
      "么，，，的，，不不，，来，，雨玉道道：：\n",
      "，我是是UNK，，，，，不UNK，，，？””隐道\n",
      "，，此是，，。。的，，了，”是这了，都，\n",
      "不，，，是，，，，，，，，，今．贾UNK，之\n",
      "，UNKUNK，，\"UNK世，，，UNK，，，，”一是，\n",
      "，，一．，，．不UNKUNK．来．．．玉笑：道“\n",
      "，UNK．UNK．笑UNK，，，惚，了了不了．．．，\n",
      "，，，，，，UNKUNK．，，村芸了,言,,,,\n",
      "了，一去，边，．一UNKUNK的子之UNK，，宝UNK来\n",
      "，，，一人的，，，UNKUNKUNK，，UNK道道，：：\n",
      "，你是，，，是UNK，是，，UNK情，玉，，，，\n"
     ]
    }
   ],
   "source": [
    "input_idx = [word_to_int_dict[w] if w in word_to_int_dict else word_to_int_dict['UNK'] for w in unicode('雨村听着，却不明白了．知仙机也不便更问，因又说道：“宝玉之事既得闻命，但是敝族闺秀如此之多，何元妃以下算来结局俱属平常呢？\"士隐叹息道：“老先生莫怪拙言，贵族之女俱属从情天孽海而来．大凡古今女子，那`淫-字固不可犯，只这`情-字也是沾染不得的．所以崔莺苏小，无非仙子尘心，宋玉相如，大是文人口孽．凡是情思缠绵的，那结果就不可问了。”雨村听到这里，不觉拈须长叹，因又问道：“请教老仙翁，那荣宁两府，尚可如前否？\"士隐道：“福善祸淫，古今定理．现今荣宁两府，善者修缘，恶者悔祸，将来兰桂齐芳，家道复初，也是自然的道理．\"雨村低了半日头，忽然笑道：“是了，是了．现在他府中有一个名兰的已中乡榜，恰好应着`兰-字．适间老仙翁说`兰桂齐芳-，又道宝玉`高魁子贵-，莫非他有遗腹之子，可以飞黄腾达的么？\"士隐微微笑道：“此系后事，未便预说。”雨村还要再问，士隐不答，便命人设俱盘飧，邀雨村共食．食毕，雨村还要问自己的终身，士隐便道：“老先生草庵暂歇，我还有一段俗缘未了，正当今日完结。”雨村惊讶道：“仙长纯修若此，不知尚有何俗缘？\"士隐道：“也不过是儿女私情罢了．雨村听了益发惊异：老先生初任之时曾经判断．今归薛姓，产难完劫，遗一子于薛家以承宗祧．此时正是尘缘脱尽之时，只好接引接引。”士隐说着拂袖而起．雨村心中恍恍惚惚，就在这急流津觉迷渡口草庵中睡着了.这士隐自去度脱了香菱，送到太虚幻境，交那警幻仙子对册，刚过牌坊，见那一僧一道，缥渺而来．士隐接着说道：“大士，真人，恭喜，贺喜！情缘完结，都交割清楚了么？\"那僧说：“情缘尚未全结，倒是那蠢物已经回来了．还得把他送还原所，将他的后事叙明，不枉他下世一回。”士隐听了，便供手而别．那僧道仍携了玉到青埂峰下，将宝玉安放在女娲炼石补天之处，各自云游而去．从此后，\"天外书传天外事，两番人作一番人。”这一日空空道人又从青埂峰前经过，见那补天未用之石仍在那里，上面字迹依然如旧，又从头的细细看了一遍，见后面偈文后又历叙了多少收缘结果的话头，便点头叹道：“我从前见石兄这段奇文，原说可以闻世传奇，所以曾经抄录，但未见返本还原．不知何时复有此一佳话，方知石兄下凡一次，磨出光明，修成圆觉，也可谓无复遗憾了．只怕年深日久，字迹模糊，反有舛错，不如我再抄录一番，寻个世上无事的人，托他传遍，知道奇而不奇，俗而不俗，真而不真，假而不假．或者尘梦劳人，聊倩鸟呼归去，山灵好客，更从石化飞来，亦未可知。”想毕，便又抄了，仍袖至那繁华昌盛的地方，遍寻了一番，不是建功立业之人，即系饶口谋衣之辈，那有闲情更去和石头饶舌．直寻到急流津觉迷度口，草庵中睡着一个人，因想他必是闲人，便要将这抄录的《石头记》给他看看．那知那人再叫不醒．空空道人复又使劲拉他，才慢慢的开眼坐起，便草草一看，仍旧掷下道：“这事我早已亲见尽知．你这抄录的尚无舛错，我只指与你一个人，托他传去，便可归结这一公案了。”空空道人忙问何人，那人道：“你须待某年某月某日到一个悼红轩中，有个曹雪芹先生，只说贾雨村言托他如此如此。”说毕，仍旧睡下了．那空空道人牢牢记着此言，又不知过了几世几劫，果然有个悼红轩，见那曹雪芹先生正在那里翻阅历来的古史．空空道人便将贾雨村言了，方把这《石头记》示看．那雪芹先生笑道：“果然是`贾雨村言-了！\"空空道人便问：“先生何以认得此人，便肯替他传述？\"曹雪芹先生笑道：“说你空，原来你肚里果然空空．既是假语村言，但无鲁鱼亥豕以及背谬矛盾之处，乐得与二三同志，酒余饭饱，雨夕灯窗之下，同消寂寞，又不必大人先生品题传世，似你这样寻根问底，便是刻舟求剑，胶柱鼓瑟了。”那空空道人听了，仰天大笑，掷下抄本，飘然而去．一面走着，口中说道：“果然是敷衍荒唐！不但作者不知，抄者不知，并阅者也不知．不过游戏笔墨，陶情适性而已！\"后人见了这本奇传，亦曾题过四句为作者缘起之言更转一竿头云', \"utf-8\")]\n",
    "input_arr = np.array(input_idx[:640]).reshape(32,20)\n",
    "p = model.predict(input_arr.reshape(32,20))\n",
    "for i in range(32):\n",
    "    print(''.join([int_to_word_dict[np.argmax(o)] for o in p[i]]))"
   ]
  },
  {
   "cell_type": "markdown",
   "metadata": {},
   "source": [
    "#### 效果还是不太好。试试只输出偏移1个看看。"
   ]
  },
  {
   "cell_type": "code",
   "execution_count": 183,
   "metadata": {
    "collapsed": false
   },
   "outputs": [
    {
     "name": "stdout",
     "output_type": "stream",
     "text": [
      "Epoch 1/5\n",
      "41920/41920 [==============================] - 459s - loss: 4.3405   \n",
      "Epoch 2/5\n",
      "41920/41920 [==============================] - 465s - loss: 3.9029   \n",
      "Epoch 3/5\n",
      "41920/41920 [==============================] - 462s - loss: 3.7335   \n",
      "Epoch 4/5\n",
      "41920/41920 [==============================] - 472s - loss: 3.6132   \n",
      "Epoch 5/5\n",
      "41920/41920 [==============================] - 468s - loss: 3.5150   \n"
     ]
    }
   ],
   "source": [
    "x_rnn, y_rnn = divide_sequences(20,1) \n",
    "hist = model.fit(x_rnn[:mx], y_rnn[:mx], batch_size=batch_size, nb_epoch=5)"
   ]
  },
  {
   "cell_type": "code",
   "execution_count": 184,
   "metadata": {
    "collapsed": false
   },
   "outputs": [
    {
     "name": "stdout",
     "output_type": "stream",
     "text": [
      "UNK，了，便是见白，．这道机关不能，加，便\n",
      "为道：：“你玉，态，不了，，又是我UNK中秀\n",
      "丽此，时，又况妃以为回来，局，属．安，．\n",
      "\"宝隐道道道：“你太生，非，UNK，不妃中UNK\n",
      "婿属员小，地，，来．宝家一今UNK子，因里UNK\n",
      "妇，，是是，，只是样UNK-字，不`染的得．\n",
      "话贾以我UNK儿州，UNK人同子，缘，UNK，，逢，\n",
      "不家一章，舌，因有这愿的绵，，又里果然是\n",
      "成，，？”宝村听了这里，便觉心UNKUNK叹，又\n",
      "此有道：“你姑。太翁，我里府府府中贾未以\n",
      "此，？\"宝隐道：“你，祸淫，愚今UNK了．如\n",
      "在见国府府，贾公，来，所者，祸，今来都桂\n",
      "殿，官说人：又，贾不UNK己是．理．我贾村道\n",
      "头头日，，便见想道：“你了，你个，我在这\n",
      "们里的一个人字，，经，，，因是几了，UNK-\n",
      "，，宝闻又太翁所，UNK桂-乡-，`有：玉道\n",
      "UNKUNK--．，`若`们`UNK之处，UNK以释UNK昏\n",
      "，UNK，．\"宝隐道微一道：“你是何事，不免\n",
      "UNK备：”贾村听是说来，只隐道可，只说人去\n",
      "法全，，又雨村居贺之因毕，贾村居要UNK，己\n",
      "，，身，不隐的说：“你太生，，，且去不们\n",
      "有一个，语，可，只是着日，了，”贾村听UNK\n",
      "，：“你姑道，，何，何可何未何故，？\"宝\n",
      "回瞒：“你是用是个子儿自，了．我村因了，\n",
      "发高UNK，“太生在一，时，有过断，因日西蟠\n",
      "林也业为劫，不于UNK，是蟠，备贾，，贾时贾\n",
      "经，缘，者，处，不是UNK引UNK引，”宝隐道着\n",
      "，UNK的已，贾村因中有惚惚惚，便是这里流UNK\n",
      "UNKUNK了，里，，，，，，\"里隐梦然了后了一\n",
      "菱，你来那太幻境，UNK仙一幻仙子所子，因欲\n",
      "，，，又了边个道个：UNKUNKUNKUNK，宝隐道了，\n",
      "着：“你夫也我真不你贺欢不喜，\"缘UNK了，\n"
     ]
    }
   ],
   "source": [
    "input_idx = [word_to_int_dict[w] if w in word_to_int_dict else word_to_int_dict['UNK'] for w in unicode('雨村听着，却不明白了．知仙机也不便更问，因又说道：“宝玉之事既得闻命，但是敝族闺秀如此之多，何元妃以下算来结局俱属平常呢？\"士隐叹息道：“老先生莫怪拙言，贵族之女俱属从情天孽海而来．大凡古今女子，那`淫-字固不可犯，只这`情-字也是沾染不得的．所以崔莺苏小，无非仙子尘心，宋玉相如，大是文人口孽．凡是情思缠绵的，那结果就不可问了。”雨村听到这里，不觉拈须长叹，因又问道：“请教老仙翁，那荣宁两府，尚可如前否？\"士隐道：“福善祸淫，古今定理．现今荣宁两府，善者修缘，恶者悔祸，将来兰桂齐芳，家道复初，也是自然的道理．\"雨村低了半日头，忽然笑道：“是了，是了．现在他府中有一个名兰的已中乡榜，恰好应着`兰-字．适间老仙翁说`兰桂齐芳-，又道宝玉`高魁子贵-，莫非他有遗腹之子，可以飞黄腾达的么？\"士隐微微笑道：“此系后事，未便预说。”雨村还要再问，士隐不答，便命人设俱盘飧，邀雨村共食．食毕，雨村还要问自己的终身，士隐便道：“老先生草庵暂歇，我还有一段俗缘未了，正当今日完结。”雨村惊讶道：“仙长纯修若此，不知尚有何俗缘？\"士隐道：“也不过是儿女私情罢了．雨村听了益发惊异：老先生初任之时曾经判断．今归薛姓，产难完劫，遗一子于薛家以承宗祧．此时正是尘缘脱尽之时，只好接引接引。”士隐说着拂袖而起．雨村心中恍恍惚惚，就在这急流津觉迷渡口草庵中睡着了.这士隐自去度脱了香菱，送到太虚幻境，交那警幻仙子对册，刚过牌坊，见那一僧一道，缥渺而来．士隐接着说道：“大士，真人，恭喜，贺喜！情缘完结，都交割清楚了么？\"那僧说：“情缘尚未全结，倒是那蠢物已经回来了．还得把他送还原所，将他的后事叙明，不枉他下世一回。”士隐听了，便供手而别．那僧道仍携了玉到青埂峰下，将宝玉安放在女娲炼石补天之处，各自云游而去．从此后，\"天外书传天外事，两番人作一番人。”这一日空空道人又从青埂峰前经过，见那补天未用之石仍在那里，上面字迹依然如旧，又从头的细细看了一遍，见后面偈文后又历叙了多少收缘结果的话头，便点头叹道：“我从前见石兄这段奇文，原说可以闻世传奇，所以曾经抄录，但未见返本还原．不知何时复有此一佳话，方知石兄下凡一次，磨出光明，修成圆觉，也可谓无复遗憾了．只怕年深日久，字迹模糊，反有舛错，不如我再抄录一番，寻个世上无事的人，托他传遍，知道奇而不奇，俗而不俗，真而不真，假而不假．或者尘梦劳人，聊倩鸟呼归去，山灵好客，更从石化飞来，亦未可知。”想毕，便又抄了，仍袖至那繁华昌盛的地方，遍寻了一番，不是建功立业之人，即系饶口谋衣之辈，那有闲情更去和石头饶舌．直寻到急流津觉迷度口，草庵中睡着一个人，因想他必是闲人，便要将这抄录的《石头记》给他看看．那知那人再叫不醒．空空道人复又使劲拉他，才慢慢的开眼坐起，便草草一看，仍旧掷下道：“这事我早已亲见尽知．你这抄录的尚无舛错，我只指与你一个人，托他传去，便可归结这一公案了。”空空道人忙问何人，那人道：“你须待某年某月某日到一个悼红轩中，有个曹雪芹先生，只说贾雨村言托他如此如此。”说毕，仍旧睡下了．那空空道人牢牢记着此言，又不知过了几世几劫，果然有个悼红轩，见那曹雪芹先生正在那里翻阅历来的古史．空空道人便将贾雨村言了，方把这《石头记》示看．那雪芹先生笑道：“果然是`贾雨村言-了！\"空空道人便问：“先生何以认得此人，便肯替他传述？\"曹雪芹先生笑道：“说你空，原来你肚里果然空空．既是假语村言，但无鲁鱼亥豕以及背谬矛盾之处，乐得与二三同志，酒余饭饱，雨夕灯窗之下，同消寂寞，又不必大人先生品题传世，似你这样寻根问底，便是刻舟求剑，胶柱鼓瑟了。”那空空道人听了，仰天大笑，掷下抄本，飘然而去．一面走着，口中说道：“果然是敷衍荒唐！不但作者不知，抄者不知，并阅者也不知．不过游戏笔墨，陶情适性而已！\"后人见了这本奇传，亦曾题过四句为作者缘起之言更转一竿头云', \"utf-8\")]\n",
    "input_arr = np.array(input_idx[:640]).reshape(32,20)\n",
    "p = model.predict(input_arr.reshape(32,20))\n",
    "for i in range(32):\n",
    "    print(''.join([int_to_word_dict[np.argmax(o)] for o in p[i]]))"
   ]
  },
  {
   "cell_type": "code",
   "execution_count": 185,
   "metadata": {
    "collapsed": false
   },
   "outputs": [
    {
     "name": "stdout",
     "output_type": "stream",
     "text": [
      "雨村听着，却不明白了．知仙机也不便更问，\n",
      "因又说道：“宝玉之事既得闻命，但是UNK族闺\n",
      "秀如此之多，何元妃以下算来结局俱属平常呢\n",
      "？\"士隐叹息道：“老先生莫怪UNK言，贵族之\n",
      "女俱属从情天孽海而来．大凡古今女子，那`\n",
      "淫-字固不可犯，只这`情-字也是沾染不得\n",
      "的．所以UNK莺苏小，无非仙子尘心，宋玉相如\n",
      "，大是文人口孽．凡是情思缠绵的，那结果就\n",
      "不可问了。”雨村听到这里，不觉拈须长叹，\n",
      "因又问道：“请教老仙翁，那荣宁两府，尚可\n",
      "如前否？\"士隐道：“福善祸淫，古今定理．\n",
      "现今荣宁两府，善者修缘，恶者悔祸，将来兰\n",
      "桂齐芳，家道复初，也是自然的道理．\"雨村\n",
      "低了半日头，忽然笑道：“是了，是了．现在\n",
      "他府中有一个名兰的已中乡UNK，恰好应着`兰\n",
      "-字．适间老仙翁说`兰桂齐芳-，又道宝玉\n",
      "`高UNK子贵-，莫非他有遗腹之子，可以飞黄\n",
      "腾达的么？\"士隐微微笑道：“此系后事，未\n",
      "便预说。”雨村还要再问，士隐不答，便命人\n",
      "设俱盘UNK，邀雨村共食．食毕，雨村还要问自\n",
      "己的终身，士隐便道：“老先生草庵暂歇，我\n",
      "还有一段俗缘未了，正当今日完结。”雨村惊\n",
      "UNK道：“仙长UNK修若此，不知尚有何俗缘？\"\n",
      "士隐道：“也不过是儿女私情罢了．雨村听了\n",
      "益发惊异：老先生初任之时曾经判断．今归薛\n",
      "姓，产难完劫，遗一子于薛家以承宗UNK．此时\n",
      "正是尘缘脱尽之时，只好接引接引。”士隐说\n",
      "着UNK袖而起．雨村心中恍恍惚惚，就在这急流\n",
      "UNK觉迷UNK口草庵中睡着了.这士隐自去度脱了\n",
      "香菱，送到太虚幻境，交那警幻仙子对册，刚\n",
      "过牌坊，见那一僧一道，UNKUNK而来．士隐接着\n",
      "说道：“大士，真人，恭喜，贺喜！情缘完结\n"
     ]
    }
   ],
   "source": [
    "for i in range(32):\n",
    "    print(''.join([int_to_word_dict[w] for w in input_arr[i]]))"
   ]
  },
  {
   "cell_type": "markdown",
   "metadata": {},
   "source": [
    "### 古诗"
   ]
  },
  {
   "cell_type": "code",
   "execution_count": null,
   "metadata": {
    "collapsed": true
   },
   "outputs": [],
   "source": [
    "poetrys = []\n",
    "with io.open('/Users/edwzhang/Documents/Machine Learning/poetry.txt','r',encoding='utf-8') as f:\n",
    "    for line in f:\n",
    "        try:\n",
    "            wuyan = True\n",
    "            title, content = line.strip().split(':')\n",
    "            content = content.replace(' ','')\n",
    "            # Check if it's Wuyan\n",
    "            for p in content.split(u'\\u3002')[:-1]:\n",
    "                for s in p.split(u'\\uff0c'):\n",
    "                    if len(s) != 5:\n",
    "                        wuyan = False\n",
    "                        break\n",
    "            # Discard if it's too short or too long \n",
    "            if len(content) < 10 or len(content) > 60:\n",
    "                continue\n",
    "            if (wuyan):\n",
    "                poetrys.append(content)\n",
    "       \n",
    "        except Exception as e: \n",
    "            print e"
   ]
  },
  {
   "cell_type": "code",
   "execution_count": 258,
   "metadata": {
    "collapsed": false
   },
   "outputs": [
    {
     "name": "stdout",
     "output_type": "stream",
     "text": [
      "15752\n",
      "玉泉归故刹，便老是僧期。乱木孤蝉后，寒山绝鸟时。若寻流水去，转出白云迟。见说千峰路，溪深复顶危。\n"
     ]
    }
   ],
   "source": [
    "print(len(poetrys))\n",
    "print(poetrys[10000])\n"
   ]
  },
  {
   "cell_type": "code",
   "execution_count": 366,
   "metadata": {
    "collapsed": false
   },
   "outputs": [
    {
     "data": {
      "text/plain": [
       "5147"
      ]
     },
     "execution_count": 366,
     "metadata": {},
     "output_type": "execute_result"
    }
   ],
   "source": []
  },
  {
   "cell_type": "code",
   "execution_count": 288,
   "metadata": {
    "collapsed": false
   },
   "outputs": [],
   "source": [
    "from collections import Counter\n",
    "\n",
    "\n",
    "def vocabularyDict(content, topNWords):\n",
    "    cnt = Counter()\n",
    "    for p in content:\n",
    "        for w in p:\n",
    "            cnt[w] +=1\n",
    "            \n",
    "    content_vocabulary = [i for (i,j) in sorted(dict(cnt).items(), key=lambda x:x[1], reverse=True)[:topNWords]]\n",
    "    # Note that the index here starts from 1\n",
    "    word_to_int_dict = dict((w,i) for i,w in enumerate(content_vocabulary,1))\n",
    "    int_to_word_dict = dict((i,w) for i,w in enumerate(content_vocabulary,1))\n",
    "    \n",
    "    # Insert UNK for unknown word at index 0\n",
    "    word_to_int_dict['UNK']=0\n",
    "    int_to_word_dict[0] = 'UNK'\n",
    "    \n",
    "    return word_to_int_dict, int_to_word_dict\n",
    "    "
   ]
  },
  {
   "cell_type": "code",
   "execution_count": 367,
   "metadata": {
    "collapsed": false
   },
   "outputs": [],
   "source": [
    "encoder, decoder = vocabularyDict(poetrys, 4000)"
   ]
  },
  {
   "cell_type": "code",
   "execution_count": 291,
   "metadata": {
    "collapsed": false
   },
   "outputs": [
    {
     "data": {
      "text/plain": [
       "{0: 'UNK',\n",
       " 1: u'\\uff0c',\n",
       " 2: u'\\u3002',\n",
       " 3: u'\\u4e0d',\n",
       " 4: u'\\u5c71',\n",
       " 5: u'\\u4eba',\n",
       " 6: u'\\u98ce',\n",
       " 7: u'\\u65e5',\n",
       " 8: u'\\u4e91',\n",
       " 9: u'\\u65e0',\n",
       " 10: u'\\u6708',\n",
       " 11: u'\\u4f55',\n",
       " 12: u'\\u4e00',\n",
       " 13: u'\\u6625',\n",
       " 14: u'\\u6c34',\n",
       " 15: u'\\u6765',\n",
       " 16: u'\\u82b1',\n",
       " 17: u'\\u79cb',\n",
       " 18: u'\\u6709',\n",
       " 19: u'\\u4e2d',\n",
       " 20: u'\\u5f52',\n",
       " 21: u'\\u4e0a',\n",
       " 22: u'\\u65f6',\n",
       " 23: u'\\u5929',\n",
       " 24: u'\\u76f8',\n",
       " 25: u'\\u5fc3',\n",
       " 26: u'\\u591c',\n",
       " 27: u'\\u53bb',\n",
       " 28: u'\\u5e74',\n",
       " 29: u'\\u6b64',\n",
       " 30: u'\\u6c5f',\n",
       " 31: u'\\u77e5',\n",
       " 32: u'\\u957f',\n",
       " 33: u'\\u5ba2',\n",
       " 34: u'\\u884c',\n",
       " 35: u'\\u767d',\n",
       " 36: u'\\u81ea',\n",
       " 37: u'\\u5bd2',\n",
       " 38: u'\\u751f',\n",
       " 39: u'\\u89c1',\n",
       " 40: u'\\u8fdc',\n",
       " 41: u'\\u7a7a',\n",
       " 42: u'\\u541b',\n",
       " 43: u'\\u6e05',\n",
       " 44: u'\\u96e8',\n",
       " 45: u'\\u4e3a',\n",
       " 46: u'\\u91cc',\n",
       " 47: u'\\u8def',\n",
       " 48: u'\\u5728',\n",
       " 49: u'\\u9ad8',\n",
       " 50: u'\\u843d',\n",
       " 51: u'\\u5904',\n",
       " 52: u'\\u591a',\n",
       " 53: u'\\u4e0b',\n",
       " 54: u'\\u522b',\n",
       " 55: u'\\u672a',\n",
       " 56: u'\\u5982',\n",
       " 57: u'\\u95e8',\n",
       " 58: u'\\u6811',\n",
       " 59: u'\\u57ce',\n",
       " 60: u'\\u8349',\n",
       " 61: u'\\u9752',\n",
       " 62: u'\\u660e',\n",
       " 63: u'\\u8fd8',\n",
       " 64: u'\\u58f0',\n",
       " 65: u'\\u5357',\n",
       " 66: u'\\u5165',\n",
       " 67: u'\\u8272',\n",
       " 68: u'\\u5e94',\n",
       " 69: u'\\u601d',\n",
       " 70: u'\\u6df1',\n",
       " 71: u'\\u5f97',\n",
       " 72: u'\\u72ec',\n",
       " 73: u'\\u96ea',\n",
       " 74: u'\\u51fa',\n",
       " 75: u'\\u6797',\n",
       " 76: u'\\u65b0',\n",
       " 77: u'\\u5bb6',\n",
       " 78: u'\\u662f',\n",
       " 79: u'\\u4e8b',\n",
       " 80: u'\\u6d41',\n",
       " 81: u'\\u5c3d',\n",
       " 82: u'\\u95f2',\n",
       " 83: u'\\u9053',\n",
       " 84: u'\\u5f00',\n",
       " 85: u'\\u8c01',\n",
       " 86: u'\\u70df',\n",
       " 87: u'\\u671d',\n",
       " 88: u'\\u5343',\n",
       " 89: u'\\u98de',\n",
       " 90: u'\\u9152',\n",
       " 91: u'\\u6101',\n",
       " 92: u'\\u4e0e',\n",
       " 93: u'\\u5b50',\n",
       " 94: u'\\u4eca',\n",
       " 95: u'\\u4e1c',\n",
       " 96: u'\\u524d',\n",
       " 97: u'\\u66f4',\n",
       " 98: u'\\u56de',\n",
       " 99: u'\\u95fb',\n",
       " 100: u'\\u5730',\n",
       " 101: u'\\u671b',\n",
       " 102: u'\\u5411',\n",
       " 103: u'\\u9e1f',\n",
       " 104: u'\\u540c',\n",
       " 105: u'\\u770b',\n",
       " 106: u'\\u897f',\n",
       " 107: u'\\u77f3',\n",
       " 108: u'\\u6b32',\n",
       " 109: u'\\u53f6',\n",
       " 110: u'\\u5df2',\n",
       " 111: u'\\u91cd',\n",
       " 112: u'\\u6e38',\n",
       " 113: u'\\u4e09',\n",
       " 114: u'\\u9a6c',\n",
       " 115: u'\\u4e07',\n",
       " 116: u'\\u8fc7',\n",
       " 117: u'\\u6d77',\n",
       " 118: u'\\u8863',\n",
       " 119: u'\\u6545',\n",
       " 120: u'\\u65e7',\n",
       " 121: u'\\u60c5',\n",
       " 122: u'\\u53e4',\n",
       " 123: u'\\u665a',\n",
       " 124: u'\\u6ee1',\n",
       " 125: u'\\u9633',\n",
       " 126: u'\\u66ae',\n",
       " 127: u'\\u8001',\n",
       " 128: u'\\u7389',\n",
       " 129: u'\\u9999',\n",
       " 130: u'\\u590d',\n",
       " 131: u'\\u79bb',\n",
       " 132: u'\\u5c06',\n",
       " 133: u'\\u5b64',\n",
       " 134: u'\\u96be',\n",
       " 135: u'\\u5149',\n",
       " 136: u'\\u5916',\n",
       " 137: u'\\u5230',\n",
       " 138: u'\\u4e66',\n",
       " 139: u'\\u677e',\n",
       " 140: u'\\u91d1',\n",
       " 141: u'\\u7af9',\n",
       " 142: u'\\u541f',\n",
       " 143: u'\\u5c18',\n",
       " 144: u'\\u51e0',\n",
       " 145: u'\\u8eab',\n",
       " 146: u'\\u4ece',\n",
       " 147: u'\\u91ce',\n",
       " 148: u'\\u53ef',\n",
       " 149: u'\\u5206',\n",
       " 150: u'\\u53d1',\n",
       " 151: u'\\u5173',\n",
       " 152: u'\\u697c',\n",
       " 153: u'\\u6210',\n",
       " 154: u'\\u8bd7',\n",
       " 155: u'\\u540e',\n",
       " 156: u'\\u4e61',\n",
       " 157: u'\\u8d77',\n",
       " 158: u'\\u72b9',\n",
       " 159: u'\\u65b9',\n",
       " 160: u'\\u540d',\n",
       " 161: u'\\u83ab',\n",
       " 162: u'\\u610f',\n",
       " 163: u'\\u68a6',\n",
       " 164: u'\\u8fb9',\n",
       " 165: u'\\u9022',\n",
       " 166: u'\\u4f3c',\n",
       " 167: u'\\u5f71',\n",
       " 168: u'\\u5317',\n",
       " 169: u'\\u968f',\n",
       " 170: u'\\u4e34',\n",
       " 171: u'\\u5750',\n",
       " 172: u'\\u6b4c',\n",
       " 173: u'\\u521d',\n",
       " 174: u'\\u9732',\n",
       " 175: u'\\u6211',\n",
       " 176: u'\\u5e73',\n",
       " 177: u'\\u8fd1',\n",
       " 178: u'\\u67f3',\n",
       " 179: u'\\u4ea6',\n",
       " 180: u'\\u5f53',\n",
       " 181: u'\\u5e7d',\n",
       " 182: u'\\u80fd',\n",
       " 183: u'\\u9634',\n",
       " 184: u'\\u975e',\n",
       " 185: u'\\u5171',\n",
       " 186: u'\\u95f4',\n",
       " 187: u'\\u9759',\n",
       " 188: u'\\u671f',\n",
       " 189: u'\\u6b8b',\n",
       " 190: u'\\u5915',\n",
       " 191: u'\\u7559',\n",
       " 192: u'\\u6cc9',\n",
       " 193: u'\\u82b3',\n",
       " 194: u'\\u971c',\n",
       " 195: u'\\u56fd',\n",
       " 196: u'\\u6cb3',\n",
       " 197: u'\\u695a',\n",
       " 198: u'\\u53f0',\n",
       " 199: u'\\u5fae',\n",
       " 200: u'\\u95ee',\n",
       " 201: u'\\u6eaa',\n",
       " 202: u'\\u534e',\n",
       " 203: u'\\u5934',\n",
       " 204: u'\\u5c81',\n",
       " 205: u'\\u9189',\n",
       " 206: u'\\u7ecf',\n",
       " 207: u'\\u4f5c',\n",
       " 208: u'\\u7ec8',\n",
       " 209: u'\\u56e0',\n",
       " 210: u'\\u6c49',\n",
       " 211: u'\\u9065',\n",
       " 212: u'\\u6c14',\n",
       " 213: u'\\u7ea2',\n",
       " 214: u'\\u821f',\n",
       " 215: u'\\u96c1',\n",
       " 216: u'\\u4ed9',\n",
       " 217: u'\\u5cf0',\n",
       " 218: u'\\u5c11',\n",
       " 219: u'\\u8a00',\n",
       " 220: u'\\u679d',\n",
       " 221: u'\\u5bbf',\n",
       " 222: u'\\u5ead',\n",
       " 223: u'\\u8fde',\n",
       " 224: u'\\u5bfb',\n",
       " 225: u'\\u7136',\n",
       " 226: u'\\u6653',\n",
       " 227: u'\\u7eff',\n",
       " 228: u'\\u6c99',\n",
       " 229: u'\\u6c60',\n",
       " 230: u'\\u9ec4',\n",
       " 231: u'\\u7167',\n",
       " 232: u'\\u534a',\n",
       " 233: u'\\u4e45',\n",
       " 234: u'\\u50e7',\n",
       " 235: u'\\u5bfa',\n",
       " 236: u'\\u6ce2',\n",
       " 237: u'\\u4e16',\n",
       " 238: u'\\u65e9',\n",
       " 239: u'\\u8f7b',\n",
       " 240: u'\\u597d',\n",
       " 241: u'\\u516c',\n",
       " 242: u'\\u6b63',\n",
       " 243: u'\\u9e64',\n",
       " 244: u'\\u5fc6',\n",
       " 245: u'\\u65ad',\n",
       " 246: u'\\u5b89',\n",
       " 247: u'\\u5c45',\n",
       " 248: u'\\u4f9d',\n",
       " 249: u'\\u6728',\n",
       " 250: u'\\u60ca',\n",
       " 251: u'\\u5439',\n",
       " 252: u'\\u52a8',\n",
       " 253: u'\\u9f99',\n",
       " 254: u'\\u9001',\n",
       " 255: u'\\u5bf9',\n",
       " 256: u'\\u51c9',\n",
       " 257: u'\\u4e94',\n",
       " 258: u'\\u552f',\n",
       " 259: u'\\u6cea',\n",
       " 260: u'\\u6587',\n",
       " 261: u'\\u75c5',\n",
       " 262: u'\\u5bc4',\n",
       " 263: u'\\u53c8',\n",
       " 264: u'\\u758f',\n",
       " 265: u'\\u9e23',\n",
       " 266: u'\\u78a7',\n",
       " 267: u'\\u901a',\n",
       " 268: u'\\u5bc2',\n",
       " 269: u'\\u738b',\n",
       " 270: u'\\u767b',\n",
       " 271: u'\\u7a97',\n",
       " 272: u'\\u82e5',\n",
       " 273: u'\\u5782',\n",
       " 274: u'\\u5c0f',\n",
       " 275: u'\\u5927',\n",
       " 276: u'\\u5e26',\n",
       " 277: u'\\u8fdf',\n",
       " 278: u'\\u60b2',\n",
       " 279: u'\\u6240',\n",
       " 280: u'\\u4e71',\n",
       " 281: u'\\u7fe0',\n",
       " 282: u'\\u666f',\n",
       " 283: u'\\u542c',\n",
       " 284: u'\\u5174',\n",
       " 285: u'\\u56ed',\n",
       " 286: u'\\u767e',\n",
       " 287: u'\\u582a',\n",
       " 288: u'\\u53cc',\n",
       " 289: u'\\u601c',\n",
       " 290: u'\\u82e6',\n",
       " 291: u'\\u987b',\n",
       " 292: u'\\u6d6e',\n",
       " 293: u'\\u4f20',\n",
       " 294: u'\\u6674',\n",
       " 295: u'\\u9675',\n",
       " 296: u'\\u6e56',\n",
       " 297: u'\\u81f3',\n",
       " 298: u'\\u8427',\n",
       " 299: u'\\u6000',\n",
       " 300: u'\\u9690',\n",
       " 301: u'\\u5ddd',\n",
       " 302: u'\\u66f2',\n",
       " 303: u'\\u5c82',\n",
       " 304: u'\\u706f',\n",
       " 305: u'\\u661f',\n",
       " 306: u'\\u5f85',\n",
       " 307: u'\\u8f66',\n",
       " 308: u'\\u6697',\n",
       " 309: u'\\u5bab',\n",
       " 310: u'\\u4e5d',\n",
       " 311: u'\\u7a00',\n",
       " 312: u'\\u56db',\n",
       " 313: u'\\u733f',\n",
       " 314: u'\\u9c7c',\n",
       " 315: u'\\u8bed',\n",
       " 316: u'\\u5341',\n",
       " 317: u'\\u7231',\n",
       " 318: u'\\u9694',\n",
       " 319: u'\\u5f84',\n",
       " 320: u'\\u5cb8',\n",
       " 321: u'\\u53ea',\n",
       " 322: u'\\u79e6',\n",
       " 323: u'\\u89c9',\n",
       " 324: u'\\u79fb',\n",
       " 325: u'\\u7985',\n",
       " 326: u'\\u66fe',\n",
       " 327: u'\\u4ead',\n",
       " 328: u'\\u6068',\n",
       " 329: u'\\u5148',\n",
       " 330: u'\\u5ea6',\n",
       " 331: u'\\u7434',\n",
       " 332: u'\\u5b98',\n",
       " 333: u'\\u4e24',\n",
       " 334: u'\\u5e38',\n",
       " 335: u'\\u949f',\n",
       " 336: u'\\u9601',\n",
       " 337: u'\\u7530',\n",
       " 338: u'\\u6563',\n",
       " 339: u'\\u4eb2',\n",
       " 340: u'\\u5f81',\n",
       " 341: u'\\u865a',\n",
       " 342: u'\\u60a0',\n",
       " 343: u'\\u82cd',\n",
       " 344: u'\\u8005',\n",
       " 345: u'\\u971e',\n",
       " 346: u'\\u624d',\n",
       " 347: u'\\u8f6c',\n",
       " 348: u'\\u82d4',\n",
       " 349: u'\\u548c',\n",
       " 350: u'\\u706b',\n",
       " 351: u'\\u659c',\n",
       " 352: u'\\u7269',\n",
       " 353: u'\\u6069',\n",
       " 354: u'\\u5408',\n",
       " 355: u'\\u795e',\n",
       " 356: u'\\u9980',\n",
       " 357: u'\\u6842',\n",
       " 358: u'\\u585e',\n",
       " 359: u'\\u5ffd',\n",
       " 360: u'\\u4f1a',\n",
       " 361: u'\\u5374',\n",
       " 362: u'\\u7edd',\n",
       " 363: u'\\u5802',\n",
       " 364: u'\\u4fe1',\n",
       " 365: u'\\u542b',\n",
       " 366: u'\\u4f7f',\n",
       " 367: u'\\u5e06',\n",
       " 368: u'\\u6570',\n",
       " 369: u'\\u8282',\n",
       " 370: u'\\u6816',\n",
       " 371: u'\\u7a77',\n",
       " 372: u'\\u5dde',\n",
       " 373: u'\\u836f',\n",
       " 374: u'\\u9996',\n",
       " 375: u'\\u9010',\n",
       " 376: u'\\u4f4f',\n",
       " 377: u'\\u5f80',\n",
       " 378: u'\\u4e50',\n",
       " 379: u'\\u5367',\n",
       " 380: u'\\u676f',\n",
       " 381: u'\\u821e',\n",
       " 382: u'\\u5170',\n",
       " 383: u'\\u8bc6',\n",
       " 384: u'\\u6d6a',\n",
       " 385: u'\\u5b9a',\n",
       " 386: u'\\u8d2b',\n",
       " 387: u'\\u7d2b',\n",
       " 388: u'\\u4f24',\n",
       " 389: u'\\u8f9e',\n",
       " 390: u'\\u6e58',\n",
       " 391: u'\\u543e',\n",
       " 392: u'\\u7ed5',\n",
       " 393: u'\\u60dc',\n",
       " 394: u'\\u6d1e',\n",
       " 395: u'\\u8352',\n",
       " 396: u'\\u557c',\n",
       " 397: u'\\u955c',\n",
       " 398: u'\\u7fa4',\n",
       " 399: u'\\u4e58',\n",
       " 400: u'\\u4e14',\n",
       " 401: u'\\u7591',\n",
       " 402: u'\\u5ca9',\n",
       " 403: u'\\u8ff9',\n",
       " 404: u'\\u7b11',\n",
       " 405: u'\\u5e08',\n",
       " 406: u'\\u867d',\n",
       " 407: u'\\u8239',\n",
       " 408: u'\\u771f',\n",
       " 409: u'\\u51b7',\n",
       " 410: u'\\u7ffb',\n",
       " 411: u'\\u4e3b',\n",
       " 412: u'\\u6620',\n",
       " 413: u'\\u6b65',\n",
       " 414: u'\\u62c2',\n",
       " 415: u'\\u4f59',\n",
       " 416: u'\\u5fd8',\n",
       " 417: u'\\u8c22',\n",
       " 418: u'\\u624b',\n",
       " 419: u'\\u80dc',\n",
       " 420: u'\\u7720',\n",
       " 421: u'\\u5c1a',\n",
       " 422: u'\\u90bb',\n",
       " 423: u'\\u6d1b',\n",
       " 424: u'\\u5973',\n",
       " 425: u'\\u8584',\n",
       " 426: u'\\u8870',\n",
       " 427: u'\\u71d5',\n",
       " 428: u'\\u6b22',\n",
       " 429: u'\\u5251',\n",
       " 430: u'\\u52b3',\n",
       " 431: u'\\u9b13',\n",
       " 432: u'\\u4f11',\n",
       " 433: u'\\u63a9',\n",
       " 434: u'\\u6751',\n",
       " 435: u'\\u4e8c',\n",
       " 436: u'\\u8749',\n",
       " 437: u'\\u4e39',\n",
       " 438: u'\\u5bb9',\n",
       " 439: u'\\u51e4',\n",
       " 440: u'\\u6f6e',\n",
       " 441: u'\\u9891',\n",
       " 442: u'\\u7075',\n",
       " 443: u'\\u5e1d',\n",
       " 444: u'\\u5f02',\n",
       " 445: u'\\u59cb',\n",
       " 446: u'\\u501a',\n",
       " 447: u'\\u6e10',\n",
       " 448: u'\\u6613',\n",
       " 449: u'\\u5c14',\n",
       " 450: u'\\u7ed3',\n",
       " 451: u'\\u6d32',\n",
       " 452: u'\\u6865',\n",
       " 453: u'\\u8fce',\n",
       " 454: u'\\u7acb',\n",
       " 455: u'\\u559c',\n",
       " 456: u'\\u4ee4',\n",
       " 457: u'\\u97f3',\n",
       " 458: u'\\u5373',\n",
       " 459: u'\\u7247',\n",
       " 460: u'\\u7686',\n",
       " 461: u'\\u5377',\n",
       " 462: u'\\u504f',\n",
       " 463: u'\\u6696',\n",
       " 464: u'\\u6761',\n",
       " 465: u'\\u7ec6',\n",
       " 466: u'\\u5434',\n",
       " 467: u'\\u8db3',\n",
       " 468: u'\\u6025',\n",
       " 469: u'\\u5b66',\n",
       " 470: u'\\u5f92',\n",
       " 471: u'\\u6885',\n",
       " 472: u'\\u8bf4',\n",
       " 473: u'\\u989c',\n",
       " 474: u'\\u8c37',\n",
       " 475: u'\\u98d8',\n",
       " 476: u'\\u6ca7',\n",
       " 477: u'\\u6768',\n",
       " 478: u'\\u4ed6',\n",
       " 479: u'\\u6682',\n",
       " 480: u'\\u6d66',\n",
       " 481: u'\\u4ecd',\n",
       " 482: u'\\u6843',\n",
       " 483: u'\\u7f57',\n",
       " 484: u'\\u63a5',\n",
       " 485: u'\\u5cb3',\n",
       " 486: u'\\u4f34',\n",
       " 487: u'\\u5cad',\n",
       " 488: u'\\u89e3',\n",
       " 489: u'\\u519b',\n",
       " 490: u'\\u6447',\n",
       " 491: u'\\u90a3',\n",
       " 492: u'\\u6781',\n",
       " 493: u'\\u4fb5',\n",
       " 494: u'\\u7f18',\n",
       " 495: u'\\u613f',\n",
       " 496: u'\\u90e1',\n",
       " 497: u'\\u5ff5',\n",
       " 498: u'\\u4e95',\n",
       " 499: u'\\u79ef',\n",
       " 500: u'\\u6614',\n",
       " 501: u'\\u4f4e',\n",
       " 502: u'\\u6e7f',\n",
       " 503: u'\\u4ee5',\n",
       " 504: u'\\u9a91',\n",
       " 505: u'\\u8f69',\n",
       " 506: u'\\u5bb5',\n",
       " 507: u'\\u4ea4',\n",
       " 508: u'\\u7f62',\n",
       " 509: u'\\u8ff7',\n",
       " 510: u'\\u773c',\n",
       " 511: u'\\u65c5',\n",
       " 512: u'\\u4fbf',\n",
       " 513: u'\\u753b',\n",
       " 514: u'\\u672c',\n",
       " 515: u'\\u5f26',\n",
       " 516: u'\\u6795',\n",
       " 517: u'\\u592a',\n",
       " 518: u'\\u9e3f',\n",
       " 519: u'\\u9619',\n",
       " 520: u'\\u658b',\n",
       " 521: u'\\u6e21',\n",
       " 522: u'\\u7d20',\n",
       " 523: u'\\u590f',\n",
       " 524: u'\\u91c7',\n",
       " 525: u'\\u8d8a',\n",
       " 526: u'\\u6daf',\n",
       " 527: u'\\u6a2a',\n",
       " 528: u'\\u5f15',\n",
       " 529: u'\\u5723',\n",
       " 530: u'\\u9493',\n",
       " 531: u'\\u4e1d',\n",
       " 532: u'\\u6005',\n",
       " 533: u'\\u90ce',\n",
       " 534: u'\\u8bba',\n",
       " 535: u'\\u5e8a',\n",
       " 536: u'\\u58eb',\n",
       " 537: u'\\u53ca',\n",
       " 538: u'\\u6c42',\n",
       " 539: u'\\u9526',\n",
       " 540: u'\\u60f3',\n",
       " 541: u'\\u83b2',\n",
       " 542: u'\\u6cdb',\n",
       " 543: u'\\u76f4',\n",
       " 544: u'\\u5fe7',\n",
       " 545: u'\\u5b57',\n",
       " 546: u'\\u6298',\n",
       " 547: u'\\u904d',\n",
       " 548: u'\\u6bbf',\n",
       " 549: u'\\u73e0',\n",
       " 550: u'\\u540f',\n",
       " 551: u'\\u606f',\n",
       " 552: u'\\u5be5',\n",
       " 553: u'\\u83ca',\n",
       " 554: u'\\u6839',\n",
       " 555: u'\\u5e72',\n",
       " 556: u'\\u6301',\n",
       " 557: u'\\u8d24',\n",
       " 558: u'\\u60ac',\n",
       " 559: u'\\u6e14',\n",
       " 560: u'\\u8363',\n",
       " 561: u'\\u9b42',\n",
       " 562: u'\\u8457',\n",
       " 563: u'\\u4fd7',\n",
       " 564: u'\\u51c4',\n",
       " 565: u'\\u5b81',\n",
       " 566: u'\\u7a0b',\n",
       " 567: u'\\u4eac',\n",
       " 568: u'\\u8d4f',\n",
       " 569: u'\\u80e1',\n",
       " 570: u'\\u25a1',\n",
       " 571: u'\\u996e',\n",
       " 572: u'\\u9636',\n",
       " 573: u'\\u6881',\n",
       " 574: u'\\u95ed',\n",
       " 575: u'\\u5175',\n",
       " 576: u'\\u6237',\n",
       " 577: u'\\u529b',\n",
       " 578: u'\\u529f',\n",
       " 579: u'\\u8d35',\n",
       " 580: u'\\u83ba',\n",
       " 581: u'\\u6d45',\n",
       " 582: u'\\u62a5',\n",
       " 583: u'\\u623f',\n",
       " 584: u'\\u60df',\n",
       " 585: u'\\u8bb8',\n",
       " 586: u'\\u9f50',\n",
       " 587: u'\\u592b',\n",
       " 588: u'\\u68f9',\n",
       " 589: u'\\u4f73',\n",
       " 590: u'\\u6731',\n",
       " 591: u'\\u5b9c',\n",
       " 592: u'\\u7fbd',\n",
       " 593: u'\\u547d',\n",
       " 594: u'\\u50ac',\n",
       " 595: u'\\u9e21',\n",
       " 596: u'\\u58c1',\n",
       " 597: u'\\u51b0',\n",
       " 598: u'\\u5f69',\n",
       " 599: u'\\u98df',\n",
       " 600: u'\\u9986',\n",
       " 601: u'\\u5ba4',\n",
       " 602: u'\\u5e9c',\n",
       " 603: u'\\u9057',\n",
       " 604: u'\\u7528',\n",
       " 605: u'\\u6c88',\n",
       " 606: u'\\u508d',\n",
       " 607: u'\\u5b88',\n",
       " 608: u'\\u5371',\n",
       " 609: u'\\u85cf',\n",
       " 610: u'\\u6249',\n",
       " 611: u'\\u7e41',\n",
       " 612: u'\\u503e',\n",
       " 613: u'\\u76ee',\n",
       " 614: u'\\u7531',\n",
       " 615: u'\\u90fd',\n",
       " 616: u'\\u6b7b',\n",
       " 617: u'\\u6668',\n",
       " 618: u'\\u9762',\n",
       " 619: u'\\u53f9',\n",
       " 620: u'\\u8bbf',\n",
       " 621: u'\\u4e89',\n",
       " 622: u'\\u5316',\n",
       " 623: u'\\u4f46',\n",
       " 624: u'\\u517c',\n",
       " 625: u'\\u4efb',\n",
       " 626: u'\\u6536',\n",
       " 627: u'\\u6218',\n",
       " 628: u'\\u7eb7',\n",
       " 629: u'\\u8ba1',\n",
       " 630: u'\\u611f',\n",
       " 631: u'\\u673a',\n",
       " 632: u'\\u6597',\n",
       " 633: u'\\u6cbe',\n",
       " 634: u'\\u51dd',\n",
       " 635: u'\\u4e1b',\n",
       " 636: u'\\u96fe',\n",
       " 637: u'\\u539f',\n",
       " 638: u'\\u8fe5',\n",
       " 639: u'\\u53e5',\n",
       " 640: u'\\u54cd',\n",
       " 641: u'\\u8f7d',\n",
       " 642: u'\\u81e3',\n",
       " 643: u'\\u5e18',\n",
       " 644: u'\\u79bd',\n",
       " 645: u'\\u4e8e',\n",
       " 646: u'\\u6f6d',\n",
       " 647: u'\\u5931',\n",
       " 648: u'\\u643a',\n",
       " 649: u'\\u66d9',\n",
       " 650: u'\\u8bdd',\n",
       " 651: u'\\u6b8a',\n",
       " 652: u'\\u84ec',\n",
       " 653: u'\\u5e2d',\n",
       " 654: u'\\u8bf8',\n",
       " 655: u'\\u660f',\n",
       " 656: u'\\u8377',\n",
       " 657: u'\\u7f8e',\n",
       " 658: u'\\u70db',\n",
       " 659: u'\\u7384',\n",
       " 660: u'\\u9898',\n",
       " 661: u'\\u6027',\n",
       " 662: u'\\u9500',\n",
       " 663: u'\\u8d4b',\n",
       " 664: u'\\u6ef4',\n",
       " 665: u'\\u59be',\n",
       " 666: u'\\u5fa1',\n",
       " 667: u'\\u55a7',\n",
       " 668: u'\\u53d8',\n",
       " 669: u'\\u5b9d',\n",
       " 670: u'\\u7adf',\n",
       " 671: u'\\u5858',\n",
       " 672: u'\\u820d',\n",
       " 673: u'\\u5df4',\n",
       " 674: u'\\u826f',\n",
       " 675: u'\\u4e4b',\n",
       " 676: u'\\u51c0',\n",
       " 677: u'\\u6da7',\n",
       " 678: u'\\u6d25',\n",
       " 679: u'\\u8fe2',\n",
       " 680: u'\\u513f',\n",
       " 681: u'\\u51a5',\n",
       " 682: u'\\u5c0a',\n",
       " 683: u'\\u7ba1',\n",
       " 684: u'\\u5e78',\n",
       " 685: u'\\u8700',\n",
       " 686: u'\\u5bde',\n",
       " 687: u'\\u6028',\n",
       " 688: u'\\u627f',\n",
       " 689: u'\\u6e1a',\n",
       " 690: u'\\u53d6',\n",
       " 691: u'\\u9047',\n",
       " 692: u'\\u70e7',\n",
       " 693: u'\\u626b',\n",
       " 694: u'\\u89c2',\n",
       " 695: u'\\u6c89',\n",
       " 696: u'\\u6851',\n",
       " 697: u'\\u6c38',\n",
       " 698: u'\\u4f17',\n",
       " 699: u'\\u6500',\n",
       " 700: u'\\u5fc5',\n",
       " 701: u'\\u9a7f',\n",
       " 702: u'\\u60ed',\n",
       " 703: u'\\u9f13',\n",
       " 704: u'\\u53e3',\n",
       " 705: u'\\u5185',\n",
       " 706: u'\\u60c6',\n",
       " 707: u'\\u6302',\n",
       " 708: u'\\u987e',\n",
       " 709: u'\\u4faf',\n",
       " 710: u'\\u89d2',\n",
       " 711: u'\\u9662',\n",
       " 712: u'\\u5168',\n",
       " 713: u'\\u76d8',\n",
       " 714: u'\\u7aef',\n",
       " 715: u'\\u674e',\n",
       " 716: u'\\u4e3e',\n",
       " 717: u'\\u4e1a',\n",
       " 718: u'\\u53bf',\n",
       " 719: u'\\u804a',\n",
       " 720: u'\\u8c03',\n",
       " 721: u'\\u604b',\n",
       " 722: u'\\u51b5',\n",
       " 723: u'\\u5fb7',\n",
       " 724: u'\\u78ec',\n",
       " 725: u'\\u793c',\n",
       " 726: u'\\u5883',\n",
       " 727: u'\\u4ff1',\n",
       " 728: u'\\u6bcf',\n",
       " 729: u'\\u8f6e',\n",
       " 730: u'\\u7834',\n",
       " 731: u'\\u6ca1',\n",
       " 732: u'\\u5c9b',\n",
       " 733: u'\\u6f0f',\n",
       " 734: u'\\u79cd',\n",
       " 735: u'\\u7fa1',\n",
       " 736: u'\\u4fee',\n",
       " 737: u'\\u6628',\n",
       " 738: u'\\u5c4b',\n",
       " 739: u'\\u5706',\n",
       " 740: u'\\u7fc1',\n",
       " 741: u'\\u80cc',\n",
       " 742: u'\\u5179',\n",
       " 743: u'\\u82d1',\n",
       " 744: u'\\u8346',\n",
       " 745: u'\\u6d88',\n",
       " 746: u'\\u62b1',\n",
       " 747: u'\\u6cd5',\n",
       " 748: u'\\u501f',\n",
       " 749: u'\\u8015',\n",
       " 750: u'\\u52e4',\n",
       " 751: u'\\u9614',\n",
       " 752: u'\\u620d',\n",
       " 753: u'\\u907f',\n",
       " 754: u'\\u5ce1',\n",
       " 755: u'\\u51ed',\n",
       " 756: u'\\u832b',\n",
       " 757: u'\\u6700',\n",
       " 758: u'\\u6b66',\n",
       " 759: u'\\u5c01',\n",
       " 760: u'\\u6ce5',\n",
       " 761: u'\\u52bf',\n",
       " 762: u'\\u6dee',\n",
       " 763: u'\\u8f89',\n",
       " 764: u'\\u6cfd',\n",
       " 765: u'\\u9014',\n",
       " 766: u'\\u7981',\n",
       " 767: u'\\u4fa3',\n",
       " 768: u'\\u8d60',\n",
       " 769: u'\\u8425',\n",
       " 770: u'\\u7ae0',\n",
       " 771: u'\\u8d1f',\n",
       " 772: u'\\u62db',\n",
       " 773: u'\\u895f',\n",
       " 774: u'\\u5fd7',\n",
       " 775: u'\\u65cc',\n",
       " 776: u'\\u841d',\n",
       " 777: u'\\u9645',\n",
       " 778: u'\\u5076',\n",
       " 779: u'\\u51a0',\n",
       " 780: u'\\u5e76',\n",
       " 781: u'\\u79f0',\n",
       " 782: u'\\u90ed',\n",
       " 783: u'\\u7b75',\n",
       " 784: u'\\u53e0',\n",
       " 785: u'\\u5de2',\n",
       " 786: u'\\u8273',\n",
       " 787: u'\\u5b85',\n",
       " 788: u'\\u6a35',\n",
       " 789: u'\\u725b',\n",
       " 790: u'\\u6b47',\n",
       " 791: u'\\u6d12',\n",
       " 792: u'\\u7eee',\n",
       " 793: u'\\u7a7f',\n",
       " 794: u'\\u7406',\n",
       " 795: u'\\u6559',\n",
       " 796: u'\\u538c',\n",
       " 797: u'\\u9647',\n",
       " 798: u'\\u80a0',\n",
       " 799: u'\\u300b',\n",
       " 800: u'\\u53cb',\n",
       " 801: u'\\u5c3a',\n",
       " 802: u'\\u6050',\n",
       " 803: u'\\u7687',\n",
       " 804: u'\\u5e02',\n",
       " 805: u'\\u300a',\n",
       " 806: u'\\u62ab',\n",
       " 807: u'\\u6307',\n",
       " 808: u'\\u9704',\n",
       " 809: u'\\u7c89',\n",
       " 810: u'\\u8336',\n",
       " 811: u'\\u5bb4',\n",
       " 812: u'\\u7709',\n",
       " 813: u'\\u620e',\n",
       " 814: u'\\u55df',\n",
       " 815: u'\\u516d',\n",
       " 816: u'\\u5019',\n",
       " 817: u'\\u964c',\n",
       " 818: u'\\u6d9b',\n",
       " 819: u'\\u9aa8',\n",
       " 820: u'\\u6e90',\n",
       " 821: u'\\u663c',\n",
       " 822: u'\\u90ca',\n",
       " 823: u'\\u51cc',\n",
       " 824: u'\\u5f04',\n",
       " 825: u'\\u6691',\n",
       " 826: u'\\u9701',\n",
       " 827: u'\\u5986',\n",
       " 828: u'\\u6656',\n",
       " 829: u'\\u5bc6',\n",
       " 830: u'\\u8c61',\n",
       " 831: u'\\u5b59',\n",
       " 832: u'\\u7ae5',\n",
       " 833: u'\\u54c0',\n",
       " 834: u'\\u6562',\n",
       " 835: u'\\u4ee3',\n",
       " 836: u'\\u864e',\n",
       " 837: u'\\u706d',\n",
       " 838: u'\\u67af',\n",
       " 839: u'\\u9a7b',\n",
       " 840: u'\\u62df',\n",
       " 841: u'\\u6756',\n",
       " 842: u'\\u56fe',\n",
       " 843: u'\\u6cca',\n",
       " 844: u'\\u5e90',\n",
       " 845: u'\\uff09',\n",
       " 846: u'\\u6bd4',\n",
       " 847: u'\\u76c8',\n",
       " 848: u'\\uff08',\n",
       " 849: u'\\u7b2c',\n",
       " 850: u'\\u5e7f',\n",
       " 851: u'\\u571f',\n",
       " 852: u'\\u505c',\n",
       " 853: u'\\u8986',\n",
       " 854: u'\\u548f',\n",
       " 855: u'\\u7089',\n",
       " 856: u'\\u7b3c',\n",
       " 857: u'\\u6a90',\n",
       " 858: u'\\u8854',\n",
       " 859: u'\\u4e4c',\n",
       " 860: u'\\u626c',\n",
       " 861: u'\\u866b',\n",
       " 862: u'\\u5176',\n",
       " 863: u'\\u75be',\n",
       " 864: u'\\u6247',\n",
       " 865: u'\\u9876',\n",
       " 866: u'\\u6dfb',\n",
       " 867: u'\\u679c',\n",
       " 868: u'\\u5e9f',\n",
       " 869: u'\\u51ac',\n",
       " 870: u'\\u5386',\n",
       " 871: u'\\u6295',\n",
       " 872: u'\\u9091',\n",
       " 873: u'\\u6773',\n",
       " 874: u'\\u77ed',\n",
       " 875: u'\\u5e55',\n",
       " 876: u'\\u70b9',\n",
       " 877: u'\\u8305',\n",
       " 878: u'\\u6f84',\n",
       " 879: u'\\u4e03',\n",
       " 880: u'\\u9042',\n",
       " 881: u'\\u5e10',\n",
       " 882: u'\\u5acc',\n",
       " 883: u'\\u53c2',\n",
       " 884: u'\\u5f62',\n",
       " 885: u'\\u5404',\n",
       " 886: u'\\u628a',\n",
       " 887: u'\\u7bf1',\n",
       " 888: u'\\u65d7',\n",
       " 889: u'\\u8bd5',\n",
       " 890: u'\\u6bb7',\n",
       " 891: u'\\u518d',\n",
       " 892: u'\\u80af',\n",
       " 893: u'\\u8776',\n",
       " 894: u'\\u76d6',\n",
       " 895: u'\\u653e',\n",
       " 896: u'\\u62e5',\n",
       " 897: u'\\u914c',\n",
       " 898: u'\\u5468',\n",
       " 899: u'\\u9e25',\n",
       " 900: u'\\u94b1',\n",
       " 901: u'\\u516b',\n",
       " 902: u'\\u96f7',\n",
       " 903: u'\\u9676',\n",
       " 904: u'\\u829c',\n",
       " 905: u'\\u5c42',\n",
       " 906: u'\\u7701',\n",
       " 907: u'\\u96d5',\n",
       " 908: u'\\u72c2',\n",
       " 909: u'\\u5143',\n",
       " 910: u'\\u719f',\n",
       " 911: u'\\u6bdb',\n",
       " 912: u'\\u6c40',\n",
       " 913: u'\\u9a71',\n",
       " 914: u'\\u75d5',\n",
       " 915: u'\\u5c90',\n",
       " 916: u'\\u6850',\n",
       " 917: u'\\u5e95',\n",
       " 918: u'\\u88ab',\n",
       " 919: u'\\u5f39',\n",
       " 920: u'\\u5e03',\n",
       " 921: u'\\u9e3e',\n",
       " 922: u'\\u5f3a',\n",
       " 923: u'\\u97f5',\n",
       " 924: u'\\u4e18',\n",
       " 925: u'\\u5112',\n",
       " 926: u'\\u6f2b',\n",
       " 927: u'\\u5217',\n",
       " 928: u'\\u7518',\n",
       " 929: u'\\u5dfe',\n",
       " 930: u'\\u7cbe',\n",
       " 931: u'\\u8d64',\n",
       " 932: u'\\u8981',\n",
       " 933: u'\\u8fd4',\n",
       " 934: u'\\u5c31',\n",
       " 935: u'\\u4e3d',\n",
       " 936: u'\\u5229',\n",
       " 937: u'\\u6ce3',\n",
       " 938: u'\\u6d17',\n",
       " 939: u'\\u6742',\n",
       " 940: u'\\u82f1',\n",
       " 941: u'\\u8fbe',\n",
       " 942: u'\\u58d1',\n",
       " 943: u'\\u503c',\n",
       " 944: u'\\u8fdd',\n",
       " 945: u'\\u62dc',\n",
       " 946: u'\\u8896',\n",
       " 947: u'\\u5dee',\n",
       " 948: u'\\u5207',\n",
       " 949: u'\\u76db',\n",
       " 950: u'\\u5df7',\n",
       " 951: u'\\u5f20',\n",
       " 952: u'\\u5899',\n",
       " 953: u'\\u7476',\n",
       " 954: u'\\u5f1f',\n",
       " 955: u'\\u670d',\n",
       " 956: u'\\u5531',\n",
       " 957: u'\\u9650',\n",
       " 958: u'\\u6127',\n",
       " 959: u'\\u6539',\n",
       " 960: u'\\u7f81',\n",
       " 961: u'\\u754f',\n",
       " 962: u'\\u675c',\n",
       " 963: u'\\u58f6',\n",
       " 964: u'\\u53f2',\n",
       " 965: u'\\u7eb5',\n",
       " 966: u'\\u5c1d',\n",
       " 967: u'\\u5ba6',\n",
       " 968: u'\\u67cf',\n",
       " 969: u'\\u7b56',\n",
       " 970: u'\\u5bff',\n",
       " 971: u'\\u9e7f',\n",
       " 972: u'\\u94f6',\n",
       " 973: u'\\u51b2',\n",
       " 974: u'\\u732e',\n",
       " 975: u'\\u972d',\n",
       " 976: u'\\u61d2',\n",
       " 977: u'\\u8e2a',\n",
       " 978: u'\\u67ab',\n",
       " 979: u'\\u84b2',\n",
       " 980: u'\\u711a',\n",
       " 981: u'\\u7cfb',\n",
       " 982: u'\\u7bc7',\n",
       " 983: u'\\u96c6',\n",
       " 984: u'\\u4e25',\n",
       " 985: u'\\u780c',\n",
       " 986: u'\\u814a',\n",
       " 987: u'\\u9611',\n",
       " 988: u'\\u575b',\n",
       " 989: u'\\u9ed1',\n",
       " 990: u'\\u67f4',\n",
       " 991: u'\\u9192',\n",
       " 992: u'\\u864f',\n",
       " 993: u'\\u96c5',\n",
       " 994: u'\\u5ef6',\n",
       " 995: u'\\u5370',\n",
       " 996: u'\\u5bbe',\n",
       " 997: u'\\u7554',\n",
       " 998: u'\\u5df1',\n",
       " 999: u'\\u6d53',\n",
       " ...}"
      ]
     },
     "execution_count": 291,
     "metadata": {},
     "output_type": "execute_result"
    }
   ],
   "source": [
    "decoder"
   ]
  },
  {
   "cell_type": "code",
   "execution_count": 336,
   "metadata": {
    "collapsed": false
   },
   "outputs": [],
   "source": [
    "def encode2sequence(content, encoder,sequence_length, timestep_gap):\n",
    "    content_ful = ''.join(content)\n",
    "    content_ful_ex = [w for w in content_ful if w != u'\\u3002' and w != u'\\uff0c']\n",
    "    content_int = [encoder[w] if w in encoder else encoder['UNK'] for w in content_ful_ex] \n",
    "    \n",
    "    x_rnn, y_rnn = divide_sequences(content_int,sequence_length,timestep_gap) \n",
    "    return content_int, x_rnn, y_rnn\n",
    "\n",
    "def divide_sequences(content_int, sequence_length, timestep_gap):\n",
    "    # Both c_in_dat and c_out_dat are list of sequence_length elements and each element will have n_samples values\n",
    "    c_in_dat = [[content_int[i+n] for i in xrange(0, len(content_int)-1-sequence_length, sequence_length)] for n in range(sequence_length)]\n",
    "    c_out_dat = [[content_int[i+n] for i in xrange(timestep_gap, len(content_int)-sequence_length, sequence_length)] for n in range(sequence_length)]\n",
    "    \n",
    "    xs = [np.stack(c) for c in c_in_dat]\n",
    "    ys = [np.stack(c) for c in c_out_dat]\n",
    "    \n",
    "    # Magic happens with this stack operation\n",
    "    # x_rnn will turn into an 2-d array of shape [n_samples,sequence_length]\n",
    "    x_rnn=np.stack(xs, axis=1)\n",
    "    y_rnn=np.expand_dims(np.stack(ys, axis=1), -1)   \n",
    "    return x_rnn, y_rnn"
   ]
  },
  {
   "cell_type": "code",
   "execution_count": 368,
   "metadata": {
    "collapsed": true
   },
   "outputs": [],
   "source": [
    "content_enc, x_rnn, y_rnn = encode2sequence(poetrys, encoder, 10, 1)"
   ]
  },
  {
   "cell_type": "code",
   "execution_count": 369,
   "metadata": {
    "collapsed": false
   },
   "outputs": [
    {
     "name": "stdout",
     "output_type": "stream",
     "text": [
      "寒随穷律变春逐鸟声开初风飘带柳晚雪间花梅\n",
      "[37, 169, 371, 1173, 668, 13, 375, 103, 64, 84, 173, 6, 475, 276, 178, 123, 73, 186, 16, 471]\n",
      "[  37  169  371 1173  668   13  375  103   64   84]\n",
      "[ 169  371 1173  668   13  375  103   64   84  173]\n"
     ]
    }
   ],
   "source": [
    "print(''.join(decoder[w] for w in content_enc[:20]))\n",
    "print (content_enc[:20])\n",
    "print (x_rnn[0])\n",
    "print (np.squeeze(y_rnn)[0])"
   ]
  },
  {
   "cell_type": "code",
   "execution_count": 370,
   "metadata": {
    "collapsed": false
   },
   "outputs": [
    {
     "name": "stdout",
     "output_type": "stream",
     "text": [
      "寒\n",
      "随\n",
      "穷\n",
      "律\n",
      "变\n",
      "春\n",
      "逐\n",
      "鸟\n",
      "声\n",
      "开\n",
      "随\n",
      "穷\n",
      "律\n",
      "变\n",
      "春\n",
      "逐\n",
      "鸟\n",
      "声\n",
      "开\n",
      "初\n"
     ]
    }
   ],
   "source": [
    "decode(x_rnn[:1],decoder)\n",
    "decode(np.squeeze(y_rnn)[:1],decoder)"
   ]
  },
  {
   "cell_type": "code",
   "execution_count": 373,
   "metadata": {
    "collapsed": true
   },
   "outputs": [],
   "source": [
    "batch_size=32\n",
    "n_hidden = 512\n",
    "n_fac = 500\n",
    "vocab_size = len(encoder)\n",
    "seq_len = 10\n",
    "\n",
    "from keras.preprocessing.text import text_to_word_sequence\n",
    "from keras.models import Sequential\n",
    "from keras.layers import Activation, TimeDistributed, Dense, RepeatVector, recurrent, Embedding\n",
    "from keras.layers.recurrent import LSTM\n",
    "from keras.layers.normalization import BatchNormalization\n",
    "from keras.optimizers import Adam, RMSprop\n",
    "\n",
    "training_model=Sequential([\n",
    "        Embedding(vocab_size, n_fac, input_length=seq_len, batch_input_shape=(batch_size,seq_len)),\n",
    "        BatchNormalization(),\n",
    "        LSTM(n_hidden, return_sequences=True, stateful=True),\n",
    "        TimeDistributed(Dense(vocab_size, activation='softmax')),\n",
    "    ])\n",
    "training_model.compile(loss='sparse_categorical_crossentropy', optimizer=Adam())\n",
    "\n",
    "# Prediction Model is the same as Training Model except it accpets batch_size = 1, \n",
    "# which is more convinient for prediction\n",
    "prediction_model=Sequential([\n",
    "        Embedding(vocab_size, n_fac, input_length=seq_len, batch_input_shape=(1,seq_len)),\n",
    "        BatchNormalization(),\n",
    "        LSTM(n_hidden, return_sequences=True, stateful=True),\n",
    "        TimeDistributed(Dense(vocab_size, activation='softmax')),\n",
    "    ])\n",
    "prediction_model.compile(loss='sparse_categorical_crossentropy', optimizer=Adam())"
   ]
  },
  {
   "cell_type": "code",
   "execution_count": 374,
   "metadata": {
    "collapsed": false
   },
   "outputs": [
    {
     "name": "stdout",
     "output_type": "stream",
     "text": [
      "Epoch 1/5\n",
      "57856/57856 [==============================] - 563s - loss: 6.4563   \n",
      "Epoch 2/5\n",
      "57856/57856 [==============================] - 561s - loss: 5.8773   \n",
      "Epoch 3/5\n",
      "57856/57856 [==============================] - 556s - loss: 5.5700   \n",
      "Epoch 4/5\n",
      "57856/57856 [==============================] - 556s - loss: 5.3272   \n",
      "Epoch 5/5\n",
      "57856/57856 [==============================] - 547s - loss: 5.1238   \n"
     ]
    }
   ],
   "source": [
    "mx = len(x_rnn)//batch_size*batch_size\n",
    "hist = training_model.fit(x_rnn[:mx], y_rnn[:mx], batch_size=batch_size, nb_epoch=5)"
   ]
  },
  {
   "cell_type": "code",
   "execution_count": 431,
   "metadata": {
    "collapsed": false
   },
   "outputs": [
    {
     "data": {
      "image/png": "[encoded data removed]",
      "text/plain": [
       "<matplotlib.figure.Figure at 0x1569ff1d0>"
      ]
     },
     "metadata": {},
     "output_type": "display_data"
    }
   ],
   "source": [
    "%matplotlib inline\n",
    "import matplotlib.pyplot as plt\n",
    "\n",
    "def plot_train(hist):\n",
    "    h = hist.history\n",
    "    if 'acc' in h:\n",
    "        meas='acc'\n",
    "        loc='lower right'\n",
    "    else:\n",
    "        meas='loss'\n",
    "        loc='upper right'\n",
    "    plt.plot(hist.history[meas])\n",
    "    #plt.plot(hist.history['val_'+meas])\n",
    "    plt.title('model '+meas)\n",
    "    plt.ylabel(meas)\n",
    "    plt.xlabel('epoch')\n",
    "    plt.legend(['train'], loc=loc)\n",
    "    \n",
    "plot_train(hist)"
   ]
  },
  {
   "cell_type": "code",
   "execution_count": 375,
   "metadata": {
    "collapsed": true
   },
   "outputs": [],
   "source": [
    "training_model.save_weights('lstm_model.h5')\n",
    "prediction_model.load_weights('lstm_model.h5')"
   ]
  },
  {
   "cell_type": "code",
   "execution_count": 376,
   "metadata": {
    "collapsed": false
   },
   "outputs": [],
   "source": [
    "input_idx = [word_to_int_dict[w] if w in word_to_int_dict else word_to_int_dict['UNK'] for w in unicode('床前明月光 疑是地上霜'.strip(), \"utf-8\")]\n",
    "input_arr = np.array(input_idx)\n",
    "p = prediction_model.predict(input_arr.reshape(1,10))\n"
   ]
  },
  {
   "cell_type": "code",
   "execution_count": 377,
   "metadata": {
    "collapsed": false
   },
   "outputs": [
    {
     "name": "stdout",
     "output_type": "stream",
     "text": [
      "(10, 4001)\n",
      "漏干禄这也奶子不一等\n"
     ]
    }
   ],
   "source": [
    "p = np.squeeze(p)\n",
    "print(p.shape)\n",
    "print(''.join(int_to_word_dict[np.argmax(o)] if i %5 == 0 for i,o in enumerate(p,1))"
   ]
  },
  {
   "cell_type": "code",
   "execution_count": 379,
   "metadata": {
    "collapsed": false
   },
   "outputs": [
    {
     "name": "stdout",
     "output_type": "stream",
     "text": [
      "漏干禄这也 奶子不一等 \n"
     ]
    }
   ],
   "source": [
    "pred_poetry = []\n",
    "for i,o in enumerate(p,1):\n",
    "    pred_poetry.append(int_to_word_dict[np.argmax(o)])\n",
    "    if i %5 == 0:\n",
    "        pred_poetry.append(' ')\n",
    "print (''.join(pred_poetry))"
   ]
  },
  {
   "cell_type": "code",
   "execution_count": 419,
   "metadata": {
    "collapsed": false
   },
   "outputs": [],
   "source": [
    "def writePoetry(inputPoetry):\n",
    "    input_idx = [word_to_int_dict[w] if w in word_to_int_dict else word_to_int_dict['UNK'] for w in unicode(inputPoetry.replace(' ',''), \"utf-8\")]\n",
    "    input_arr = np.array(input_idx)\n",
    "    p = prediction_model.predict(input_arr.reshape(1,10))\n",
    "    p = np.squeeze(p)\n",
    "    \n",
    "    pred_poetry = []\n",
    "    for i,o in enumerate(p,1):\n",
    "        pred_poetry.append(decoder[np.argmax(o)])\n",
    "        if i %5 == 0:\n",
    "            pred_poetry.append(' ')\n",
    "    print (''.join(pred_poetry))\n",
    "    "
   ]
  },
  {
   "cell_type": "code",
   "execution_count": 423,
   "metadata": {
    "collapsed": false
   },
   "outputs": [
    {
     "name": "stdout",
     "output_type": "stream",
     "text": [
      "床前明月光 疑是地上霜\n",
      "尘十重君天 愁年人风道 \n",
      "************\n",
      "白日依山尽 黄河入海流\n",
      "去离水庐来 杯歌原风看 \n",
      "************\n",
      "危楼高百尺 手可摘星辰\n",
      "回照照稽山 容兴自旧客 \n",
      "************\n",
      "春眠不觉晓 处处闻啼鸟\n",
      "人相知得然 风草无手去 \n",
      "************\n",
      "夕阳无限好 只是近黄昏\n",
      "项金犹勤山 云为成目秋 \n",
      "************\n",
      "故国三千里 深宫二十年\n",
      "峰听春晚君 叶自山上何 \n",
      "************\n",
      "人闲桂花落 夜静春山空\n",
      "必邓城中柴 林洲心茅遥 \n"
     ]
    }
   ],
   "source": [
    "print('床前明月光 疑是地上霜')\n",
    "writePoetry('床前明月光 疑是地上霜')\n",
    "print('************')\n",
    "print('白日依山尽 黄河入海流')\n",
    "writePoetry('白日依山尽 黄河入海流')\n",
    "print('************')\n",
    "print('危楼高百尺 手可摘星辰')\n",
    "writePoetry('危楼高百尺 手可摘星辰')\n",
    "print('************')\n",
    "print('春眠不觉晓 处处闻啼鸟')\n",
    "writePoetry('春眠不觉晓 处处闻啼鸟')\n",
    "print('************')\n",
    "print('夕阳无限好 只是近黄昏')\n",
    "writePoetry('夕阳无限好 只是近黄昏')\n",
    "print('************')\n",
    "print('故国三千里 深宫二十年')\n",
    "writePoetry('故国三千里 深宫二十年')\n",
    "print('************')\n",
    "print('人闲桂花落 夜静春山空')\n",
    "writePoetry('人闲桂花落 夜静春山空')"
   ]
  },
  {
   "cell_type": "markdown",
   "metadata": {},
   "source": [
    "#### 2. Jieba"
   ]
  },
  {
   "cell_type": "code",
   "execution_count": 6,
   "metadata": {
    "collapsed": false
   },
   "outputs": [
    {
     "name": "stderr",
     "output_type": "stream",
     "text": [
      "Building prefix dict from the default dictionary ...\n",
      "Dumping model to file cache /var/folders/45/_4yrzc014mq2gs9ndn8974s40000gn/T/jieba.cache\n",
      "Loading model cost 2.226 seconds.\n",
      "Prefix dict has been built succesfully.\n"
     ]
    },
    {
     "name": "stdout",
     "output_type": "stream",
     "text": [
      "580266\n"
     ]
    }
   ],
   "source": [
    "import jieba\n",
    "\n",
    "content_seg_list = jieba.lcut(content_full)\n",
    "print(len(content_seg_list))"
   ]
  },
  {
   "cell_type": "markdown",
   "metadata": {},
   "source": [
    "#### 3. Word2Vec Embedding"
   ]
  },
  {
   "cell_type": "code",
   "execution_count": null,
   "metadata": {
    "collapsed": true
   },
   "outputs": [],
   "source": []
  }
 ],
 "metadata": {
  "kernelspec": {
   "display_name": "Python [Root]",
   "language": "python",
   "name": "Python [Root]"
  },
  "language_info": {
   "codemirror_mode": {
    "name": "ipython",
    "version": 2
   },
   "file_extension": ".py",
   "mimetype": "text/x-python",
   "name": "python",
   "nbconvert_exporter": "python",
   "pygments_lexer": "ipython2",
   "version": "2.7.12"
  }
 },
 "nbformat": 4,
 "nbformat_minor": 0
}
