{
 "cells": [
  {
   "cell_type": "code",
   "execution_count": 1,
   "metadata": {
    "collapsed": true
   },
   "outputs": [],
   "source": [
    "import pandas as pd\n",
    "\n",
    "# Read Shipping Status Data\n",
    "df1 = pd.read_excel('/Users/edwzhang/Downloads/Shipment Status/Shipment_Status_-324123132_Masked.xlsx')\n",
    "df2 = pd.read_excel('/Users/edwzhang/Downloads/Shipment Status/Shipment_Status_-324123133_Masked.xlsx')\n",
    "df_ship = pd.concat([df1,df2],ignore_index=True)\n",
    "del df_ship['Unnamed: 5']\n"
   ]
  },
  {
   "cell_type": "code",
   "execution_count": 2,
   "metadata": {
    "collapsed": false
   },
   "outputs": [
    {
     "name": "stdout",
     "output_type": "stream",
     "text": [
      "WARNING *** OLE2 inconsistency: SSCS size is 0 but SSAT size is non-zero\n"
     ]
    }
   ],
   "source": [
    "# Read Shipping Details Data\n",
    "df_detail = pd.read_excel('/Users/edwzhang/Downloads/Shipment Execution-selected/Shipment Exec Jan 3.xls')\n",
    "df_detail= df_detail.drop(['CONTAINER_TYPE','DIM_UOM','WEIGHT_UOM','SO_HEADER_ID','SO_LINE_ID','PO_NUMBER','EARLY_DELIVERY_ACCEPT_FLAG','SHIPPING_INSTRUCTIONS','SERVICE_ATTACHED','CUST_PO_NUMBER','CUST_DELIV_ACCPT_REQRD','INSURRED','DUTY_ATTRIBUTE','EXPORT_LICENSE_REQD','EXPEDITED','PRE_DELIV_INSPECTION','ACTION_STATUS','RECOMMITTED','MFG_COMPLEXITY','COMP_LABEL','SOFTWARE_INCLUDED'], axis=1)\n",
    "df_detail=df_detail.drop_duplicates()\n"
   ]
  },
  {
   "cell_type": "code",
   "execution_count": 3,
   "metadata": {
    "collapsed": true
   },
   "outputs": [],
   "source": [
    "# Merge both data\n",
    "df3 = pd.merge(df_detail,df_ship,left_on= 'CARTON_ID',right_on='CONTAINER ID')"
   ]
  },
  {
   "cell_type": "code",
   "execution_count": 17,
   "metadata": {
    "collapsed": false
   },
   "outputs": [
    {
     "name": "stdout",
     "output_type": "stream",
     "text": [
      "###2472#9%\n",
      "      CONTAINER ID                 STATUS       DATE MODE\n",
      "57157   ###2472#9%       CUSTOM CLEARANCE 2016-01-26  AIR\n",
      "57158   ###2472#9%          LATE_DELIVERY 2016-01-25  AIR\n",
      "57159   ###2472#9%               WHEELSUP 2016-01-25  AIR\n",
      "57160   ###2472#9%  Received in Warehouse 2016-01-06  AIR\n",
      "57161   ###2472#9%          Ready To Ship 2016-01-06  NaN\n",
      "57162   ###2472#9%          LATE_WHEELSUP 2016-01-25  AIR\n",
      "57163   ###2472#9%        LATE_WHEELSDOWN 2016-01-25  AIR\n",
      "57164   ###2472#9%             WHEELSDOWN 2016-01-27  AIR\n",
      "2016-01-27 00:00:00 2016-01-06 00:00:00\n",
      "21\n",
      "AIR\n",
      "#*5##74@*52\n",
      "     CONTAINER ID                 STATUS       DATE MODE\n",
      "2417  #*5##74@*52       CUSTOM CLEARANCE 2016-01-14  AIR\n",
      "2418  #*5##74@*52             WHEELSDOWN 2016-01-13  AIR\n",
      "2419  #*5##74@*52        LATE_WHEELSDOWN 2016-01-13  AIR\n",
      "2420  #*5##74@*52  Received in Warehouse 2016-01-09  AIR\n",
      "2421  #*5##74@*52               WHEELSUP 2016-01-12  AIR\n",
      "2422  #*5##74@*52          Ready To Ship 2016-01-08  NaN\n",
      "2423  #*5##74@*52               DELIVERY 2016-01-16  AIR\n",
      "2424  #*5##74@*52  LATE_CUSTOM_CLEARANCE 2016-01-13  AIR\n",
      "2016-01-16 00:00:00 2016-01-08 00:00:00\n",
      "8\n",
      "AIR\n"
     ]
    }
   ],
   "source": [
    "# For Testinf only\n",
    "for name, group in df3[['CONTAINER ID','STATUS','DATE','MODE']].groupby('CONTAINER ID',group_keys=False):\n",
    "    if group.shape[0] == 8:\n",
    "        print name\n",
    "        print group\n",
    "        print max(group['DATE']),min(group['DATE'])\n",
    "        print (max(group['DATE'])-min(group['DATE'])).days\n",
    "        print group['MODE'].unique()[0]\n",
    "        "
   ]
  },
  {
   "cell_type": "code",
   "execution_count": 18,
   "metadata": {
    "collapsed": true
   },
   "outputs": [],
   "source": [
    "# Define a function to return Shipping Days and Main Shipping Method(Air or Ground)\n",
    "def getTimeNMode(group):\n",
    "    return pd.Series([(max(group['DATE'])-min(group['DATE'])).days,group['MODE'].unique()[0]],index=['ShippingDays','ShippingMode'])\n",
    "\n",
    "df4 = df3[['CONTAINER ID','STATUS','DATE','MODE']].groupby('CONTAINER ID',group_keys=False).apply(getTimeNMode)\n",
    "df4 = df4.reset_index()\n",
    "df5 = pd.merge(df_detail,df4,left_on= 'CARTON_ID',right_on='CONTAINER ID')"
   ]
  },
  {
   "cell_type": "code",
   "execution_count": 24,
   "metadata": {
    "collapsed": false
   },
   "outputs": [],
   "source": [
    "# Testing Only\n",
    "#df5['ShippingDays'].value_counts()\n",
    "#df4.loc[df4['ShippingDays']==1,'CONTAINER ID']\n",
    "df_ship.loc[df_ship['CONTAINER ID']=='###24669*6',]\n",
    "#df_detail.loc[df_detail['CARTON_ID']=='###24669*6',]\n"
   ]
  },
  {
   "cell_type": "code",
   "execution_count": 27,
   "metadata": {
    "collapsed": false
   },
   "outputs": [],
   "source": [
    "# ShippingDays must be great than 0 and less than 30 to train the Regression Model\n",
    "df6 = df5.loc[(df5['ShippingDays']>0) & (df5['ShippingDays']<30),]\n"
   ]
  },
  {
   "cell_type": "code",
   "execution_count": 248,
   "metadata": {
    "collapsed": false
   },
   "outputs": [],
   "source": [
    "# Define a function to extract OTM route code \n",
    "def getInTransitStopOvers(data,row=True):\n",
    "    try:\n",
    "        if row:\n",
    "            code = data['OTM_ROUTE_CODE']\n",
    "        else:\n",
    "            code = data\n",
    "\n",
    "        codes = []\n",
    "        if len(code) > 0  and code.count('-') >0:\n",
    "            codes = code.split('-')\n",
    "            if codes[0] in ['COC','CDC']:\n",
    "                codes.append('NA')\n",
    "            elif codes[0] == 'CC':\n",
    "                codes[1] = 'NA'\n",
    "                codes.append('NA')\n",
    "        else:\n",
    "            codes = ['','','']\n",
    "        return pd.Series(codes,index=['RouteType','StopOver1','StopOver2'])\n",
    "    except Exception, e:\n",
    "        print code, ' failed in parsing In-Transit StopOvers with the error '+str(e) \n",
    "        return pd.Series(['','',''],index=['RouteType','StopOver1','StopOver2'])\n",
    "\n",
    "df6['OTM_ROUTE_CODE'].fillna('', inplace=True)\n",
    "df6[['RouteType','OriSLC','DesSLC']] = df6.apply(getInTransitStopOvers,axis=1)\n"
   ]
  },
  {
   "cell_type": "code",
   "execution_count": 249,
   "metadata": {
    "collapsed": true
   },
   "outputs": [],
   "source": [
    "# Define a function to extrac Shipping Method\n",
    "def getDeliveryData(data,row=True):\n",
    "    try:\n",
    "        if row:\n",
    "            method = data['SHIPPING_METHOD_CODE']\n",
    "        else:\n",
    "            method = data\n",
    "        methods = []\n",
    "        if method.count('_') >2:\n",
    "            methods = method.split('_',3)\n",
    "        else:\n",
    "            methods = ['','','','']\n",
    "        return pd.Series(methods[1:],index=['Carrier','DeliveryType','DeliveryPriority'])\n",
    "    except Exception, e:\n",
    "        print method + ' failed in parsing Delivery Data with the error '+str(e) \n",
    "        return pd.Series(['','',''],index=['Carrier','DeliveryType','DeliveryPriority'])\n",
    "    \n",
    "df6['SHIPPING_METHOD_CODE'].fillna('', inplace=True)\n",
    "df6[['Carrier','DeliveryType','DeliveryPriority']] = df6.apply(getDeliveryData, axis=1)\n"
   ]
  },
  {
   "cell_type": "code",
   "execution_count": 250,
   "metadata": {
    "collapsed": false
   },
   "outputs": [],
   "source": [
    "# Define a function to extract product dimension\n",
    "def getCarbonDimensions(data,row=True):\n",
    "    try:\n",
    "        if row:\n",
    "            dimension = str(data['CART_DIM'])\n",
    "        else:\n",
    "            dimension = data\n",
    "        dimensions = []\n",
    "        if dimension.count('X') >1:\n",
    "            dimensions = [float(d.strip()) for d in dimension.split('X',3)] \n",
    "        else:\n",
    "            dimensions = [0.0,0.0,0.0]\n",
    "        return pd.Series(dimensions,index=['Length','Width','Height'])\n",
    "    except Exception, e:\n",
    "        print dimension, ' failed in parsing dimensions with the error '+str(e) \n",
    "        return pd.Series([0.0,0.0,0.0],index=['Length','Width','Height'])\n",
    "\n",
    "df6['CART_DIM'].fillna(0.0, inplace=True)\n",
    "df6[['Length','Width','Height']] = df6.apply(getCarbonDimensions, axis=1)\n"
   ]
  },
  {
   "cell_type": "code",
   "execution_count": 252,
   "metadata": {
    "collapsed": true
   },
   "outputs": [],
   "source": [
    "# Define Encode and Decode functions\n",
    "from sklearn.externals import joblib\n",
    "def categoryEncoding(col,ColName):\n",
    "    colDict = {}\n",
    "    colSet = set([i for i in col])\n",
    "    i = 1\n",
    "    for j in colSet:\n",
    "        colDict[j] = i\n",
    "        i += 1\n",
    "    joblib.dump(colDict, '/Users/edwzhang/Downloads/Shipment Status/dict_'+ColName) \n",
    "    return colDict\n",
    "        \n",
    "def encodingLookup(ColName, val):\n",
    "    colDict = joblib.load('/Users/edwzhang/Downloads/Shipment Status/dict_'+ColName) \n",
    "    if val in colDict:\n",
    "        return colDict[val]\n",
    "    else:\n",
    "        return colDict[max(colDict)] +1\n"
   ]
  },
  {
   "cell_type": "code",
   "execution_count": 253,
   "metadata": {
    "collapsed": false
   },
   "outputs": [
    {
     "data": {
      "text/plain": [
       "0.33205304657957002"
      ]
     },
     "execution_count": 253,
     "metadata": {},
     "output_type": "execute_result"
    }
   ],
   "source": [
    "# Train the Regression Model\n",
    "from sklearn.cross_validation import train_test_split\n",
    "from sklearn.model_selection import cross_val_score\n",
    "from sklearn.ensemble import RandomForestRegressor\n",
    "from sklearn.preprocessing import LabelEncoder \n",
    "from sklearn.preprocessing import StandardScaler\n",
    "\n",
    "\n",
    "df6['ShippingMode'].fillna('', inplace=True)\n",
    "df6['ORDERED_ITEM'].fillna('', inplace=True)\n",
    "# Encode Categorical Varibales to Numeric\n",
    "cols = ['ShippingDays','WEIGHT','SHIP_FROM_ORG_ID','TO_CITY','ShippingMode','RouteType','OriSLC','DesSLC','Carrier','Length','Width','Height','ORDERED_ITEM']\n",
    "df_model = df6.loc[(df6['OTM_ROUTE_CODE']!='') & (df6['SHIPPING_METHOD_CODE']!='') &(df6['CART_DIM']!=0.0) ,cols]\n",
    "df_model = df6.loc[(df6['OTM_ROUTE_CODE']!='') & (df6['SHIPPING_METHOD_CODE']!='') &(df6['CART_DIM']!=0.0) ,cols]\n",
    "cols2 = ['TO_CITY','ShippingMode','RouteType','OriSLC','DesSLC','Carrier','ORDERED_ITEM']\n",
    "for colName in cols2:\n",
    "    #le = LabelEncoder()\n",
    "    #df_model[colName] = le.fit_transform(df_model[colName])\n",
    "    colDict = categoryEncoding(df_model[colName],colName)\n",
    "    df_model[colName] = df_model[colName].apply(lambda x:colDict[x])\n",
    "    \n",
    "# Split into Training and Testing set\n",
    "train_set, test_set = train_test_split(df_model, test_size=0.2)\n",
    "X_train = train_set.iloc[:,1:]\n",
    "y_train = train_set.iloc[:,0]\n",
    "\n",
    "X_test = test_set.iloc[:,1:]\n",
    "y_test = test_set.iloc[:,0]\n",
    "\n",
    "# Fit the Model\n",
    "regressor = RandomForestRegressor(n_estimators=500)\n",
    "regressor.fit(X_train, y_train)\n",
    "\n",
    "# Print out the R squared score\n",
    "regressor.score(X_test,y_test)"
   ]
  },
  {
   "cell_type": "code",
   "execution_count": 327,
   "metadata": {
    "collapsed": false
   },
   "outputs": [
    {
     "data": {
      "text/plain": [
       "TO_CITY             0.220305\n",
       "WEIGHT              0.217182\n",
       "ORDERED_ITEM        0.146435\n",
       "Width               0.066100\n",
       "Height              0.064284\n",
       "Carrier             0.063671\n",
       "Length              0.063162\n",
       "ShippingMode        0.061145\n",
       "SHIP_FROM_ORG_ID    0.033055\n",
       "OriSLC              0.031306\n",
       "DesSLC              0.020439\n",
       "RouteType           0.012917\n",
       "dtype: float64"
      ]
     },
     "execution_count": 327,
     "metadata": {},
     "output_type": "execute_result"
    }
   ],
   "source": [
    "# Persist the model\n",
    "joblib.dump(regressor, '/Users/edwzhang/Downloads/Shipment Status/CiscoSupplyChainAnalyticsRegressor.pkl') \n",
    "\n",
    "# List feature importance\n",
    "s = pd.Series(regressor.feature_importances_,index=cols[1:])\n",
    "s.sort_values(ascending=False)\n"
   ]
  },
  {
   "cell_type": "code",
   "execution_count": 325,
   "metadata": {
    "collapsed": true
   },
   "outputs": [],
   "source": [
    "# Create a custom function to predict Shipping days\n",
    "def customPredict(data):\n",
    "    rgr_loaded = joblib.load('/Users/edwzhang/Downloads/Shipment Status/CiscoSupplyChainAnalytics.pkl') \n",
    "    feedData = []\n",
    "    \n",
    "    l1 = list(getInTransitStopOvers(data['OTM_ROUTE_CODE'],row=False))\n",
    "    l2 = list(getDeliveryData(data['SHIPPING_METHOD_CODE'],row=False))\n",
    "    l3 = list(getCarbonDimensions(data['CART_DIM'],row=False))\n",
    "    \n",
    "    feedData.append(data['WEIGHT'])\n",
    "    feedData.append(data['SHIP_FROM_ORG_ID'])\n",
    "    feedData.append(encodingLookup('TO_CITY',data['TO_CITY']))\n",
    "    feedData.append(encodingLookup('ShippingMode',l2[1]))  \n",
    "    feedData.append(encodingLookup('RouteType',l1[0]))\n",
    "    feedData.append(encodingLookup('OriSLC',l1[1]))\n",
    "    feedData.append(encodingLookup('DesSLC',l1[2]))\n",
    "    feedData.append(encodingLookup('Carrier',l2[0]))\n",
    "    feedData.append(l3[0])\n",
    "    feedData.append(l3[1])\n",
    "    feedData.append(l3[2])\n",
    "    feedData.append(encodingLookup('ORDERED_ITEM',data['ORDERED_ITEM']))\n",
    "    #print feedData\n",
    "    data['CARRIER'] = l2[0]\n",
    "    data['SHIPPINGMODE'] = l2[1]\n",
    "    data['ROUTETYPE'] = l1[0]\n",
    "    data['ORISLC'] = l1[1]\n",
    "    data['DESSLC'] = l1[2]\n",
    "    data['DAYS'] = round(rgr_loaded.predict(feedData)[0],2)\n",
    "    return data\n",
    "      "
   ]
  },
  {
   "cell_type": "code",
   "execution_count": 326,
   "metadata": {
    "collapsed": false
   },
   "outputs": [
    {
     "name": "stderr",
     "output_type": "stream",
     "text": [
      "/Users/edwzhang/anaconda/lib/python2.7/site-packages/sklearn/utils/validation.py:395: DeprecationWarning: Passing 1d arrays as data is deprecated in 0.17 and will raise ValueError in 0.19. Reshape your data either using X.reshape(-1, 1) if your data has a single feature or X.reshape(1, -1) if it contains a single sample.\n",
      "  DeprecationWarning)\n"
     ]
    },
    {
     "data": {
      "text/plain": [
       "{'ACTION_STATUS': '',\n",
       " 'ACTUAL_SHIPMENT_DATE': '2015-12-28 08:55:30',\n",
       " 'CARRIER': 'FDEN',\n",
       " 'CARTON_ID': '#*7@27#77#',\n",
       " 'CART_DIM': '9.38 X 7.38 X 2.5',\n",
       " 'COMP_LABEL': 'N',\n",
       " 'CONTAINER_TYPE': 'CRT',\n",
       " 'CUST_DELIV_ACCPT_REQRD': '',\n",
       " 'CUST_PO_NUMBER': '8740012372',\n",
       " 'DAYS': 6.53,\n",
       " 'DESSLC': 'NA',\n",
       " 'DIM_UOM': 'IN',\n",
       " 'DUTY_ATTRIBUTE': 'Duty Unpaid',\n",
       " 'EARLY_DELIVERY_ACCEPT_FLAG': 'Y',\n",
       " 'EXPEDITED': '',\n",
       " 'EXPORT_LICENSE_REQD': 'Y',\n",
       " 'FROM_CITY': 'Pardubice',\n",
       " 'INSURRED': 'Y',\n",
       " 'LINE_NUMBER': '1',\n",
       " 'MFG_COMPLEXITY': 'LOW',\n",
       " 'MFG_LEAD_TIME': '3',\n",
       " 'ORDERED_ITEM': 'STACK-T1-50CM=',\n",
       " 'ORDER_NUMBER': '1.01665e+08',\n",
       " 'ORISLC': 'SLCROERMOND',\n",
       " 'OTM_ROUTE_CODE': 'CDC-SLCROERMOND',\n",
       " 'PO_NUMBER': '101665066-1',\n",
       " 'PRE_DELIV_INSPECTION': 'N',\n",
       " 'PROMISED_POINT': 'SHIP',\n",
       " 'RECOMMITTED': 'N',\n",
       " 'ROUTETYPE': 'CDC',\n",
       " 'SERVICE_ATTACHED': '',\n",
       " 'SHIPMENT_ID': '22*%%@%654',\n",
       " 'SHIPMENT_PRIORITY_CODE': 'PR9',\n",
       " 'SHIPPINGMODE': 'L',\n",
       " 'SHIPPING_INSTRUCTIONS': '',\n",
       " 'SHIPPING_METHOD_CODE': '000002_FDEN_L_LTL',\n",
       " 'SHIP_FROM_ORG_ID': '1103',\n",
       " 'SHIP_SET_ID': '6*956@46#',\n",
       " 'SOFTWARE_INCLUDED': 'N',\n",
       " 'SO_HEADER_ID': '603771708',\n",
       " 'SO_LINE_ID': '950866183',\n",
       " 'TO_CITY': 'JERUSALEM',\n",
       " 'TRIM(OEL.PROMISE_DATE)': '2015-12-28 00:00:00',\n",
       " 'TRIM(OEL.REQUEST_DATE)': '2015-12-28 00:00:00',\n",
       " 'TRIM(OLX.ORIGINAL_PROMISE_DATE)': '2015-12-28 00:00:00',\n",
       " 'WEIGHT': '1.82',\n",
       " 'WEIGHT_UOM': 'LBS'}"
      ]
     },
     "execution_count": 326,
     "metadata": {},
     "output_type": "execute_result"
    }
   ],
   "source": [
    "input_dict = {\n",
    "'PROMISED_POINT':'SHIP',\n",
    "'CARTON_ID': '#*7@27#77#',\n",
    "'CONTAINER_TYPE': 'CRT',\n",
    "'CART_DIM': '9.38 X 7.38 X 2.5',\n",
    "'DIM_UOM': 'IN',\n",
    "'WEIGHT':  '1.82',\n",
    "'WEIGHT_UOM': 'LBS',\n",
    "'SHIPMENT_ID': '22*%%@%654',\n",
    "'SO_HEADER_ID':  '603771708',\n",
    "'SO_LINE_ID': '950866183',\n",
    "'PO_NUMBER': '101665066-1',\n",
    "'FROM_CITY':  'Pardubice',\n",
    "'TO_CITY':  'JERUSALEM',\n",
    "'SHIP_SET_ID': '6*956@46#',\n",
    "'OTM_ROUTE_CODE':  'CDC-SLCROERMOND',\n",
    "'SHIPPING_METHOD_CODE': '000002_FDEN_L_LTL',\n",
    "'EARLY_DELIVERY_ACCEPT_FLAG': 'Y',\n",
    "'SHIPMENT_PRIORITY_CODE': 'PR9',\n",
    "'SHIPPING_INSTRUCTIONS':  '',\n",
    "'SERVICE_ATTACHED':  '',\n",
    "'CUST_PO_NUMBER':  '8740012372',\n",
    "'TRIM(OEL.REQUEST_DATE)':'2015-12-28 00:00:00',\n",
    "'TRIM(OLX.ORIGINAL_PROMISE_DATE)':'2015-12-28 00:00:00',\n",
    "'TRIM(OEL.PROMISE_DATE)':'2015-12-28 00:00:00',\n",
    "'ACTUAL_SHIPMENT_DATE': '2015-12-28 08:55:30',\n",
    "'CUST_DELIV_ACCPT_REQRD': '',\n",
    "'ORDER_NUMBER': '1.01665e+08',\n",
    "'LINE_NUMBER':  '1',\n",
    "'ORDERED_ITEM': 'STACK-T1-50CM=',\n",
    "'SHIP_FROM_ORG_ID': '1103',\n",
    "'PRE_DELIV_INSPECTION': 'N',\n",
    "'INSURRED':  'Y',\n",
    "'DUTY_ATTRIBUTE': 'Duty Unpaid',\n",
    "'EXPORT_LICENSE_REQD': 'Y',\n",
    "'EXPEDITED':  '',\n",
    "'ACTION_STATUS':  '',\n",
    "'RECOMMITTED':  'N',\n",
    "'MFG_COMPLEXITY': 'LOW',\n",
    "'MFG_LEAD_TIME': '3',\n",
    "'COMP_LABEL':'N',\n",
    "'SOFTWARE_INCLUDED': 'N'}\n",
    "customPredict(input_dict)"
   ]
  },
  {
   "cell_type": "code",
   "execution_count": 307,
   "metadata": {
    "collapsed": false
   },
   "outputs": [
    {
     "name": "stderr",
     "output_type": "stream",
     "text": [
      "/Users/edwzhang/anaconda/lib/python2.7/site-packages/sklearn/utils/validation.py:395: DeprecationWarning: Passing 1d arrays as data is deprecated in 0.17 and will raise ValueError in 0.19. Reshape your data either using X.reshape(-1, 1) if your data has a single feature or X.reshape(1, -1) if it contains a single sample.\n",
      "  DeprecationWarning)\n"
     ]
    },
    {
     "ename": "ValueError",
     "evalue": "Input contains NaN, infinity or a value too large for dtype('float32').",
     "output_type": "error",
     "traceback": [
      "\u001b[0;31m---------------------------------------------------------------------------\u001b[0m",
      "\u001b[0;31mValueError\u001b[0m                                Traceback (most recent call last)",
      "\u001b[0;32m<ipython-input-307-00a1537c7727>\u001b[0m in \u001b[0;36m<module>\u001b[0;34m()\u001b[0m\n\u001b[1;32m     13\u001b[0m \u001b[0;31m# 'ORDERED_ITEM'\u001b[0m\u001b[0;34m\u001b[0m\u001b[0;34m\u001b[0m\u001b[0m\n\u001b[1;32m     14\u001b[0m \u001b[0mfeedData\u001b[0m \u001b[0;34m=\u001b[0m \u001b[0;34m[\u001b[0m\u001b[0;36m1.82\u001b[0m\u001b[0;34m,\u001b[0m \u001b[0mencodingLookup\u001b[0m\u001b[0;34m(\u001b[0m\u001b[0;34m'FROM_CITY'\u001b[0m\u001b[0;34m,\u001b[0m\u001b[0;34m'Houston'\u001b[0m\u001b[0;34m)\u001b[0m\u001b[0;34m,\u001b[0m \u001b[0mencodingLookup\u001b[0m\u001b[0;34m(\u001b[0m\u001b[0;34m'TO_CITY'\u001b[0m\u001b[0;34m,\u001b[0m\u001b[0;34m'JERUSALEM'\u001b[0m\u001b[0;34m)\u001b[0m\u001b[0;34m,\u001b[0m \u001b[0mencodingLookup\u001b[0m\u001b[0;34m(\u001b[0m\u001b[0;34m'ShippingMode'\u001b[0m\u001b[0;34m,\u001b[0m\u001b[0;34m'Ocean'\u001b[0m\u001b[0;34m)\u001b[0m\u001b[0;34m,\u001b[0m \u001b[0mencodingLookup\u001b[0m\u001b[0;34m(\u001b[0m\u001b[0;34m'RouteType'\u001b[0m\u001b[0;34m,\u001b[0m\u001b[0;34m'CDC'\u001b[0m\u001b[0;34m)\u001b[0m\u001b[0;34m,\u001b[0m \u001b[0mencodingLookup\u001b[0m\u001b[0;34m(\u001b[0m\u001b[0;34m'OriSLC'\u001b[0m\u001b[0;34m,\u001b[0m\u001b[0;34m'NA'\u001b[0m\u001b[0;34m)\u001b[0m\u001b[0;34m,\u001b[0m \u001b[0mencodingLookup\u001b[0m\u001b[0;34m(\u001b[0m\u001b[0;34m'DesSLC'\u001b[0m\u001b[0;34m,\u001b[0m\u001b[0;34m'SLCROERMOND'\u001b[0m\u001b[0;34m)\u001b[0m\u001b[0;34m,\u001b[0m \u001b[0mencodingLookup\u001b[0m\u001b[0;34m(\u001b[0m\u001b[0;34m'Carrier'\u001b[0m\u001b[0;34m,\u001b[0m\u001b[0;34m'CPU'\u001b[0m\u001b[0;34m)\u001b[0m\u001b[0;34m,\u001b[0m \u001b[0;36m9.3800000000000008\u001b[0m\u001b[0;34m,\u001b[0m \u001b[0;36m7.3799999999999999\u001b[0m\u001b[0;34m,\u001b[0m \u001b[0;36m2.5\u001b[0m\u001b[0;34m,\u001b[0m \u001b[0;36m841\u001b[0m\u001b[0;34m]\u001b[0m\u001b[0;34m\u001b[0m\u001b[0m\n\u001b[0;32m---> 15\u001b[0;31m \u001b[0mregressor\u001b[0m\u001b[0;34m.\u001b[0m\u001b[0mpredict\u001b[0m\u001b[0;34m(\u001b[0m\u001b[0mfeedData\u001b[0m\u001b[0;34m)\u001b[0m\u001b[0;34m\u001b[0m\u001b[0m\n\u001b[0m",
      "\u001b[0;32m/Users/edwzhang/anaconda/lib/python2.7/site-packages/sklearn/ensemble/forest.pyc\u001b[0m in \u001b[0;36mpredict\u001b[0;34m(self, X)\u001b[0m\n\u001b[1;32m    683\u001b[0m         \"\"\"\n\u001b[1;32m    684\u001b[0m         \u001b[0;31m# Check data\u001b[0m\u001b[0;34m\u001b[0m\u001b[0;34m\u001b[0m\u001b[0m\n\u001b[0;32m--> 685\u001b[0;31m         \u001b[0mX\u001b[0m \u001b[0;34m=\u001b[0m \u001b[0mself\u001b[0m\u001b[0;34m.\u001b[0m\u001b[0m_validate_X_predict\u001b[0m\u001b[0;34m(\u001b[0m\u001b[0mX\u001b[0m\u001b[0;34m)\u001b[0m\u001b[0;34m\u001b[0m\u001b[0m\n\u001b[0m\u001b[1;32m    686\u001b[0m \u001b[0;34m\u001b[0m\u001b[0m\n\u001b[1;32m    687\u001b[0m         \u001b[0;31m# Assign chunk of trees to jobs\u001b[0m\u001b[0;34m\u001b[0m\u001b[0;34m\u001b[0m\u001b[0m\n",
      "\u001b[0;32m/Users/edwzhang/anaconda/lib/python2.7/site-packages/sklearn/ensemble/forest.pyc\u001b[0m in \u001b[0;36m_validate_X_predict\u001b[0;34m(self, X)\u001b[0m\n\u001b[1;32m    353\u001b[0m                                  \"call `fit` before exploiting the model.\")\n\u001b[1;32m    354\u001b[0m \u001b[0;34m\u001b[0m\u001b[0m\n\u001b[0;32m--> 355\u001b[0;31m         \u001b[0;32mreturn\u001b[0m \u001b[0mself\u001b[0m\u001b[0;34m.\u001b[0m\u001b[0mestimators_\u001b[0m\u001b[0;34m[\u001b[0m\u001b[0;36m0\u001b[0m\u001b[0;34m]\u001b[0m\u001b[0;34m.\u001b[0m\u001b[0m_validate_X_predict\u001b[0m\u001b[0;34m(\u001b[0m\u001b[0mX\u001b[0m\u001b[0;34m,\u001b[0m \u001b[0mcheck_input\u001b[0m\u001b[0;34m=\u001b[0m\u001b[0mTrue\u001b[0m\u001b[0;34m)\u001b[0m\u001b[0;34m\u001b[0m\u001b[0m\n\u001b[0m\u001b[1;32m    356\u001b[0m \u001b[0;34m\u001b[0m\u001b[0m\n\u001b[1;32m    357\u001b[0m     \u001b[0;34m@\u001b[0m\u001b[0mproperty\u001b[0m\u001b[0;34m\u001b[0m\u001b[0m\n",
      "\u001b[0;32m/Users/edwzhang/anaconda/lib/python2.7/site-packages/sklearn/tree/tree.pyc\u001b[0m in \u001b[0;36m_validate_X_predict\u001b[0;34m(self, X, check_input)\u001b[0m\n\u001b[1;32m    363\u001b[0m \u001b[0;34m\u001b[0m\u001b[0m\n\u001b[1;32m    364\u001b[0m         \u001b[0;32mif\u001b[0m \u001b[0mcheck_input\u001b[0m\u001b[0;34m:\u001b[0m\u001b[0;34m\u001b[0m\u001b[0m\n\u001b[0;32m--> 365\u001b[0;31m             \u001b[0mX\u001b[0m \u001b[0;34m=\u001b[0m \u001b[0mcheck_array\u001b[0m\u001b[0;34m(\u001b[0m\u001b[0mX\u001b[0m\u001b[0;34m,\u001b[0m \u001b[0mdtype\u001b[0m\u001b[0;34m=\u001b[0m\u001b[0mDTYPE\u001b[0m\u001b[0;34m,\u001b[0m \u001b[0maccept_sparse\u001b[0m\u001b[0;34m=\u001b[0m\u001b[0;34m\"csr\"\u001b[0m\u001b[0;34m)\u001b[0m\u001b[0;34m\u001b[0m\u001b[0m\n\u001b[0m\u001b[1;32m    366\u001b[0m             if issparse(X) and (X.indices.dtype != np.intc or\n\u001b[1;32m    367\u001b[0m                                 X.indptr.dtype != np.intc):\n",
      "\u001b[0;32m/Users/edwzhang/anaconda/lib/python2.7/site-packages/sklearn/utils/validation.pyc\u001b[0m in \u001b[0;36mcheck_array\u001b[0;34m(array, accept_sparse, dtype, order, copy, force_all_finite, ensure_2d, allow_nd, ensure_min_samples, ensure_min_features, warn_on_dtype, estimator)\u001b[0m\n\u001b[1;32m    405\u001b[0m                              % (array.ndim, estimator_name))\n\u001b[1;32m    406\u001b[0m         \u001b[0;32mif\u001b[0m \u001b[0mforce_all_finite\u001b[0m\u001b[0;34m:\u001b[0m\u001b[0;34m\u001b[0m\u001b[0m\n\u001b[0;32m--> 407\u001b[0;31m             \u001b[0m_assert_all_finite\u001b[0m\u001b[0;34m(\u001b[0m\u001b[0marray\u001b[0m\u001b[0;34m)\u001b[0m\u001b[0;34m\u001b[0m\u001b[0m\n\u001b[0m\u001b[1;32m    408\u001b[0m \u001b[0;34m\u001b[0m\u001b[0m\n\u001b[1;32m    409\u001b[0m     \u001b[0mshape_repr\u001b[0m \u001b[0;34m=\u001b[0m \u001b[0m_shape_repr\u001b[0m\u001b[0;34m(\u001b[0m\u001b[0marray\u001b[0m\u001b[0;34m.\u001b[0m\u001b[0mshape\u001b[0m\u001b[0;34m)\u001b[0m\u001b[0;34m\u001b[0m\u001b[0m\n",
      "\u001b[0;32m/Users/edwzhang/anaconda/lib/python2.7/site-packages/sklearn/utils/validation.pyc\u001b[0m in \u001b[0;36m_assert_all_finite\u001b[0;34m(X)\u001b[0m\n\u001b[1;32m     56\u001b[0m             and not np.isfinite(X).all()):\n\u001b[1;32m     57\u001b[0m         raise ValueError(\"Input contains NaN, infinity\"\n\u001b[0;32m---> 58\u001b[0;31m                          \" or a value too large for %r.\" % X.dtype)\n\u001b[0m\u001b[1;32m     59\u001b[0m \u001b[0;34m\u001b[0m\u001b[0m\n\u001b[1;32m     60\u001b[0m \u001b[0;34m\u001b[0m\u001b[0m\n",
      "\u001b[0;31mValueError\u001b[0m: Input contains NaN, infinity or a value too large for dtype('float32')."
     ]
    }
   ],
   "source": [
    "# Lable - 'ShippingDays',\n",
    "# 'WEIGHT',\n",
    "# 'SHIP_FROM_ORG_ID',\n",
    "# 'TO_CITY',\n",
    "# 'ShippingMode',\n",
    "# 'RouteType',\n",
    "# 'OriSLC',\n",
    "# 'DesSLC',\n",
    "# 'Carrier',\n",
    "# 'Length',\n",
    "# 'Width',\n",
    "# 'Height',\n",
    "# 'ORDERED_ITEM'\n",
    "feedData = [1.82, 1103, encodingLookup('TO_CITY','JERUSALEM'), encodingLookup('ShippingMode','Ocean'), encodingLookup('RouteType','CDC'), encodingLookup('OriSLC','NA'), encodingLookup('DesSLC','SLCROERMOND'), encodingLookup('Carrier','CPU'), 9.3800000000000008, 7.3799999999999999, 2.5, 841]\n",
    "regressor.predict(feedData)"
   ]
  },
  {
   "cell_type": "code",
   "execution_count": 317,
   "metadata": {
    "collapsed": false
   },
   "outputs": [
    {
     "name": "stdout",
     "output_type": "stream",
     "text": [
      "L    21053\n",
      "A      577\n",
      "P      421\n",
      "T       96\n",
      "O       35\n",
      "Name: DeliveryType, dtype: int64\n",
      "AIR         5800\n",
      "            5605\n",
      "LTL         4711\n",
      "PARCEL      4043\n",
      "TL          1998\n",
      "Ocean         24\n",
      "3_5_DAYS       1\n",
      "Name: ShippingMode, dtype: int64\n"
     ]
    }
   ],
   "source": [
    "print df6['DeliveryType'].value_counts()\n",
    "print df6['ShippingMode'].value_counts()"
   ]
  },
  {
   "cell_type": "code",
   "execution_count": 311,
   "metadata": {
    "collapsed": false
   },
   "outputs": [
    {
     "data": {
      "text/plain": [
       "['/Users/edwzhang/Downloads/Shipment Status/dict_FROM_CITY']"
      ]
     },
     "execution_count": 311,
     "metadata": {},
     "output_type": "execute_result"
    }
   ],
   "source": [
    "#fromCity = df6[['SHIP_FROM_ORG_ID','FROM_CITY']].drop_duplicates().reset_index()\n",
    "#fromCity.loc[fromCity['SHIP_FROM_ORG_ID']==2246,'FROM_CITY'] = 'Foxconn-China-BV'\n",
    "#fromCity.loc[fromCity['SHIP_FROM_ORG_ID']==843,'FROM_CITY'] = 'Celestica Thailand-BV'\n",
    "\n",
    "fromCityDict = pd.Series(fromCity.FROM_CITY.values,index=fromCity.SHIP_FROM_ORG_ID).to_dict()\n",
    "\n",
    "joblib.dump(fromCityDict, '/Users/edwzhang/Downloads/Shipment Status/dict_FROM_CITY') \n"
   ]
  },
  {
   "cell_type": "code",
   "execution_count": 312,
   "metadata": {
    "collapsed": false
   },
   "outputs": [
    {
     "data": {
      "text/plain": [
       "{123: u'Ciudad Juarez',\n",
       " 362: u'AUSTIN',\n",
       " 383: u'Zapopan',\n",
       " 463: u'Penang',\n",
       " 483: u'Penang',\n",
       " 843: 'Celestica Thailand-BV',\n",
       " 1103: u'Pardubice',\n",
       " 1163: u'Houston',\n",
       " 1348: u'Doumen',\n",
       " 2246: 'Foxconn-China-BV',\n",
       " 2645: u'Balbriggan',\n",
       " 2665: u'Louisville',\n",
       " 2705: u'Guadalajara',\n",
       " 2725: u'Tczew',\n",
       " 2726: u'Millington',\n",
       " 2766: u'Ciudad Juarez',\n",
       " 2786: u'GA',\n",
       " 2787: u'Tsing Yi',\n",
       " 2826: u'SAO PAULO'}"
      ]
     },
     "execution_count": 312,
     "metadata": {},
     "output_type": "execute_result"
    }
   ],
   "source": [
    "fromCityDict"
   ]
  },
  {
   "cell_type": "code",
   "execution_count": 304,
   "metadata": {
    "collapsed": false
   },
   "outputs": [
    {
     "data": {
      "text/plain": [
       "Pardubice        5112\n",
       "Ciudad Juarez    4946\n",
       "Houston          1540\n",
       "Zapopan          1373\n",
       "Guadalajara      1109\n",
       "Penang            907\n",
       "Tczew             889\n",
       "Doumen            557\n",
       "Tsing Yi          168\n",
       "Millington         58\n",
       "GA                 34\n",
       "SAO PAULO          29\n",
       "AUSTIN             24\n",
       "Louisville         24\n",
       "Balbriggan          6\n",
       "Name: FROM_CITY, dtype: int64"
      ]
     },
     "execution_count": 304,
     "metadata": {},
     "output_type": "execute_result"
    }
   ],
   "source": [
    "df6['FROM_CITY'].value_counts()"
   ]
  },
  {
   "cell_type": "code",
   "execution_count": 221,
   "metadata": {
    "collapsed": false
   },
   "outputs": [],
   "source": [
    "df6['ShippingMode'].fillna('', inplace=True)\n",
    "df6['ORDERED_ITEM'].fillna('', inplace=True)\n",
    "cols = ['ShippingDays','WEIGHT','SHIP_FROM_ORG_ID','TO_CITY','ShippingMode','RouteType','OriSLC','DesSLC','Carrier','Length','Width','Height','ORDERED_ITEM']\n",
    "df_model = df6.loc[(df6['OTM_ROUTE_CODE']!='') & (df6['SHIPPING_METHOD_CODE']!='') &(df6['CART_DIM']!=0.0) ,cols]\n",
    "df_model = df6.loc[(df6['OTM_ROUTE_CODE']!='') & (df6['SHIPPING_METHOD_CODE']!='') &(df6['CART_DIM']!=0.0) ,cols]\n",
    "cols2 = ['TO_CITY','ShippingMode','RouteType','OriSLC','DesSLC','Carrier','ORDERED_ITEM']\n",
    "for colName in cols2:\n",
    "    colDict = categoryEncoding(df_model[colName],colName)\n",
    "    df_model[colName] = df_model[colName].apply(lambda x:colDict[x])"
   ]
  },
  {
   "cell_type": "code",
   "execution_count": 226,
   "metadata": {
    "collapsed": false
   },
   "outputs": [
    {
     "data": {
      "text/plain": [
       "2048    510\n",
       "1278    436\n",
       "1752    353\n",
       "929     331\n",
       "305     289\n",
       "489     267\n",
       "1150    247\n",
       "2217    232\n",
       "820     230\n",
       "869     228\n",
       "1618    219\n",
       "1089    208\n",
       "1453    199\n",
       "1384    194\n",
       "2471    189\n",
       "1568    181\n",
       "2371    180\n",
       "833     173\n",
       "209     169\n",
       "1919    160\n",
       "1856    146\n",
       "2100    131\n",
       "2151    131\n",
       "478     124\n",
       "1911    123\n",
       "320     115\n",
       "807     114\n",
       "1725    112\n",
       "1775    106\n",
       "2254    104\n",
       "       ... \n",
       "932       1\n",
       "1768      1\n",
       "1140      1\n",
       "766       1\n",
       "1108      1\n",
       "1092      1\n",
       "1076      1\n",
       "205       1\n",
       "782       1\n",
       "1028      1\n",
       "1816      1\n",
       "1848      1\n",
       "964       1\n",
       "948       1\n",
       "1880      1\n",
       "644       1\n",
       "862       1\n",
       "189       1\n",
       "836       1\n",
       "894       1\n",
       "1960      1\n",
       "788       1\n",
       "173       1\n",
       "756       1\n",
       "9         1\n",
       "724       1\n",
       "910       1\n",
       "25        1\n",
       "926       1\n",
       "1991      1\n",
       "Name: ORDERED_ITEM, Length: 2535, dtype: int64"
      ]
     },
     "execution_count": 226,
     "metadata": {},
     "output_type": "execute_result"
    }
   ],
   "source": [
    "df_model['ORDERED_ITEM'].value_counts()\n",
    "#df6['ORDERED_ITEM'].value_counts()\n",
    "#encodingLookup('ORDERED_ITEM','C888EA-K9')"
   ]
  },
  {
   "cell_type": "code",
   "execution_count": 208,
   "metadata": {
    "collapsed": false
   },
   "outputs": [
    {
     "data": {
      "text/plain": [
       "array([u'PROMISED_POINT', u'CARTON_ID', u'CART_DIM', u'WEIGHT',\n",
       "       u'SHIPMENT_ID', u'FROM_CITY', u'TO_CITY', u'SHIP_SET_ID',\n",
       "       u'OTM_ROUTE_CODE', u'SHIPPING_METHOD_CODE',\n",
       "       u'SHIPMENT_PRIORITY_CODE', u'TRIM(OEL.REQUEST_DATE)',\n",
       "       u'TRIM(OLX.ORIGINAL_PROMISE_DATE)', u'TRIM(OEL.PROMISE_DATE)',\n",
       "       u'ACTUAL_SHIPMENT_DATE', u'ORDER_NUMBER', u'LINE_NUMBER',\n",
       "       u'ORDERED_ITEM', u'SHIP_FROM_ORG_ID', u'MFG_LEAD_TIME',\n",
       "       'CONTAINER ID', 'ShippingDays', 'ShippingMode', 'RouteType',\n",
       "       'OriSLC', 'DesSLC', 'Carrier', 'DeliveryType', 'DeliveryPriority',\n",
       "       'Length', 'Width', 'Height'], dtype=object)"
      ]
     },
     "execution_count": 208,
     "metadata": {},
     "output_type": "execute_result"
    }
   ],
   "source": [
    "df6.columns.values"
   ]
  },
  {
   "cell_type": "code",
   "execution_count": 71,
   "metadata": {
    "collapsed": false
   },
   "outputs": [
    {
     "name": "stderr",
     "output_type": "stream",
     "text": [
      "/Users/edwzhang/anaconda/lib/python2.7/site-packages/pandas/core/generic.py:3660: SettingWithCopyWarning: \n",
      "A value is trying to be set on a copy of a slice from a DataFrame\n",
      "\n",
      "See the caveats in the documentation: http://pandas.pydata.org/pandas-docs/stable/indexing.html#indexing-view-versus-copy\n",
      "  self._update_inplace(new_data)\n"
     ]
    }
   ],
   "source": [
    "from sklearn.externals import joblib\n",
    "def getInTransitStopOvers(row):\n",
    "    try:\n",
    "        code = row['OTM_ROUTE_CODE']\n",
    "        #code = row\n",
    "        codes = []\n",
    "        if len(code) > 0  and code.count('-') >0:\n",
    "            codes = code.split('-')\n",
    "            if codes[0] in ['COC','CDC']:\n",
    "                codes.append('NA')\n",
    "            elif codes[0] == 'CC':\n",
    "                codes[1] = 'NA'\n",
    "                codes.append('NA')\n",
    "        else:\n",
    "            codes = ['','','']\n",
    "        return pd.Series(codes,index=['RouteType','StopOver1','StopOver2'])\n",
    "    except Exception, e:\n",
    "        print code, ' failed in parsing In-Transit StopOvers with the error '+str(e) \n",
    "        return pd.Series(['','',''],index=['RouteType','StopOver1','StopOver2'])\n",
    "\n",
    "df6['OTM_ROUTE_CODE'].fillna('', inplace=True)\n",
    "df6[['RouteType','OriSLC','DesSLC']] = df6.apply(getInTransitStopOvers,axis=1)"
   ]
  },
  {
   "cell_type": "code",
   "execution_count": 72,
   "metadata": {
    "collapsed": true
   },
   "outputs": [],
   "source": [
    "def getDeliveryData(row):\n",
    "    try:\n",
    "        method = row['SHIPPING_METHOD_CODE']\n",
    "        #method = row\n",
    "        methods = []\n",
    "        if method.count('_') >2:\n",
    "            methods = method.split('_',3)\n",
    "        else:\n",
    "            methods = ['','','','']\n",
    "        return pd.Series(methods[1:],index=['Carrier','DeliveryType','DeliveryPriority'])\n",
    "    except Exception, e:\n",
    "        print method + ' failed in parsing Delivery Data with the error '+str(e) \n",
    "        return pd.Series(['','',''],index=['Carrier','DeliveryType','DeliveryPriority'])\n",
    "    \n",
    "df6['SHIPPING_METHOD_CODE'].fillna('', inplace=True)\n",
    "df6[['Carrier','DeliveryType','DeliveryPriority']] = df6.apply(getDeliveryData, axis=1)"
   ]
  },
  {
   "cell_type": "code",
   "execution_count": 73,
   "metadata": {
    "collapsed": true
   },
   "outputs": [],
   "source": [
    "def getCarbonDimensions(row):\n",
    "    try:\n",
    "        dimension = str(row['CART_DIM'])\n",
    "        #dimension = row\n",
    "        dimensions = []\n",
    "        if dimension.count('X') >1:\n",
    "            dimensions = [float(d.strip()) for d in dimension.split('X',3)] \n",
    "        else:\n",
    "            dimensions = [0.0,0.0,0.0]\n",
    "        return pd.Series(dimensions,index=['Length','Width','Height'])\n",
    "    except Exception, e:\n",
    "        print dimension, ' failed in parsing dimensions with the error '+str(e) \n",
    "        return pd.Series([0.0,0.0,0.0],index=['Length','Width','Height'])\n",
    "\n",
    "df6['CART_DIM'].fillna(0.0, inplace=True)\n",
    "df6[['Length','Width','Height']] = df6.apply(getCarbonDimensions, axis=1)"
   ]
  },
  {
   "cell_type": "code",
   "execution_count": 83,
   "metadata": {
    "collapsed": false
   },
   "outputs": [],
   "source": [
    "cols = ['ShippingDays','PROMISED_POINT','WEIGHT','TO_CITY','SHIP_FROM_ORG_ID','ShippingMode','RouteType','OriSLC','DesSLC','Carrier','DeliveryType','DeliveryPriority','Length','Width','Height']\n",
    "df_model = df6.loc[(df6['OTM_ROUTE_CODE']!='') & (df6['SHIPPING_METHOD_CODE']!='') &(df6['CART_DIM']!=0.0) ,cols]"
   ]
  },
  {
   "cell_type": "code",
   "execution_count": 120,
   "metadata": {
    "collapsed": true
   },
   "outputs": [],
   "source": [
    "def categoryEncoding(col,ColName):\n",
    "    colDict = {}\n",
    "    colSet = set([i for i in col])\n",
    "    i = 1\n",
    "    for j in colSet:\n",
    "        colDict[j] = i\n",
    "        i += 1\n",
    "    joblib.dump(colDict, '/home/felix/jupyter/data/dict_'+ColName) \n",
    "    return colDict\n",
    "        \n",
    "def encodingLookup(ColName, val):\n",
    "    colDict = joblib.load('/home/felix/jupyter/data/dict_'+ColName) \n",
    "    if val in colDict:\n",
    "        return colDict[val]\n",
    "    else:\n",
    "        return colDict[max(colDict)] +1"
   ]
  },
  {
   "cell_type": "code",
   "execution_count": 189,
   "metadata": {
    "collapsed": false
   },
   "outputs": [
    {
     "data": {
      "text/plain": [
       "RandomForestRegressor(bootstrap=True, criterion='mse', max_depth=None,\n",
       "           max_features='auto', max_leaf_nodes=None,\n",
       "           min_impurity_split=1e-07, min_samples_leaf=1,\n",
       "           min_samples_split=2, min_weight_fraction_leaf=0.0,\n",
       "           n_estimators=500, n_jobs=1, oob_score=False, random_state=None,\n",
       "           verbose=0, warm_start=False)"
      ]
     },
     "execution_count": 189,
     "metadata": {},
     "output_type": "execute_result"
    }
   ],
   "source": [
    "from sklearn.cross_validation import train_test_split\n",
    "from sklearn.model_selection import cross_val_score\n",
    "from sklearn.ensemble import RandomForestRegressor\n",
    "from sklearn.preprocessing import LabelEncoder \n",
    "from sklearn.preprocessing import StandardScaler\n",
    "\n",
    "df_model = df6.loc[(df6['OTM_ROUTE_CODE']!='') & (df6['SHIPPING_METHOD_CODE']!='') &(df6['CART_DIM']!=0.0) ,cols]\n",
    "cols2 = ['PROMISED_POINT','TO_CITY','ShippingMode','RouteType','OriSLC','DesSLC','Carrier','DeliveryType','DeliveryPriority']\n",
    "for colName in cols2:\n",
    "    le = LabelEncoder()\n",
    "    df_model[colName] = le.fit_transform(df_model[colName])\n",
    "    \n",
    "\n",
    "\n",
    "train_set, test_set = train_test_split(df_model, test_size=0.2, random_state=42)\n",
    "X_train = train_set.iloc[:,1:]\n",
    "\n",
    "#scaler = StandardScaler()\n",
    "#X_train = scaler.fit_transform(X_train)\n",
    "\n",
    "y_train = train_set.iloc[:,0]\n",
    "\n",
    "\n",
    "\n",
    "\n",
    "X_test = test_set.iloc[:,1:]\n",
    "\n",
    "#scaler = StandardScaler()\n",
    "#X_test = scaler.fit_transform(X_test)\n",
    "\n",
    "y_test = test_set.iloc[:,0]\n",
    "\n",
    "\n",
    "regressor = RandomForestRegressor(n_estimators=500)\n",
    "regressor.fit(X_train, y_train)\n",
    "\n"
   ]
  },
  {
   "cell_type": "code",
   "execution_count": 182,
   "metadata": {
    "collapsed": false
   },
   "outputs": [
    {
     "data": {
      "text/plain": [
       "array([[-0.62602187,  0.92970661,  6.40794919, -1.10465527,  1.1409397 ,\n",
       "        -3.34277403, -2.66132363, -2.36045216, -0.43108952, -0.0705132 ,\n",
       "        -0.07177703,  0.26534963,  3.95358067,  1.42477352,  1.19095541],\n",
       "       [-0.82163158, -0.91221213, -0.02080959,  0.13347593,  0.49853565,\n",
       "         0.48264247,  0.20209716, -0.80720575, -0.43108952, -0.0705132 ,\n",
       "        -0.07177703,  0.26534963, -0.28265526, -0.13194701,  0.07534022],\n",
       "       [-0.43041215, -0.91221213,  0.49237503, -1.36906973, -0.78984136,\n",
       "         0.48332717,  1.63380755, -0.28945694,  2.05061226, -0.0705132 ,\n",
       "        -0.07177703,  0.26534963,  2.83381762,  0.79595711, -0.03867626]])"
      ]
     },
     "execution_count": 182,
     "metadata": {},
     "output_type": "execute_result"
    }
   ],
   "source": [
    "df_model[:3]"
   ]
  },
  {
   "cell_type": "code",
   "execution_count": 168,
   "metadata": {
    "collapsed": false
   },
   "outputs": [
    {
     "name": "stdout",
     "output_type": "stream",
     "text": [
      "[ 6.94051188  5.73360534  7.82106416  6.88291871  3.98180063  4.81130468\n",
      "  2.6071789   3.89769391  5.68977779  7.36883537]\n",
      "30483     4\n",
      "37012     6\n",
      "18397    11\n",
      "18245     7\n",
      "8884      2\n",
      "33470     3\n",
      "24742     1\n",
      "30501     2\n",
      "4474     16\n",
      "25980     5\n",
      "Name: ShippingDays, dtype: int64\n"
     ]
    }
   ],
   "source": [
    "from sklearn.preprocessing import PolynomialFeatures\n",
    "poly_features = PolynomialFeatures(degree=2, include_bias=False) \n",
    "X_poly = poly_features.fit_transform(X_train)\n",
    "\n",
    "from sklearn.linear_model import LinearRegression\n",
    "lin_reg = LinearRegression()\n",
    "lin_reg.fit(X_poly, y_train)\n",
    "\n",
    "\n",
    "predict = lin_reg.predict(poly_features.fit_transform(X_test))\n",
    "\n",
    "print predict[40:50]\n",
    "print y_test[40:50]\n"
   ]
  },
  {
   "cell_type": "code",
   "execution_count": 152,
   "metadata": {
    "collapsed": false
   },
   "outputs": [
    {
     "data": {
      "text/plain": [
       "GridSearchCV(cv=5, error_score='raise',\n",
       "       estimator=RandomForestRegressor(bootstrap=True, criterion='mse', max_depth=None,\n",
       "           max_features='auto', max_leaf_nodes=None,\n",
       "           min_impurity_split=1e-07, min_samples_leaf=1,\n",
       "           min_samples_split=2, min_weight_fraction_leaf=0.0,\n",
       "           n_estimators=10, n_jobs=1, oob_score=False, random_state=None,\n",
       "           verbose=0, warm_start=False),\n",
       "       fit_params={}, iid=True, n_jobs=1,\n",
       "       param_grid=[{'n_estimators': [400, 600, 800], 'max_depth': [3, 5, 7]}],\n",
       "       pre_dispatch='2*n_jobs', refit=True, scoring=None, verbose=0)"
      ]
     },
     "execution_count": 152,
     "metadata": {},
     "output_type": "execute_result"
    }
   ],
   "source": [
    "from sklearn.grid_search import GridSearchCV\n",
    "\n",
    "\n",
    "param_grid = [{'n_estimators': [400,600,800], 'max_depth':[3,5,7]}]\n",
    "\n",
    "forest_reg = RandomForestRegressor()\n",
    "grid_search = GridSearchCV(forest_reg, param_grid, cv=5)\n",
    "grid_search.fit(X_train, y_train)\n"
   ]
  },
  {
   "cell_type": "code",
   "execution_count": 153,
   "metadata": {
    "collapsed": false
   },
   "outputs": [
    {
     "data": {
      "text/plain": [
       "[mean: 0.07051, std: 0.00737, params: {'n_estimators': 400, 'max_depth': 3},\n",
       " mean: 0.07064, std: 0.00705, params: {'n_estimators': 600, 'max_depth': 3},\n",
       " mean: 0.07075, std: 0.00710, params: {'n_estimators': 800, 'max_depth': 3},\n",
       " mean: 0.11857, std: 0.00832, params: {'n_estimators': 400, 'max_depth': 5},\n",
       " mean: 0.11920, std: 0.00810, params: {'n_estimators': 600, 'max_depth': 5},\n",
       " mean: 0.11899, std: 0.00841, params: {'n_estimators': 800, 'max_depth': 5},\n",
       " mean: 0.16911, std: 0.00760, params: {'n_estimators': 400, 'max_depth': 7},\n",
       " mean: 0.16944, std: 0.00747, params: {'n_estimators': 600, 'max_depth': 7},\n",
       " mean: 0.16948, std: 0.00775, params: {'n_estimators': 800, 'max_depth': 7}]"
      ]
     },
     "execution_count": 153,
     "metadata": {},
     "output_type": "execute_result"
    }
   ],
   "source": [
    "grid_search.grid_scores_\n"
   ]
  },
  {
   "cell_type": "code",
   "execution_count": 187,
   "metadata": {
    "collapsed": false,
    "scrolled": true
   },
   "outputs": [
    {
     "name": "stdout",
     "output_type": "stream",
     "text": [
      "[  7.67656667   6.03783333   6.79158095  10.58641667   1.438        5.99617128\n",
      "   3.68886667   1.719        7.26943333   9.82576667]\n",
      "30483     4\n",
      "37012     6\n",
      "18397    11\n",
      "18245     7\n",
      "8884      2\n",
      "33470     3\n",
      "24742     1\n",
      "30501     2\n",
      "4474     16\n",
      "25980     5\n",
      "Name: ShippingDays, dtype: int64\n"
     ]
    }
   ],
   "source": [
    "predict = regressor.predict(X_test)\n",
    "\n",
    "print predict[40:50]\n",
    "print y_test[40:50]\n",
    "\n"
   ]
  },
  {
   "cell_type": "code",
   "execution_count": 163,
   "metadata": {
    "collapsed": false
   },
   "outputs": [
    {
     "data": {
      "text/plain": [
       "<matplotlib.collections.PathCollection at 0x11ff33090>"
      ]
     },
     "execution_count": 163,
     "metadata": {},
     "output_type": "execute_result"
    },
    {
     "data": {
      "image/png": "[encoded data removed]",
      "text/plain": [
       "<matplotlib.figure.Figure at 0x11cb514d0>"
      ]
     },
     "metadata": {},
     "output_type": "display_data"
    }
   ],
   "source": [
    "import matplotlib.pyplot as plt\n",
    "%matplotlib inline\n",
    "\n",
    "plt.scatter(range(100),predict[:100])\n"
   ]
  },
  {
   "cell_type": "code",
   "execution_count": 164,
   "metadata": {
    "collapsed": false
   },
   "outputs": [
    {
     "data": {
      "text/plain": [
       "<matplotlib.collections.PathCollection at 0x122632f90>"
      ]
     },
     "execution_count": 164,
     "metadata": {},
     "output_type": "execute_result"
    },
    {
     "data": {
      "image/png": "[encoded data removed]",
      "text/plain": [
       "<matplotlib.figure.Figure at 0x11c825d90>"
      ]
     },
     "metadata": {},
     "output_type": "display_data"
    }
   ],
   "source": [
    "plt.scatter(range(100),y_test[:100])"
   ]
  },
  {
   "cell_type": "code",
   "execution_count": null,
   "metadata": {
    "collapsed": true
   },
   "outputs": [],
   "source": []
  },
  {
   "cell_type": "code",
   "execution_count": 190,
   "metadata": {
    "collapsed": false
   },
   "outputs": [
    {
     "name": "stdout",
     "output_type": "stream",
     "text": [
      "0.256011909764\n"
     ]
    }
   ],
   "source": [
    "print regressor.score(X_test,y_test)\n",
    "\n",
    "#print regressor.feature_importances_\n",
    "#for i in range(len(cols)-1):\n",
    "#    print cols[i+1],regressor.feature_importances_[i]\n",
    "    \n",
    "#s = pd.Series(regressor.feature_importances_,index=cols[1:])\n",
    "#s.sort_values(ascending=False)"
   ]
  },
  {
   "cell_type": "code",
   "execution_count": 119,
   "metadata": {
    "collapsed": false
   },
   "outputs": [
    {
     "data": {
      "text/plain": [
       "2"
      ]
     },
     "execution_count": 119,
     "metadata": {},
     "output_type": "execute_result"
    }
   ],
   "source": [
    "regressor = RandomForestRegressor(n_estimators=500,max_features=8)\n",
    "regressor.fit(X_train, y_train)\n",
    "\n",
    "X_test = test_set.iloc[:,1:]\n",
    "y_test = test_set['ShippingDays']\n",
    "regressor.score(X_test,y_test)"
   ]
  },
  {
   "cell_type": "code",
   "execution_count": 117,
   "metadata": {
    "collapsed": false
   },
   "outputs": [
    {
     "ename": "ValueError",
     "evalue": "could not convert string to float: LTL",
     "output_type": "error",
     "traceback": [
      "\u001b[0;31m---------------------------------------------------------------------------\u001b[0m",
      "\u001b[0;31mValueError\u001b[0m                                Traceback (most recent call last)",
      "\u001b[0;32m<ipython-input-117-4ee5c58372e6>\u001b[0m in \u001b[0;36m<module>\u001b[0;34m()\u001b[0m\n\u001b[1;32m      1\u001b[0m \u001b[0mregressor\u001b[0m\u001b[0;34m.\u001b[0m\u001b[0mfit\u001b[0m\u001b[0;34m(\u001b[0m\u001b[0mX_train\u001b[0m\u001b[0;34m,\u001b[0m \u001b[0my_train\u001b[0m\u001b[0;34m)\u001b[0m\u001b[0;34m\u001b[0m\u001b[0m\n\u001b[0;32m----> 2\u001b[0;31m \u001b[0mregressor\u001b[0m\u001b[0;34m.\u001b[0m\u001b[0mpredict\u001b[0m\u001b[0;34m(\u001b[0m\u001b[0mtest_set\u001b[0m\u001b[0;34m.\u001b[0m\u001b[0miloc\u001b[0m\u001b[0;34m[\u001b[0m\u001b[0;36m0\u001b[0m\u001b[0;34m,\u001b[0m\u001b[0;36m1\u001b[0m\u001b[0;34m:\u001b[0m\u001b[0;34m]\u001b[0m\u001b[0;34m)\u001b[0m\u001b[0;34m\u001b[0m\u001b[0m\n\u001b[0m",
      "\u001b[0;32m/Users/edwzhang/anaconda/lib/python2.7/site-packages/sklearn/ensemble/forest.pyc\u001b[0m in \u001b[0;36mpredict\u001b[0;34m(self, X)\u001b[0m\n\u001b[1;32m    683\u001b[0m         \"\"\"\n\u001b[1;32m    684\u001b[0m         \u001b[0;31m# Check data\u001b[0m\u001b[0;34m\u001b[0m\u001b[0;34m\u001b[0m\u001b[0m\n\u001b[0;32m--> 685\u001b[0;31m         \u001b[0mX\u001b[0m \u001b[0;34m=\u001b[0m \u001b[0mself\u001b[0m\u001b[0;34m.\u001b[0m\u001b[0m_validate_X_predict\u001b[0m\u001b[0;34m(\u001b[0m\u001b[0mX\u001b[0m\u001b[0;34m)\u001b[0m\u001b[0;34m\u001b[0m\u001b[0m\n\u001b[0m\u001b[1;32m    686\u001b[0m \u001b[0;34m\u001b[0m\u001b[0m\n\u001b[1;32m    687\u001b[0m         \u001b[0;31m# Assign chunk of trees to jobs\u001b[0m\u001b[0;34m\u001b[0m\u001b[0;34m\u001b[0m\u001b[0m\n",
      "\u001b[0;32m/Users/edwzhang/anaconda/lib/python2.7/site-packages/sklearn/ensemble/forest.pyc\u001b[0m in \u001b[0;36m_validate_X_predict\u001b[0;34m(self, X)\u001b[0m\n\u001b[1;32m    353\u001b[0m                                  \"call `fit` before exploiting the model.\")\n\u001b[1;32m    354\u001b[0m \u001b[0;34m\u001b[0m\u001b[0m\n\u001b[0;32m--> 355\u001b[0;31m         \u001b[0;32mreturn\u001b[0m \u001b[0mself\u001b[0m\u001b[0;34m.\u001b[0m\u001b[0mestimators_\u001b[0m\u001b[0;34m[\u001b[0m\u001b[0;36m0\u001b[0m\u001b[0;34m]\u001b[0m\u001b[0;34m.\u001b[0m\u001b[0m_validate_X_predict\u001b[0m\u001b[0;34m(\u001b[0m\u001b[0mX\u001b[0m\u001b[0;34m,\u001b[0m \u001b[0mcheck_input\u001b[0m\u001b[0;34m=\u001b[0m\u001b[0mTrue\u001b[0m\u001b[0;34m)\u001b[0m\u001b[0;34m\u001b[0m\u001b[0m\n\u001b[0m\u001b[1;32m    356\u001b[0m \u001b[0;34m\u001b[0m\u001b[0m\n\u001b[1;32m    357\u001b[0m     \u001b[0;34m@\u001b[0m\u001b[0mproperty\u001b[0m\u001b[0;34m\u001b[0m\u001b[0m\n",
      "\u001b[0;32m/Users/edwzhang/anaconda/lib/python2.7/site-packages/sklearn/tree/tree.pyc\u001b[0m in \u001b[0;36m_validate_X_predict\u001b[0;34m(self, X, check_input)\u001b[0m\n\u001b[1;32m    363\u001b[0m \u001b[0;34m\u001b[0m\u001b[0m\n\u001b[1;32m    364\u001b[0m         \u001b[0;32mif\u001b[0m \u001b[0mcheck_input\u001b[0m\u001b[0;34m:\u001b[0m\u001b[0;34m\u001b[0m\u001b[0m\n\u001b[0;32m--> 365\u001b[0;31m             \u001b[0mX\u001b[0m \u001b[0;34m=\u001b[0m \u001b[0mcheck_array\u001b[0m\u001b[0;34m(\u001b[0m\u001b[0mX\u001b[0m\u001b[0;34m,\u001b[0m \u001b[0mdtype\u001b[0m\u001b[0;34m=\u001b[0m\u001b[0mDTYPE\u001b[0m\u001b[0;34m,\u001b[0m \u001b[0maccept_sparse\u001b[0m\u001b[0;34m=\u001b[0m\u001b[0;34m\"csr\"\u001b[0m\u001b[0;34m)\u001b[0m\u001b[0;34m\u001b[0m\u001b[0m\n\u001b[0m\u001b[1;32m    366\u001b[0m             if issparse(X) and (X.indices.dtype != np.intc or\n\u001b[1;32m    367\u001b[0m                                 X.indptr.dtype != np.intc):\n",
      "\u001b[0;32m/Users/edwzhang/anaconda/lib/python2.7/site-packages/sklearn/utils/validation.pyc\u001b[0m in \u001b[0;36mcheck_array\u001b[0;34m(array, accept_sparse, dtype, order, copy, force_all_finite, ensure_2d, allow_nd, ensure_min_samples, ensure_min_features, warn_on_dtype, estimator)\u001b[0m\n\u001b[1;32m    380\u001b[0m                                       force_all_finite)\n\u001b[1;32m    381\u001b[0m     \u001b[0;32melse\u001b[0m\u001b[0;34m:\u001b[0m\u001b[0;34m\u001b[0m\u001b[0m\n\u001b[0;32m--> 382\u001b[0;31m         \u001b[0marray\u001b[0m \u001b[0;34m=\u001b[0m \u001b[0mnp\u001b[0m\u001b[0;34m.\u001b[0m\u001b[0marray\u001b[0m\u001b[0;34m(\u001b[0m\u001b[0marray\u001b[0m\u001b[0;34m,\u001b[0m \u001b[0mdtype\u001b[0m\u001b[0;34m=\u001b[0m\u001b[0mdtype\u001b[0m\u001b[0;34m,\u001b[0m \u001b[0morder\u001b[0m\u001b[0;34m=\u001b[0m\u001b[0morder\u001b[0m\u001b[0;34m,\u001b[0m \u001b[0mcopy\u001b[0m\u001b[0;34m=\u001b[0m\u001b[0mcopy\u001b[0m\u001b[0;34m)\u001b[0m\u001b[0;34m\u001b[0m\u001b[0m\n\u001b[0m\u001b[1;32m    383\u001b[0m \u001b[0;34m\u001b[0m\u001b[0m\n\u001b[1;32m    384\u001b[0m         \u001b[0;32mif\u001b[0m \u001b[0mensure_2d\u001b[0m\u001b[0;34m:\u001b[0m\u001b[0;34m\u001b[0m\u001b[0m\n",
      "\u001b[0;31mValueError\u001b[0m: could not convert string to float: LTL"
     ]
    }
   ],
   "source": [
    "regressor.fit(X_train, y_train)\n",
    "regressor.predict(test_set.iloc[0,1:])"
   ]
  },
  {
   "cell_type": "code",
   "execution_count": 114,
   "metadata": {
    "collapsed": false
   },
   "outputs": [
    {
     "data": {
      "text/plain": [
       "ShippingDays                  3\n",
       "PROMISED_POINT          ARRIVAL\n",
       "WEIGHT                  4.27696\n",
       "TO_CITY                 Swindon\n",
       "SHIP_FROM_ORG_ID           2725\n",
       "ShippingMode                AIR\n",
       "RouteType                   CDC\n",
       "OriSLC              SLCROERMOND\n",
       "DesSLC                       NA\n",
       "Carrier                     CPU\n",
       "DeliveryType                  L\n",
       "DeliveryPriority            LTL\n",
       "Length                     16.5\n",
       "Width                      5.94\n",
       "Height                     4.75\n",
       "Name: 27264, dtype: object"
      ]
     },
     "execution_count": 114,
     "metadata": {},
     "output_type": "execute_result"
    }
   ],
   "source": [
    "#df_model['ShippingMode'].value_counts()\n",
    "#train_set['ShippingMode'].value_counts()\n",
    "test_set.iloc[0]"
   ]
  },
  {
   "cell_type": "code",
   "execution_count": null,
   "metadata": {
    "collapsed": true
   },
   "outputs": [],
   "source": [
    "X = np.asarray([('a',1,2),('b',2,3),('a',3,2),('c',1,3)]) \n",
    "y = np.asarray([1,2.5,3,4])\n",
    "\n",
    "# transform 1st column to numbers\n",
    "X[:, 0] = LabelEncoder().fit_transform(X[:,0]) \n",
    "\n",
    "cross_val_score(sgd_clf, X_train, y_train_5, cv=3, scoring=\"accuracy\")\n",
    "\n",
    "regressor = RandomForestRegressor(n_estimators=150, min_samples_split=1)\n",
    "regressor.fit(X, y)\n",
    "print X\n",
    "print regressor.predict(X)"
   ]
  },
  {
   "cell_type": "code",
   "execution_count": null,
   "metadata": {
    "collapsed": false
   },
   "outputs": [],
   "source": [
    "\n",
    "df.loc[df['CONTAINER ID'] == '#*##92*%69',].sort_index(by='DATE')"
   ]
  },
  {
   "cell_type": "code",
   "execution_count": null,
   "metadata": {
    "collapsed": false
   },
   "outputs": [],
   "source": [
    "df_detail = pd.read_excel('/Users/edwzhang/Downloads/Shipment Execution-selected/Shipment Exec Jan 3.xls')\n"
   ]
  },
  {
   "cell_type": "code",
   "execution_count": null,
   "metadata": {
    "collapsed": false
   },
   "outputs": [],
   "source": [
    "#df1['CARTON_ID'].value_counts()\n",
    "#df1.loc[df1['CARTON_ID'] == '#*6#*@9%@9%',]\n",
    "df_detail= df_detail.drop(['CONTAINER_TYPE','DIM_UOM','WEIGHT_UOM','SO_HEADER_ID','PO_NUMBER','SO_LINE_ID','EARLY_DELIVERY_ACCEPT_FLAG','SHIPPING_INSTRUCTIONS','SERVICE_ATTACHED','CUST_PO_NUMBER','CUST_DELIV_ACCPT_REQRD','INSURRED','DUTY_ATTRIBUTE','EXPORT_LICENSE_REQD','EXPEDITED','PRE_DELIV_INSPECTION','ACTION_STATUS','RECOMMITTED','MFG_COMPLEXITY','COMP_LABEL','SOFTWARE_INCLUDED'], axis=1)\n",
    "df_detail=df_detail.drop_duplicates()"
   ]
  },
  {
   "cell_type": "code",
   "execution_count": null,
   "metadata": {
    "collapsed": false
   },
   "outputs": [],
   "source": [
    "\n",
    "df3 = pd.merge(df_detail,df_ship,left_on= 'CARTON_ID',right_on='CONTAINER ID')"
   ]
  },
  {
   "cell_type": "code",
   "execution_count": null,
   "metadata": {
    "collapsed": false
   },
   "outputs": [],
   "source": [
    "#df3['CARTON_ID'].value_counts()\n",
    "df3.loc[df3['CONTAINER ID'] == '#*6#*92@6%*',['FROM_CITY','TO_CITY','TRIM(OEL.PROMISE_DATE)','ACTUAL_SHIPMENT_DATE','STATUS','DATE','LOCATION']].sort_index(by='DATE')\n"
   ]
  },
  {
   "cell_type": "code",
   "execution_count": null,
   "metadata": {
    "collapsed": false
   },
   "outputs": [],
   "source": [
    "df_ship.groupby('CONTAINER ID').size()"
   ]
  },
  {
   "cell_type": "code",
   "execution_count": null,
   "metadata": {
    "collapsed": false
   },
   "outputs": [],
   "source": []
  }
 ],
 "metadata": {
  "anaconda-cloud": {},
  "kernelspec": {
   "display_name": "Python [Root]",
   "language": "python",
   "name": "Python [Root]"
  },
  "language_info": {
   "codemirror_mode": {
    "name": "ipython",
    "version": 2
   },
   "file_extension": ".py",
   "mimetype": "text/x-python",
   "name": "python",
   "nbconvert_exporter": "python",
   "pygments_lexer": "ipython2",
   "version": "2.7.12"
  }
 },
 "nbformat": 4,
 "nbformat_minor": 0
}
